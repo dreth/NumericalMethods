{
 "metadata": {
  "language_info": {
   "codemirror_mode": {
    "name": "ipython",
    "version": 3
   },
   "file_extension": ".py",
   "mimetype": "text/x-python",
   "name": "python",
   "nbconvert_exporter": "python",
   "pygments_lexer": "ipython3",
   "version": "3.7.8-final"
  },
  "orig_nbformat": 2,
  "kernelspec": {
   "name": "Python 3.7.8 64-bit ('nummethods': conda)",
   "display_name": "Python 3.7.8 64-bit ('nummethods': conda)",
   "metadata": {
    "interpreter": {
     "hash": "44a90b8c0c2b56e1b7c7e9c11eeb3509ad2ed5005236e2a04392aa8b65363be8"
    }
   }
  }
 },
 "nbformat": 4,
 "nbformat_minor": 2,
 "cells": [
  {
   "source": [
    "<style>img {width: 700px;}</style>",
    "\n",
    "\n"
   ],
   "cell_type": "markdown",
   "metadata": {}
  },
  {
   "source": [
    "<img src=\"./images/title.png\"/>\n",
    "\n",
    "\n"
   ],
   "cell_type": "markdown",
   "metadata": {}
  },
  {
   "source": [
    "<img src=\"./images/prob_1/p1.png\"/>"
   ],
   "cell_type": "markdown",
   "metadata": {}
  },
  {
   "source": [
    "<img src=\"./images/prob_1/a.png\"/>"
   ],
   "cell_type": "markdown",
   "metadata": {}
  },
  {
   "source": [
    "Dual problem presented in problem 1 :\n",
    "\n",
    "minimize   $12\\pi_{1} + 8\\pi_{2}$\n",
    "\n",
    "subject to : \n",
    "\n",
    "$x_{1}: 4\\pi_{1} + \\pi_{2} \\geq 1 \\\\\n",
    "x_{2}: \\pi_{1} + 2\\pi_{2} \\geq 2 \\\\\n",
    "x_{3}: 3\\pi_{1} - 2\\pi_{2} \\geq -8$"
   ],
   "cell_type": "markdown",
   "metadata": {}
  },
  {
   "source": [
    "### Feasable region plot\n",
    "<img src=\"./images/fig1.png\" style=\"width:460px;\"/>\n",
    "\n",
    "Figure 1\n"
   ],
   "cell_type": "markdown",
   "metadata": {}
  },
  {
   "source": [
    "### Feasable solutions\n",
    "<img src=\"./images/fig2.png\" style=\"width:460px;\"/>\n",
    "\n",
    "Figure 2\n"
   ],
   "cell_type": "markdown",
   "metadata": {}
  },
  {
   "source": [
    "As we can see in Figure 2, all feasable solutions lie in the feasable region's edge $x_{2}: \\pi_{1} + 2\\pi_{2} = 2$. Such line segment has vertex $(0,1)$, which is optimal. It has parametric equations:\n",
    "\n",
    "$(\\pi_{1}^{*},\\pi_{2}^{*}) = (0,1) + \\lambda$\n",
    "\n"
   ],
   "cell_type": "markdown",
   "metadata": {}
  },
  {
   "source": [
    "<img src=\"./images/prob_1/b.png\"/>"
   ],
   "cell_type": "markdown",
   "metadata": {}
  },
  {
   "source": [
    "#### Optimality condition 1: \n",
    "$\\bf{x^{*}}$ is primal feasable as it satisfies the inequalities in the primal problem\n",
    "\n",
    "#### Optimality condition 2:\n",
    "$\\bf{\\pi^{*}}$ is dual feasable as it satisfies the inequalities in the dual problem\n",
    "\n",
    "#### Optimality condition 3:\n",
    "Complementary slackness:\n",
    "\n",
    "$x_{3}: 3\\pi_{1} - 2\\pi_{2} \\geq -8$ always holds\n",
    "\n",
    "- therefore: $x_{3} = 0$\n",
    "\n",
    "Then we have:\n",
    "\n",
    "$4x_{1} + x_{2} = 12 \\\\\n",
    "x_{1} + 2x_{2} = 8 \\\\\n",
    "x_{1} \\geq 0, x_{2} \\geq 0$\n",
    "\n",
    "Solving for $x_{1}$ and $x_{2}$:\n",
    "\n",
    "$x_{2} = 12 - 4x_{1} \\\\\n",
    "x_{1} - 8x_{1} + 24 = 8 \\\\\n",
    "-7x_{1} = -16$\n",
    "\n",
    "Which results in:\n",
    "\n",
    "$x_{1} = \\frac{16}{7} \\\\\n",
    "x_{2} = \\frac{20}{7}$\n",
    "\n",
    " - therefore ${\\bf x^{*}} = (\\frac{16}{7}, \\frac{20}{7}, 0)$\n",
    "\n",
    "\n"
   ],
   "cell_type": "markdown",
   "metadata": {}
  },
  {
   "source": [
    "<img src=\"./images/prob_1/c.png\"/>"
   ],
   "cell_type": "markdown",
   "metadata": {}
  },
  {
   "source": [
    "The reduced costs of the primal variables are computed as following:\n",
    "\n",
    "$\\bar{c_{1}} = 4\\pi_{1}^{*} + \\pi_{2}^{*} - 1 = 4\\lambda + 1 - \\frac{\\lambda}{2} - 1 = \\frac{7\\lambda}{2}  \\\\\n",
    "\\bar{c_{2}} = \\pi_{1}^{*} + 2\\pi_{2}^{*} - 2 = \\lambda + 2 - \\lambda - 2 = 0 \\\\\n",
    "\\bar{c_{3}} = 3\\pi_{1}^{*} - 2\\pi_{2}^{*} + 8 = 3\\lambda - 2 - \\lambda + 8 = 2\\lambda + 6$\n",
    "\n",
    "Where $\\bf{\\pi^{*}}$ is a dual optimal solution\n",
    " - therefore, the reduced costs are not unique"
   ],
   "cell_type": "markdown",
   "metadata": {}
  },
  {
   "source": [
    "<img src=\"./images/prob_1/d.png\"/>"
   ],
   "cell_type": "markdown",
   "metadata": {}
  },
  {
   "source": [
    "primal problem:\n",
    "\n",
    "maximize $x_{1} + 2x_{2} - 8x_{3}$\n",
    "\n",
    "subject to :\n",
    "\n",
    "$4x_{1} + x_{2} + 3x_{3} = 12 \\\\\n",
    "x_{1} + 2x_{2} - 2x_{3} = 8 \\\\\n",
    "x_{1} \\geq 0, x_{2} \\geq 0, x_{3} \\geq 0$"
   ],
   "cell_type": "markdown",
   "metadata": {}
  },
  {
   "source": [
    "Let's consider $\\bf{\\pi^{*}} = (0,1)$ we have $x_{3} = 0$ and then:\n",
    "\n",
    "$4x_{1} + x_{2} = 12 + \\Delta b_{1} \\\\\n",
    "x_{1} + 2x_{2} = 8 + \\Delta b_{2}$\n",
    "\n",
    "Solving we get:\n",
    "\n",
    "$\\hat{x}^{*} = (\\frac{1}{7} (2\\Delta b_{1} - \\Delta b_{2} + 16), \\frac{1}{7} (-\\Delta b_{1} + 4\\Delta b_{2} + 20), 0)$\n",
    "\n",
    "Imposing primal feasability returns:\n",
    "\n",
    "$2\\Delta b_{1} - \\Delta b_{2} \\geq -16 \\\\\n",
    "-\\Delta b_{1} + 4\\Delta b_{2} \\geq -20$\n",
    "\n",
    "As a result: if $\\Delta b_{1} = 0$ then $\\Delta b_{2} \\in [-5, 16]$ and if $\\Delta b_{2} = 0$ then $\\Delta b_{1} \\in [-8, 20]$\n",
    "\n"
   ],
   "cell_type": "markdown",
   "metadata": {}
  },
  {
   "source": [
    "<img src=\"./images/prob_1/e.png\"/>"
   ],
   "cell_type": "markdown",
   "metadata": {}
  },
  {
   "source": [
    "The primal problem only has one feasable solution, so the optimal solution $\\bf{x^{*}}$ remains optimal for the following modified problem:\n",
    "\n",
    "maximize $(1 + \\Delta r_{1})x_{1} + (2 + \\Delta r_{2})x_{2} - (8 + \\Delta r_{3})x_{3}$\n",
    "\n",
    "subject to :\n",
    "\n",
    "$4x_{1} + x_{2} + 3x_{3} = 12 \\\\\n",
    "x_{1} + 2x_{2} - 2x_{3} = 8 \\\\\n",
    "x_{1} \\geq 0, x_{2} \\geq 0, x_{3} \\geq 0$"
   ],
   "cell_type": "markdown",
   "metadata": {}
  },
  {
   "source": [
    "Following a standard analysis, we consider ${\\bf\\hat{x}^{*}} = (\\frac{16}{7}, \\frac{20}{7}, 0)$\n",
    "\n",
    "By complementary slackness we formulate the following 2 systems of linear equations:"
   ],
   "cell_type": "markdown",
   "metadata": {}
  },
  {
   "source": [
    "#### system 1:\n",
    "\n",
    "$4\\pi_{1} + \\pi_{2} = 1 + \\Delta r_{1} \\\\\n",
    "\\pi_{1} + 2\\pi_{2} = 2 + \\Delta r_{2}$\n",
    "\n",
    "resulting in: \n",
    "\n",
    "$\\hat{\\pi}^{*} = (\\frac{1}{7} (2\\Delta r_{1} - \\Delta r_{2}), \\frac{1}{7} (7 - \\Delta r_{1} + 4\\Delta b_{2}))$\n",
    "\n",
    "Dual feasability means that:\n",
    "\n",
    "\n",
    "$3\\hat{\\pi}^{*}_{1} + 2\\hat{\\pi}^{*}_{2} + 8 - \\Delta r_{3} = \\frac{1}{7} (42 + 8\\Delta r_{1} - 11\\Delta r_{2} - 7\\Delta r_{3})$\n",
    "\n",
    "and:\n",
    "\n",
    "$8\\Delta r_{1} - 11\\Delta r_{2} - 7\\Delta r_{3} \\geq -42$\n",
    "\n",
    "So, if:\n",
    "\n",
    "$\\Delta r_{1} = 0, \\Delta r_{2} = 0$, then $\\Delta r_{3} \\leq 6$\n",
    "\n",
    "$\\Delta r_{1} = 0, \\Delta r_{3} = 0$, then $\\Delta r_{2} \\leq \\frac{42}{11}$\n",
    "\n",
    "$\\Delta r_{2} = 0, \\Delta r_{3} = 0$, then $\\Delta r_{1} \\geq \\frac{-21}{4}$"
   ],
   "cell_type": "markdown",
   "metadata": {}
  },
  {
   "source": [
    "#### system 2:\n",
    "\n",
    "$\\pi_{1} + 2\\pi_{2} = 2 + \\Delta r_{2} \\\\\n",
    "3\\pi_{1} - 2\\pi_{2} = -8 + \\Delta r_{3}$\n",
    "\n",
    "resulting in: \n",
    "\n",
    "$\\hat{\\pi}^{*} = (\\frac{1}{4} (- 14 - 3\\Delta r_{2} + \\Delta r_{3}), \\frac{1}{4} (- 20 -2\\frac{1}{2}\\Delta r_{2} + 2\\frac{1}{2}\\Delta r_{3}))$\n",
    "\n",
    "Dual feasability means that:\n",
    "\n",
    "\n",
    "$4\\hat{\\pi}^{*}_{1} + \\hat{\\pi}^{*}_{2} -1 - \\Delta r_{1} = \\frac{1}{4} (- 98 - 4\\Delta r_{1} - 11\\Delta r_{2} + 9\\Delta r_{3})$\n",
    "\n",
    "and:\n",
    "\n",
    "$-4\\Delta r_{1} - 11\\Delta r_{2} + 9\\Delta r_{3} \\geq 98$\n",
    "\n",
    "So, if:\n",
    "\n",
    "$\\Delta r_{1} = 0, \\Delta r_{2} = 0$, then $\\Delta r_{3} \\geq \\frac{98}{9}$\n",
    "\n",
    "$\\Delta r_{1} = 0, \\Delta r_{3} = 0$, then $\\Delta r_{2} \\leq \\frac{98}{11}$\n",
    "\n",
    "$\\Delta r_{2} = 0, \\Delta r_{3} = 0$, then $\\Delta r_{1} \\leq \\frac{-49}{2}$"
   ],
   "cell_type": "markdown",
   "metadata": {}
  },
  {
   "source": [
    "Combining both cases we obtain that $\\bf x^{*}$ is optimal for any $\\Delta r_{j} \\in \\mathbb{R}$"
   ],
   "cell_type": "markdown",
   "metadata": {}
  },
  {
   "source": [
    "<img src=\"./images/prob_2/p2.png\"/>"
   ],
   "cell_type": "markdown",
   "metadata": {}
  },
  {
   "source": [
    "<img src=\"./images/prob_2/a.png\"/>"
   ],
   "cell_type": "markdown",
   "metadata": {}
  },
  {
   "source": [
    "The primal LO formulation for LR with MAE criterion as seen in class has the following parameters:\n",
    "\n",
    "- Objective: minimize $\\sum_{i=1}^{n} (e_{i}^{+} + e_{i}^{-})$\n",
    "\n",
    "- Subject to the following constraints: \n",
    "    - $(e_{i}^{+} - e_{i}^{-}) + b_{0} + x_{i1} b_{1} + \\dots + x_{im} b_{m} = y_{i}$ $i = 1, \\dots, n$\n",
    "\n",
    "    - $e_{i}^{+}, e_{i}^{-} \\geq 0,$ $i = 1, \\dots, n$"
   ],
   "cell_type": "markdown",
   "metadata": {}
  },
  {
   "source": [
    "# importing libraries\n",
    "import gurobipy as gp\n",
    "from gurobipy import GRB"
   ],
   "cell_type": "code",
   "metadata": {},
   "execution_count": 8,
   "outputs": []
  },
  {
   "cell_type": "code",
   "execution_count": 9,
   "metadata": {},
   "outputs": [],
   "source": [
    "# creating multidict with observations\n",
    "observations, x, y = gp.multidict({\n",
    "    ('1'): [30.1,176.2],\n",
    "    ('2'): [29.5,176.8],\n",
    "    ('3'): [30.4,184.2],\n",
    "    ('4'): [31.6,173.2],\n",
    "    ('5'): [27.4,172.8],\n",
    "    ('6'): [28.3,174.1],\n",
    "    ('7'): [33.4,180.5],\n",
    "})"
   ]
  },
  {
   "cell_type": "code",
   "execution_count": 10,
   "metadata": {},
   "outputs": [],
   "source": [
    "model = gp.Model('CurveFitting')\n",
    "\n",
    "# Constant term of the function f(x). This is a free continuous variable that can take positive and negative values. \n",
    "a = model.addVar(lb=-GRB.INFINITY, ub=GRB.INFINITY, vtype=GRB.CONTINUOUS, name=\"a\")\n",
    "\n",
    "# Coefficient of the linear term of the function f(x). This is a free continuous variable that can take positive \n",
    "# and negative values.\n",
    "b = model.addVar(lb=-GRB.INFINITY, ub=GRB.INFINITY, vtype=GRB.CONTINUOUS, name=\"b\")\n",
    "\n",
    "# Non-negative continuous variables that capture the positive deviations\n",
    "e_plus = model.addVars(observations, vtype=GRB.CONTINUOUS, name=\"e_plus\")\n",
    "\n",
    "# Non-negative continuous variables that capture the negative deviations\n",
    "e_neg = model.addVars(observations, vtype=GRB.CONTINUOUS, name=\"e_neg\")\n",
    "\n",
    "# Non-negative continuous variables that capture the value of the maximum deviation\n",
    "z = model.addVar(vtype=GRB.CONTINUOUS, name=\"z\")"
   ]
  },
  {
   "cell_type": "code",
   "execution_count": 11,
   "metadata": {},
   "outputs": [
    {
     "output_type": "stream",
     "name": "stdout",
     "text": [
      "Gurobi Optimizer version 9.0.3 build v9.0.3rc0 (linux64)\n",
      "Optimize a model with 7 rows, 17 columns and 28 nonzeros\n",
      "Model fingerprint: 0xc72524f5\n",
      "Coefficient statistics:\n",
      "  Matrix range     [1e+00, 3e+01]\n",
      "  Objective range  [1e+00, 1e+00]\n",
      "  Bounds range     [0e+00, 0e+00]\n",
      "  RHS range        [2e+02, 2e+02]\n",
      "Presolve removed 0 rows and 1 columns\n",
      "Presolve time: 0.00s\n",
      "Presolved: 7 rows, 16 columns, 28 nonzeros\n",
      "\n",
      "Iteration    Objective       Primal Inf.    Dual Inf.      Time\n",
      "       0      handle free variables                          0s\n",
      "       7    1.4029412e+01   0.000000e+00   0.000000e+00      0s\n",
      "\n",
      "Solved in 7 iterations and 0.00 seconds\n",
      "Optimal objective  1.402941176e+01\n"
     ]
    }
   ],
   "source": [
    "# Deviation constraints\n",
    "\n",
    "deviations = model.addConstrs( (b*x[i] + a + e_plus[i] - e_neg[i] == y[i] for i in observations), name='deviations')\n",
    "\n",
    "# Objective function of problem 1\n",
    "\n",
    "model.setObjective(e_plus.sum('*') + e_neg.sum('*'))\n",
    "\n",
    "# Verify model formulation\n",
    "\n",
    "model.write('CurveFitting.lp')\n",
    "\n",
    "# Run optimization engine\n",
    "\n",
    "model.optimize()"
   ]
  },
  {
   "cell_type": "code",
   "execution_count": 12,
   "metadata": {},
   "outputs": [
    {
     "output_type": "stream",
     "name": "stdout",
     "text": [
      "y = 1.2549x + (138.5863)\n"
     ]
    }
   ],
   "source": [
    "# The best straight line that minimizes the absolute value of the deviations is:\n",
    "print(f\"y = {b.x:.4f}x + ({a.x:.4f})\")"
   ]
  },
  {
   "cell_type": "code",
   "execution_count": 13,
   "metadata": {},
   "outputs": [
    {
     "output_type": "stream",
     "name": "stdout",
     "text": [
      "Gurobi Optimizer version 9.0.3 build v9.0.3rc0 (linux64)\n",
      "Optimize a model with 21 rows, 17 columns and 56 nonzeros\n",
      "Coefficient statistics:\n",
      "  Matrix range     [1e+00, 3e+01]\n",
      "  Objective range  [1e+00, 1e+00]\n",
      "  Bounds range     [0e+00, 0e+00]\n",
      "  RHS range        [2e+02, 2e+02]\n",
      "Iteration    Objective       Primal Inf.    Dual Inf.      Time\n",
      "       0    0.0000000e+00   1.402941e+01   0.000000e+00      0s\n",
      "       4    5.5571429e+00   0.000000e+00   0.000000e+00      0s\n",
      "\n",
      "Solved in 4 iterations and 0.00 seconds\n",
      "Optimal objective  5.557142857e+00\n"
     ]
    }
   ],
   "source": [
    "# Maximum deviation constraints\n",
    "\n",
    "maxPositive_deviation = model.addConstrs( (z >= e_plus[i] for i in observations), name='maxPositive_deviation')\n",
    "\n",
    "maxNegative_deviation = model.addConstrs( (z >= e_neg[i] for i in observations), name='maxNegative_deviation')\n",
    "\n",
    "# Objective function for Problem 2\n",
    "\n",
    "model.setObjective(z)\n",
    "\n",
    "# Run optimization engine\n",
    "\n",
    "model.optimize()"
   ]
  },
  {
   "cell_type": "code",
   "execution_count": 14,
   "metadata": {},
   "outputs": [
    {
     "output_type": "stream",
     "name": "stdout",
     "text": [
      "y = 0.0952x + (175.7476)\n"
     ]
    }
   ],
   "source": [
    "# The best straight line that minimizes the maximum deviation is: \n",
    "print(f\"y = {b.x:.4f}x + ({a.x:.4f})\")"
   ]
  },
  {
   "source": [
    "<img src=\"./images/prob_2/b.png\"/>"
   ],
   "cell_type": "markdown",
   "metadata": {}
  },
  {
   "source": [
    "The prediction equation (representing the optimal solution) resulting from the implementation is $\\hat{y} = 1.2549x + 138.5863$. "
   ],
   "cell_type": "markdown",
   "metadata": {}
  },
  {
   "cell_type": "code",
   "execution_count": null,
   "metadata": {},
   "outputs": [],
   "source": []
  }
 ]
}
