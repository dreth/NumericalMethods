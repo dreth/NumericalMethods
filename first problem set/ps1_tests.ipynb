{
 "metadata": {
  "language_info": {
   "codemirror_mode": {
    "name": "ipython",
    "version": 3
   },
   "file_extension": ".py",
   "mimetype": "text/x-python",
   "name": "python",
   "nbconvert_exporter": "python",
   "pygments_lexer": "ipython3",
   "version": "3.7.8-final"
  },
  "orig_nbformat": 2,
  "kernelspec": {
   "name": "Python 3.7.8 64-bit ('nummethods': conda)",
   "display_name": "Python 3.7.8 64-bit ('nummethods': conda)",
   "metadata": {
    "interpreter": {
     "hash": "44a90b8c0c2b56e1b7c7e9c11eeb3509ad2ed5005236e2a04392aa8b65363be8"
    }
   }
  }
 },
 "nbformat": 4,
 "nbformat_minor": 2,
 "cells": [
  {
   "source": [
    "<img src=\"./images/title.png\"/>\n",
    "\n",
    "\n"
   ],
   "cell_type": "markdown",
   "metadata": {}
  },
  {
   "source": [
    "<img src=\"./images/prob_1/p1.png\"/>"
   ],
   "cell_type": "markdown",
   "metadata": {}
  },
  {
   "source": [
    "<img src=\"./images/prob_1/a.png\"/>"
   ],
   "cell_type": "markdown",
   "metadata": {}
  },
  {
   "source": [
    "Dual problem presented in problem 1 :\n",
    "\n",
    "minimize   $12\\pi_{1} + 8\\pi_{2}$\n",
    "\n",
    "subject to : \n",
    "\n",
    "$x_{1}: 4\\pi_{1} + \\pi_{2} \\geq 1 \\\\\n",
    "x_{2}: \\pi_{1} + 2\\pi_{2} \\geq 2 \\\\\n",
    "x_{3}: 3\\pi_{1} - 2\\pi_{2} \\geq -8$"
   ],
   "cell_type": "markdown",
   "metadata": {}
  },
  {
   "source": [
    "### Feasable region plot\n",
    "<img src=\"./images/fig1.png\" style=\"width:460px;\"/>\n",
    "\n",
    "Figure 1\n"
   ],
   "cell_type": "markdown",
   "metadata": {}
  },
  {
   "source": [
    "### Feasable solutions\n",
    "<img src=\"./images/fig2.png\" style=\"width:460px;\"/>\n",
    "\n",
    "Figure 2\n"
   ],
   "cell_type": "markdown",
   "metadata": {}
  },
  {
   "source": [
    "As we can see in Figure 2, all feasable solutions would lie in the feasable region's edge $x_{2}: \\pi_{1} + 2\\pi_{2} = 2$. Such line segment has vertex $(0,1)$, which is optimal and unique.\n",
    "\n",
    "$(\\pi_{1}^{*},\\pi_{2}^{*}) = (0,1)$\n",
    "\n"
   ],
   "cell_type": "markdown",
   "metadata": {}
  },
  {
   "source": [
    "<img src=\"./images/prob_1/b.png\"/>"
   ],
   "cell_type": "markdown",
   "metadata": {}
  },
  {
   "source": [
    "#### Optimality condition 1: \n",
    "$\\bf{x^{*}}$ is primal feasable as it satisfies the inequalities in the primal problem\n",
    "\n",
    "#### Optimality condition 2:\n",
    "$\\bf{\\pi^{*}}$ is dual feasable as it satisfies the inequalities in the dual problem\n",
    "\n",
    "#### Optimality condition 3:\n",
    "Complementary slackness:\n",
    "\n",
    "$x_{3}: 3\\pi_{1} - 2\\pi_{2} \\geq -8$ always holds\n",
    "\n",
    "- therefore: $x_{3} = 0$\n",
    "\n",
    "Then we have:\n",
    "\n",
    "$4x_{1} + x_{2} = 12 \\\\\n",
    "x_{1} + 2x_{2} = 8 \\\\\n",
    "x_{1} \\geq 0, x_{2} \\geq 0$\n",
    "\n",
    "Solving for $x_{1}$ and $x_{2}$:\n",
    "\n",
    "$x_{2} = 12 - 4x_{1} \\\\\n",
    "x_{1} - 8x_{1} + 24 = 8 \\\\\n",
    "-7x_{1} = -16$\n",
    "\n",
    "Which results in:\n",
    "\n",
    "$x_{1} = \\frac{16}{7} \\\\\n",
    "x_{2} = \\frac{20}{7}$\n",
    "\n",
    " - therefore ${\\bf x^{*}} = (\\frac{16}{7}, \\frac{20}{7}, 0)$\n",
    "\n",
    "\n"
   ],
   "cell_type": "markdown",
   "metadata": {}
  },
  {
   "source": [
    "### Solving the problem in Gurobi-Python"
   ],
   "cell_type": "markdown",
   "metadata": {}
  },
  {
   "cell_type": "code",
   "execution_count": 101,
   "metadata": {},
   "outputs": [
    {
     "output_type": "stream",
     "name": "stdout",
     "text": [
      "Gurobi Optimizer version 9.0.3 build v9.0.3rc0 (linux64)\n",
      "Optimize a model with 2 rows, 3 columns and 6 nonzeros\n",
      "Model fingerprint: 0xd85cf6b9\n",
      "Coefficient statistics:\n",
      "  Matrix range     [1e+00, 4e+00]\n",
      "  Objective range  [1e+00, 8e+00]\n",
      "  Bounds range     [0e+00, 0e+00]\n",
      "  RHS range        [8e+00, 1e+01]\n",
      "Presolve time: 0.00s\n",
      "Presolved: 2 rows, 3 columns, 6 nonzeros\n",
      "\n",
      "Iteration    Objective       Primal Inf.    Dual Inf.      Time\n",
      "       0    3.0000000e+30   2.750000e+30   3.000000e+00      0s\n",
      "       3    8.0000000e+00   0.000000e+00   0.000000e+00      0s\n",
      "\n",
      "Solved in 3 iterations and 0.00 seconds\n",
      "Optimal objective  8.000000000e+00\n"
     ]
    }
   ],
   "source": [
    "# importing libraries\n",
    "import gurobipy as gp\n",
    "from gurobipy import GRB\n",
    "\n",
    "# setting up the optimization problem\n",
    "m = 2  # number of resources\n",
    "n = 3  # number of products\n",
    "\n",
    "resources = range(m)  # list [1, ..., m]\n",
    "products = range(n)  # list [1, ..., n]\n",
    "\n",
    "# primal objective coefficients\n",
    "r_coeff = [1, 2, -8]\n",
    "\n",
    "# left-hand side (LHS) coefficients (matrix A)\n",
    "A_coeff = [[4, 1, 3],\n",
    "           [1, 2, -2]]\n",
    "\n",
    "# right-hand side (RHS) coefficients\n",
    "b_coeff = [12, 8]\n",
    "\n",
    "r = {j: r_coeff[j] for j in products}\n",
    "A = {i: {j: A_coeff[i][j] for j in products} for i in resources}\n",
    "b = {i: b_coeff[i] for i in resources}\n",
    "\n",
    "# naming the model\n",
    "model = gp.Model('1d')\n",
    "x = model.addVars(products, name=\"x\")  # quantity produced\n",
    "\n",
    "# Constraints\n",
    "model.addConstrs((gp.quicksum(A[i][j] * x[j] for j in products)\n",
    "                  == b[i]\n",
    "                  for i in resources), name=\"pi\")\n",
    "\n",
    "# Objective\n",
    "obj = gp.quicksum(r[j] * x[j] for j in products)\n",
    "model.setObjective(obj, GRB.MAXIMIZE)\n",
    "model.optimize()\n"
   ]
  },
  {
   "cell_type": "code",
   "execution_count": 102,
   "metadata": {},
   "outputs": [
    {
     "output_type": "stream",
     "name": "stdout",
     "text": [
      "x[1] = 2.2857142857142856\nx[2] = 2.857142857142857\nx[3] = 0.0\n"
     ]
    }
   ],
   "source": [
    "# Printing solution\n",
    "# Variable information including sensitivity information\n",
    "varnames = [f\"x[{n+1}]\" for n,x in enumerate(model.getVars())]\n",
    "for var, v in zip(varnames,model.getVars()):\n",
    "    print(f\"{var} = {v.X}\")"
   ]
  },
  {
   "source": [
    "<img src=\"./images/prob_1/c.png\"/>"
   ],
   "cell_type": "markdown",
   "metadata": {}
  },
  {
   "source": [
    "The reduced costs of the primal variables are computed as following:\n",
    "\n",
    "$\\bar{c_{1}} = 4\\pi_{1}^{*} + \\pi_{2}^{*} - 1 = 4\\lambda + 1 - \\frac{\\lambda}{2} - 1 = \\frac{7\\lambda}{2}  \\\\\n",
    "\\bar{c_{2}} = \\pi_{1}^{*} + 2\\pi_{2}^{*} - 2 = \\lambda + 2 - \\lambda - 2 = 0 \\\\\n",
    "\\bar{c_{3}} = 3\\pi_{1}^{*} - 2\\pi_{2}^{*} + 8 = 3\\lambda - 2 - \\lambda + 8 = 2\\lambda + 6$\n",
    "\n",
    "Where $\\bf{\\pi^{*}}$ is a dual optimal solution\n",
    " - therefore, the reduced costs are not unique"
   ],
   "cell_type": "markdown",
   "metadata": {}
  },
  {
   "source": [
    "<img src=\"./images/prob_1/d.png\"/>"
   ],
   "cell_type": "markdown",
   "metadata": {}
  },
  {
   "source": [
    "primal problem:\n",
    "\n",
    "maximize $x_{1} + 2x_{2} - 8x_{3}$\n",
    "\n",
    "subject to :\n",
    "\n",
    "$4x_{1} + x_{2} + 3x_{3} = 12 \\\\\n",
    "x_{1} + 2x_{2} - 2x_{3} = 8 \\\\\n",
    "x_{1} \\geq 0, x_{2} \\geq 0, x_{3} \\geq 0$"
   ],
   "cell_type": "markdown",
   "metadata": {}
  },
  {
   "source": [
    "Let's consider $\\bf{\\pi^{*}} = (0,1)$ we have $x_{3} = 0$ and then:\n",
    "\n",
    "$4x_{1} + x_{2} = 12 + \\Delta b_{1} \\\\\n",
    "x_{1} + 2x_{2} = 8 + \\Delta b_{2}$\n",
    "\n",
    "Solving we get:\n",
    "\n",
    "$\\hat{x}^{*} = (\\frac{1}{7} (2\\Delta b_{1} - \\Delta b_{2} + 16), \\frac{1}{7} (-\\Delta b_{1} + 4\\Delta b_{2} + 20), 0)$\n",
    "\n",
    "Imposing primal feasability returns:\n",
    "\n",
    "$2\\Delta b_{1} - \\Delta b_{2} \\geq -16 \\\\\n",
    "-\\Delta b_{1} + 4\\Delta b_{2} \\geq -20$\n",
    "\n",
    "As a result: if $\\Delta b_{1} = 0$ then $\\Delta b_{2} \\in [-5, 16]$ and if $\\Delta b_{2} = 0$ then $\\Delta b_{1} \\in [-8, 20]$\n",
    "\n"
   ],
   "cell_type": "markdown",
   "metadata": {}
  },
  {
   "source": [
    "### Comparing with Gurobi-Python"
   ],
   "cell_type": "markdown",
   "metadata": {}
  },
  {
   "cell_type": "code",
   "execution_count": 103,
   "metadata": {},
   "outputs": [
    {
     "output_type": "execute_result",
     "data": {
      "text/plain": [
       "[2.2857142857142856, 2.857142857142857, 0.0]"
      ]
     },
     "metadata": {},
     "execution_count": 103
    }
   ],
   "source": [
    "[x.X for x in model.getVars()]"
   ]
  },
  {
   "cell_type": "code",
   "execution_count": 104,
   "metadata": {},
   "outputs": [
    {
     "output_type": "stream",
     "name": "stdout",
     "text": [
      "pi[1] : from RHS = -8.0, to RHS = 20.0\npi[2] : from RHS = -5.0, to RHS = 16.0\n"
     ]
    }
   ],
   "source": [
    "# Changes in constraint RHS\n",
    "constnames = [(f\"pi[{n+1}]\",diff) for n,(x,diff) in enumerate(zip(model.getConstrs(),[12,8]))] \n",
    "for (cname,diff),c in zip(constnames,model.getConstrs()):\n",
    "    print(f\"{cname} : from RHS = {c.SARHSLow-diff}, to RHS = {c.SARHSUp-diff}\")"
   ]
  },
  {
   "source": [
    "As we can see, te Gurobi-Python solution matches both the intervals resulting from the analytical process."
   ],
   "cell_type": "markdown",
   "metadata": {}
  },
  {
   "source": [
    "<img src=\"./images/prob_1/e.png\"/>"
   ],
   "cell_type": "markdown",
   "metadata": {}
  },
  {
   "source": [
    "The primal problem only has one feasable solution, so the optimal solution $\\bf{x^{*}}$ remains optimal for the following modified problem:\n",
    "\n",
    "maximize $(1 + \\Delta r_{1})x_{1} + (2 + \\Delta r_{2})x_{2} - (8 + \\Delta r_{3})x_{3}$\n",
    "\n",
    "subject to :\n",
    "\n",
    "$4x_{1} + x_{2} + 3x_{3} = 12 \\\\\n",
    "x_{1} + 2x_{2} - 2x_{3} = 8 \\\\\n",
    "x_{1} \\geq 0, x_{2} \\geq 0, x_{3} \\geq 0$"
   ],
   "cell_type": "markdown",
   "metadata": {}
  },
  {
   "source": [
    "Following a standard analysis, we consider ${\\bf\\hat{x}^{*}} = (\\frac{16}{7}, \\frac{20}{7}, 0)$\n",
    "\n",
    "By complementary slackness we formulate the following 2 systems of linear equations:"
   ],
   "cell_type": "markdown",
   "metadata": {}
  },
  {
   "source": [
    "#### system 1:\n",
    "\n",
    "$4\\pi_{1} + \\pi_{2} = 1 + \\Delta r_{1} \\\\\n",
    "\\pi_{1} + 2\\pi_{2} = 2 + \\Delta r_{2}$\n",
    "\n",
    "resulting in: \n",
    "\n",
    "$\\hat{\\pi}^{*} = (\\frac{1}{7} (2\\Delta r_{1} - \\Delta r_{2}), \\frac{1}{7} (7 - \\Delta r_{1} + 4\\Delta b_{2}))$\n",
    "\n",
    "Dual feasability means that:\n",
    "\n",
    "\n",
    "$3\\hat{\\pi}^{*}_{1} + 2\\hat{\\pi}^{*}_{2} + 8 - \\Delta r_{3} = \\frac{1}{7} (42 + 8\\Delta r_{1} - 11\\Delta r_{2} - 7\\Delta r_{3})$\n",
    "\n",
    "and:\n",
    "\n",
    "$8\\Delta r_{1} - 11\\Delta r_{2} - 7\\Delta r_{3} \\geq -42$\n",
    "\n",
    "So, if:\n",
    "\n",
    "$\\Delta r_{1} = 0, \\Delta r_{2} = 0$, then $\\Delta r_{3} \\leq 6$\n",
    "\n",
    "$\\Delta r_{1} = 0, \\Delta r_{3} = 0$, then $\\Delta r_{2} \\leq \\frac{42}{11}$\n",
    "\n",
    "$\\Delta r_{2} = 0, \\Delta r_{3} = 0$, then $\\Delta r_{1} \\geq \\frac{-21}{4}$"
   ],
   "cell_type": "markdown",
   "metadata": {}
  },
  {
   "source": [
    "#### system 2:\n",
    "\n",
    "$\\pi_{1} + 2\\pi_{2} = 2 + \\Delta r_{2} \\\\\n",
    "3\\pi_{1} - 2\\pi_{2} = -8 + \\Delta r_{3}$\n",
    "\n",
    "resulting in: \n",
    "\n",
    "$\\hat{\\pi}^{*} = (\\frac{1}{4} (- 14 - 3\\Delta r_{2} + \\Delta r_{3}), \\frac{1}{4} (- 20 -2\\frac{1}{2}\\Delta r_{2} + 2\\frac{1}{2}\\Delta r_{3}))$\n",
    "\n",
    "Dual feasability means that:\n",
    "\n",
    "\n",
    "$4\\hat{\\pi}^{*}_{1} + \\hat{\\pi}^{*}_{2} -1 - \\Delta r_{1} = \\frac{1}{4} (- 98 - 4\\Delta r_{1} - 11\\Delta r_{2} + 9\\Delta r_{3})$\n",
    "\n",
    "and:\n",
    "\n",
    "$-4\\Delta r_{1} - 11\\Delta r_{2} + 9\\Delta r_{3} \\geq 98$\n",
    "\n",
    "So, if:\n",
    "\n",
    "$\\Delta r_{1} = 0, \\Delta r_{2} = 0$, then $\\Delta r_{3} \\geq \\frac{98}{9}$\n",
    "\n",
    "$\\Delta r_{1} = 0, \\Delta r_{3} = 0$, then $\\Delta r_{2} \\leq \\frac{98}{11}$\n",
    "\n",
    "$\\Delta r_{2} = 0, \\Delta r_{3} = 0$, then $\\Delta r_{1} \\leq \\frac{-49}{2}$"
   ],
   "cell_type": "markdown",
   "metadata": {}
  },
  {
   "source": [
    "Combining both cases we obtain that $\\bf x^{*}$ is optimal for any $\\Delta r_{j} \\in \\mathbb{R}$"
   ],
   "cell_type": "markdown",
   "metadata": {}
  },
  {
   "source": [
    "### Comparing with Gurobi-Python"
   ],
   "cell_type": "markdown",
   "metadata": {}
  },
  {
   "cell_type": "code",
   "execution_count": 100,
   "metadata": {},
   "outputs": [
    {
     "output_type": "stream",
     "name": "stdout",
     "text": [
      "pi[1] : from coeff = -5.25, to coeff = inf\npi[2] : from coeff = -inf, to coeff = 3.8181818181818183\npi[3] : from coeff = -inf, to coeff = 6.0\n"
     ]
    }
   ],
   "source": [
    "# Changes of objective coefficients for the primal problem\n",
    "varnames = [(f\"pi[{n+1}]\",diff) for n,(x,diff) in enumerate(zip(model.getVars(),[1,2,-8]))]\n",
    "for (var,diff), v in zip(varnames,model.getVars()):\n",
    "    print(f\"{var} : from coeff = {v.SAObjLow - diff}, to coeff = {v.SAObjUp - diff}\")"
   ]
  },
  {
   "source": [
    "As we can see, the Gurobi-Python solution matches the first 3 differences "
   ],
   "cell_type": "markdown",
   "metadata": {}
  },
  {
   "source": [
    "<img src=\"./images/prob_2/p2.png\"/>"
   ],
   "cell_type": "markdown",
   "metadata": {}
  },
  {
   "source": [
    "<img src=\"./images/prob_2/a.png\"/>"
   ],
   "cell_type": "markdown",
   "metadata": {}
  },
  {
   "source": [
    "The primal LO formulation for LR with MAE criterion as seen in class has the following parameters:\n",
    "\n",
    "- Objective: minimize $\\sum_{i=1}^{n} (e_{i}^{+} + e_{i}^{-})$\n",
    "\n",
    "- Subject to the following constraints: \n",
    "    - $(e_{i}^{+} - e_{i}^{-}) + b_{0} + x_{i1} b_{1} + \\dots + x_{im} b_{m} = y_{i}$ $i = 1, \\dots, n$\n",
    "\n",
    "    - $e_{i}^{+}, e_{i}^{-} \\geq 0,$ $i = 1, \\dots, n$"
   ],
   "cell_type": "markdown",
   "metadata": {}
  },
  {
   "source": [
    "### Gurobi implementation of the problem"
   ],
   "cell_type": "markdown",
   "metadata": {}
  },
  {
   "source": [
    "# importing libraries\n",
    "import gurobipy as gp\n",
    "from gurobipy import GRB"
   ],
   "cell_type": "code",
   "metadata": {},
   "execution_count": 12,
   "outputs": []
  },
  {
   "cell_type": "code",
   "execution_count": 13,
   "metadata": {},
   "outputs": [],
   "source": [
    "# creating multidict with observations\n",
    "observations, x, y = gp.multidict({\n",
    "    ('1'): [29.7,175.3],\n",
    "    ('2'): [29.5,177.8],\n",
    "    ('3'): [31.4,185.4],\n",
    "    ('4'): [31.8,175.3],\n",
    "    ('5'): [27.6,172.7],\n",
    "})"
   ]
  },
  {
   "cell_type": "code",
   "execution_count": 14,
   "metadata": {},
   "outputs": [],
   "source": [
    "model = gp.Model('CurveFitting')\n",
    "\n",
    "# Constant term of the function f(x). This is a free continuous variable that can take positive and negative values. \n",
    "a = model.addVar(lb=-GRB.INFINITY, ub=GRB.INFINITY, vtype=GRB.CONTINUOUS, name=\"a\")\n",
    "\n",
    "# Coefficient of the linear term of the function f(x). This is a free continuous variable that can take positive \n",
    "# and negative values.\n",
    "b = model.addVar(lb=-GRB.INFINITY, ub=GRB.INFINITY, vtype=GRB.CONTINUOUS, name=\"b\")\n",
    "\n",
    "# Non-negative continuous variables that capture the positive deviations\n",
    "e_plus = model.addVars(observations, vtype=GRB.CONTINUOUS, name=\"e_plus\")\n",
    "\n",
    "# Non-negative continuous variables that capture the negative deviations\n",
    "e_neg = model.addVars(observations, vtype=GRB.CONTINUOUS, name=\"e_neg\")\n",
    "\n",
    "# Non-negative continuous variables that capture the value of the maximum deviation\n",
    "z = model.addVar(vtype=GRB.CONTINUOUS, name=\"z\")"
   ]
  },
  {
   "cell_type": "code",
   "execution_count": 15,
   "metadata": {},
   "outputs": [
    {
     "output_type": "stream",
     "name": "stdout",
     "text": [
      "Gurobi Optimizer version 9.0.3 build v9.0.3rc0 (linux64)\n",
      "Optimize a model with 5 rows, 13 columns and 20 nonzeros\n",
      "Model fingerprint: 0x72b80cf1\n",
      "Coefficient statistics:\n",
      "  Matrix range     [1e+00, 3e+01]\n",
      "  Objective range  [1e+00, 1e+00]\n",
      "  Bounds range     [0e+00, 0e+00]\n",
      "  RHS range        [2e+02, 2e+02]\n",
      "Presolve removed 0 rows and 1 columns\n",
      "Presolve time: 0.00s\n",
      "Presolved: 5 rows, 12 columns, 20 nonzeros\n",
      "\n",
      "Iteration    Objective       Primal Inf.    Dual Inf.      Time\n",
      "       0      handle free variables                          0s\n",
      "       5    1.3342857e+01   0.000000e+00   0.000000e+00      0s\n",
      "\n",
      "Solved in 5 iterations and 0.00 seconds\n",
      "Optimal objective  1.334285714e+01\n"
     ]
    }
   ],
   "source": [
    "# Deviation constraints\n",
    "\n",
    "deviations = model.addConstrs( (b*x[i] + a + e_plus[i] - e_neg[i] == y[i] for i in observations), name='deviations')\n",
    "\n",
    "# Objective function of problem 1\n",
    "\n",
    "model.setObjective(e_plus.sum('*') + e_neg.sum('*'))\n",
    "\n",
    "# Verify model formulation\n",
    "\n",
    "model.write('CurveFitting.lp')\n",
    "\n",
    "# Run optimization engine\n",
    "\n",
    "model.optimize()"
   ]
  },
  {
   "cell_type": "code",
   "execution_count": 16,
   "metadata": {},
   "outputs": [
    {
     "output_type": "stream",
     "name": "stdout",
     "text": [
      "y = 1.2381x + (138.5286)\n"
     ]
    }
   ],
   "source": [
    "# The best straight line that minimizes the absolute value of the deviations is:\n",
    "print(f\"y = {b.x:.4f}x + ({a.x:.4f})\")"
   ]
  },
  {
   "cell_type": "code",
   "execution_count": 17,
   "metadata": {},
   "outputs": [],
   "source": [
    "# # Maximum deviation constraints\n",
    "\n",
    "# maxPositive_deviation = model.addConstrs( (z >= e_plus[i] for i in observations), name='maxPositive_deviation')\n",
    "\n",
    "# maxNegative_deviation = model.addConstrs( (z >= e_neg[i] for i in observations), name='maxNegative_deviation')\n",
    "\n",
    "# # Objective function for Problem 2\n",
    "\n",
    "# model.setObjective(z)\n",
    "\n",
    "# # Run optimization engine\n",
    "\n",
    "# model.optimize()"
   ]
  },
  {
   "cell_type": "code",
   "execution_count": 18,
   "metadata": {},
   "outputs": [],
   "source": [
    "# # The best straight line that minimizes the maximum deviation is: \n",
    "# print(f\"y = {b.x:.4f}x + ({a.x:.4f})\")"
   ]
  },
  {
   "cell_type": "code",
   "execution_count": 19,
   "metadata": {},
   "outputs": [
    {
     "output_type": "stream",
     "name": "stdout",
     "text": [
      "a = 138.52857142857118, reduced cost = 0.0, from coeff = -0.050505050505050386, to coeff = 0.021739130434782625\nb = 1.2380952380952468, reduced cost = 0.0, from coeff = -0.6000000000000005, to coeff = 1.4999999999999967\ne_plus[1] = 0.0, reduced cost = 1.7142857142857135, from coeff = -0.7142857142857135, to coeff = inf\ne_plus[2] = 2.7476190476190467, reduced cost = 0.0, from coeff = -0.8947368421052615, to coeff = 1.315789473684211\ne_plus[3] = 7.995238095238072, reduced cost = 0.0, from coeff = 0.11764705882353255, to coeff = 1.1578947368421055\ne_plus[4] = 0.0, reduced cost = 2.0, from coeff = -1.0, to coeff = inf\ne_plus[5] = 0.0, reduced cost = 1.2857142857142865, from coeff = -0.2857142857142865, to coeff = inf\ne_neg[1] = 0.0, reduced cost = 0.28571428571428636, from coeff = 0.7142857142857136, to coeff = inf\ne_neg[2] = 0.0, reduced cost = 2.0, from coeff = -1.0, to coeff = inf\ne_neg[3] = 0.0, reduced cost = 2.0, from coeff = -1.0, to coeff = inf\ne_neg[4] = 2.6000000000000227, reduced cost = 0.0, from coeff = 0.857142857142857, to coeff = 1.7142857142857126\ne_neg[5] = 0.0, reduced cost = 0.7142857142857136, from coeff = 0.28571428571428636, to coeff = inf\nz = 0.0, reduced cost = 0.0, from coeff = 0.0, to coeff = inf\n"
     ]
    }
   ],
   "source": [
    "for n,v in enumerate(model.getVars()):\n",
    "    print(f\"{v.Varname} = {v.X}, reduced cost = {abs(v.RC)}, from coeff = {v.SAObjLow}, to coeff = {v.SAObjUp}\")"
   ]
  },
  {
   "cell_type": "code",
   "execution_count": 21,
   "metadata": {},
   "outputs": [
    {
     "output_type": "stream",
     "name": "stdout",
     "text": [
      "deviations[1] : shadow price = -0.7142857142857136, from RHS = 174.0, to RHS = 178.34, diff = -4.336842105263173\ndeviations[2] : shadow price = 1.0, from RHS = 175.05238095238096, to RHS = inf, diff = -inf\ndeviations[3] : shadow price = 1.0, from RHS = 177.40476190476193, to RHS = inf, diff = -inf\ndeviations[4] : shadow price = -1.0, from RHS = -inf, to RHS = 177.90, diff = -inf\ndeviations[5] : shadow price = -0.28571428571428636, from RHS = 162.82352941176472, to RHS = 175.30, diff = -12.476470588235287\n"
     ]
    }
   ],
   "source": [
    "# Optimal shadow prices\n",
    "for n,c in enumerate(model.getConstrs()):\n",
    "    print(f\"{c.ConstrName} : shadow price = {c.Pi}, from RHS = {c.SARHSLow}, to RHS = {c.SARHSUp:.2f}, diff = {c.SARHSLow - c.SARHSUp}\")"
   ]
  },
  {
   "source": [
    "<img src=\"./images/prob_2/b.png\"/>"
   ],
   "cell_type": "markdown",
   "metadata": {}
  },
  {
   "source": [
    "The prediction equation (representing the optimal solution) resulting from the implementation is $\\hat{y} = 1.2549x + 138.5863$. \n",
    "\n",
    "In this case, the variables that have to take the value zero in any optimal solution because htey have positive reduced costs are:\n",
    "\n",
    "$e_{1}^{+} = e_{2}^{+} = e_{4}^{+} = e_{5}^{+} = e_{6}^{+} = e_{3}^{-} = e_{7}^{-} = 0$ "
   ],
   "cell_type": "markdown",
   "metadata": {}
  },
  {
   "source": [
    "<img src=\"./images/prob_2/c.png\"/>"
   ],
   "cell_type": "markdown",
   "metadata": {}
  },
  {
   "source": [
    "So, we have the following system of equations that characterizest he optimal solutions:\n",
    "\n",
    "\n"
   ],
   "cell_type": "markdown",
   "metadata": {}
  },
  {
   "source": [
    "<img src=\"./images/prob_3/p3.png\"/>"
   ],
   "cell_type": "markdown",
   "metadata": {}
  },
  {
   "source": [
    "<img src=\"./images/prob_3/a.png\"/>"
   ],
   "cell_type": "markdown",
   "metadata": {}
  },
  {
   "cell_type": "code",
   "execution_count": 2,
   "metadata": {},
   "outputs": [],
   "source": [
    "# importing libraries\n",
    "import numpy as np\n",
    "import pandas as pd\n",
    "import gurobipy as gp\n",
    "from gurobipy import GRB\n"
   ]
  },
  {
   "cell_type": "code",
   "execution_count": 3,
   "metadata": {},
   "outputs": [],
   "source": [
    "# Parameters\n",
    "\n",
    "months = [\"Jan\", \"Feb\", \"Mar\", \"Apr\", \"May\", \"Jun\"]\n",
    "\n",
    "oils = [\"VEG1\", \"VEG2\", \"OIL1\", \"OIL2\", \"OIL3\"]\n",
    "\n",
    "cost = {\n",
    "    ('Jan', 'VEG1'): 110,\n",
    "    ('Jan', 'VEG2'): 120,\n",
    "    ('Jan', 'OIL1'): 130,\n",
    "    ('Jan', 'OIL2'): 110,\n",
    "    ('Jan', 'OIL3'): 115,\n",
    "    ('Feb', 'VEG1'): 130,\n",
    "    ('Feb', 'VEG2'): 130,\n",
    "    ('Feb', 'OIL1'): 110,\n",
    "    ('Feb', 'OIL2'): 90,\n",
    "    ('Feb', 'OIL3'): 115,\n",
    "    ('Mar', 'VEG1'): 110,\n",
    "    ('Mar', 'VEG2'): 140,\n",
    "    ('Mar', 'OIL1'): 130,\n",
    "    ('Mar', 'OIL2'): 100,\n",
    "    ('Mar', 'OIL3'): 95,\n",
    "    ('Apr', 'VEG1'): 120,\n",
    "    ('Apr', 'VEG2'): 110,\n",
    "    ('Apr', 'OIL1'): 120,\n",
    "    ('Apr', 'OIL2'): 120,\n",
    "    ('Apr', 'OIL3'): 125,\n",
    "    ('May', 'VEG1'): 100,\n",
    "    ('May', 'VEG2'): 120,\n",
    "    ('May', 'OIL1'): 150,\n",
    "    ('May', 'OIL2'): 110,\n",
    "    ('May', 'OIL3'): 105,\n",
    "    ('Jun', 'VEG1'): 90,\n",
    "    ('Jun', 'VEG2'): 100,\n",
    "    ('Jun', 'OIL1'): 140,\n",
    "    ('Jun', 'OIL2'): 80,\n",
    "    ('Jun', 'OIL3'): 135\n",
    "}\n",
    "\n",
    "\n",
    "hardness = {\"VEG1\": 8.8, \"VEG2\": 6.1, \"OIL1\": 2.0, \"OIL2\": 4.2, \"OIL3\": 5.0}\n",
    "\n",
    "price = 150\n",
    "init_store = 500\n",
    "target_store = 500\n",
    "veg_cap = 200\n",
    "oil_cap = 250\n",
    "\n",
    "min_hardness = 3\n",
    "max_hardness = 6\n",
    "holding_cost = 5"
   ]
  },
  {
   "cell_type": "code",
   "execution_count": 4,
   "metadata": {},
   "outputs": [
    {
     "output_type": "stream",
     "name": "stdout",
     "text": [
      "Using license file /home/dreth/gurobi.lic\n",
      "Academic license - for non-commercial use only\n"
     ]
    }
   ],
   "source": [
    "# Model deployment\n",
    "\n",
    "food = gp.Model('Food Manufacture I')\n",
    "# Quantity of food produced in each period\n",
    "produce = food.addVars(months, name=\"Produce\")\n",
    "# Quantity bought of each product in each period\n",
    "buy = food.addVars(months, oils, name = \"Buy\")\n",
    "# Quantity used of each product  in each period\n",
    "consume = food.addVars(months, oils, name = \"Use\")\n",
    "# Quantity stored of each product  in each period\n",
    "store = food.addVars(months, oils, name = \"Store\")\n",
    "\n"
   ]
  },
  {
   "cell_type": "code",
   "execution_count": 5,
   "metadata": {},
   "outputs": [],
   "source": [
    "#1. Initial Balance\n",
    "Balance0 = food.addConstrs((init_store + buy[months[0], oil]\n",
    "                 == consume[months[0], oil] + store[months[0], oil]\n",
    "                 for oil in oils), \"Initial_Balance\")\n",
    "\n",
    "#2. Balance\n",
    "Balance = food.addConstrs((store[months[months.index(month)-1], oil] + buy[month, oil]\n",
    "                 == consume[month, oil] + store[month, oil]\n",
    "                 for oil in oils for month in months if month != month[0]), \"Balance\")\n",
    "\n",
    "#3. Inventory Target\n",
    "TargetInv = food.addConstrs((store[months[-1], oil] == target_store for oil in oils),\"End_Balance\")\n",
    "\n",
    "#4.1 Vegetable Oil Capacity\n",
    "VegCapacity = food.addConstrs((gp.quicksum(consume[month, oil] for oil in oils if \"VEG\" in oil)\n",
    "                 <= veg_cap for month in months), \"Capacity_Veg\")\n",
    "\n",
    "#4.2 Non-vegetable Oil Capacity\n",
    "NonVegCapacity = food.addConstrs((gp.quicksum(consume[month, oil] for oil in oils if \"OIL\" in oil)\n",
    "                 <= oil_cap for month in months), \"Capacity_Oil\")\n",
    "\n",
    "#5. Hardness\n",
    "HardnessMin = food.addConstrs((gp.quicksum(hardness[oil]*consume[month, oil] for oil in oils)\n",
    "                 >= min_hardness*produce[month] for month in months), \"Hardness_lower\")\n",
    "HardnessMax = food.addConstrs((gp.quicksum(hardness[oil]*consume[month, oil] for oil in oils)\n",
    "                 <= max_hardness*produce[month] for month in months), \"Hardness_upper\")\n",
    "\n",
    "#6. Mass Conservation\n",
    "MassConservation = food.addConstrs((consume.sum(month) == produce[month] for month in months), \"Mass_conservation\")\n",
    "\n",
    "#0. Objective Function\n",
    "obj = price*produce.sum() - buy.prod(cost) - holding_cost*store.sum()\n",
    "food.setObjective(obj, GRB.MAXIMIZE) # maximize profit"
   ]
  },
  {
   "cell_type": "code",
   "execution_count": 6,
   "metadata": {},
   "outputs": [
    {
     "output_type": "stream",
     "name": "stdout",
     "text": [
      "Gurobi Optimizer version 9.0.3 build v9.0.3rc0 (linux64)\n",
      "Optimize a model with 70 rows, 96 columns and 278 nonzeros\n",
      "Model fingerprint: 0xd588eb19\n",
      "Coefficient statistics:\n",
      "  Matrix range     [1e+00, 9e+00]\n",
      "  Objective range  [5e+00, 2e+02]\n",
      "  Bounds range     [0e+00, 0e+00]\n",
      "  RHS range        [2e+02, 5e+02]\n",
      "Presolve removed 33 rows and 45 columns\n",
      "Presolve time: 0.00s\n",
      "Presolved: 37 rows, 51 columns, 149 nonzeros\n",
      "\n",
      "Iteration    Objective       Primal Inf.    Dual Inf.      Time\n",
      "       0    3.7375000e+05   1.703125e+03   0.000000e+00      0s\n",
      "      32    1.0784259e+05   0.000000e+00   0.000000e+00      0s\n",
      "\n",
      "Solved in 32 iterations and 0.00 seconds\n",
      "Optimal objective  1.078425926e+05\n"
     ]
    }
   ],
   "source": [
    "food.optimize()\n",
    "\n"
   ]
  },
  {
   "cell_type": "code",
   "execution_count": 56,
   "metadata": {},
   "outputs": [
    {
     "output_type": "stream",
     "name": "stdout",
     "text": [
      "Produce[Jan] = 450.0, reduced cost = 0.00, from coeff = 85.00, to coeff = inf\nProduce[Feb] = 450.0, reduced cost = 0.00, from coeff = 90.00, to coeff = inf\nProduce[Mar] = 450.0, reduced cost = 0.00, from coeff = 95.00, to coeff = inf\nProduce[Apr] = 450.0, reduced cost = 0.00, from coeff = 100.00, to coeff = inf\nProduce[May] = 450.0, reduced cost = 0.00, from coeff = 105.00, to coeff = inf\nProduce[Jun] = 450.0, reduced cost = 0.00, from coeff = 100.37, to coeff = inf\n----------------------------------------------\nBuy[Jan,VEG1] = 0.0, reduced cost = 35.00, from coeff = -inf, to coeff = -75.00\nBuy[Jan,VEG2] = 0.0, reduced cost = 45.00, from coeff = -inf, to coeff = -75.00\nBuy[Jan,OIL1] = 0.0, reduced cost = 45.00, from coeff = -inf, to coeff = -85.00\nBuy[Jan,OIL2] = 0.0, reduced cost = 25.00, from coeff = -inf, to coeff = -85.00\nBuy[Jan,OIL3] = 0.0, reduced cost = 30.00, from coeff = -inf, to coeff = -85.00\nBuy[Feb,VEG1] = 0.0, reduced cost = 50.00, from coeff = -inf, to coeff = -80.00\nBuy[Feb,VEG2] = 0.0, reduced cost = 50.00, from coeff = -inf, to coeff = -80.00\nBuy[Feb,OIL1] = 0.0, reduced cost = 20.00, from coeff = -inf, to coeff = -90.00\nBuy[Feb,OIL2] = 250.0, reduced cost = 0.00, from coeff = -90.00, to coeff = -90.00\nBuy[Feb,OIL3] = 0.0, reduced cost = 25.00, from coeff = -inf, to coeff = -90.00\nBuy[Mar,VEG1] = 0.0, reduced cost = 25.00, from coeff = -inf, to coeff = -85.00\nBuy[Mar,VEG2] = 0.0, reduced cost = 55.00, from coeff = -inf, to coeff = -85.00\nBuy[Mar,OIL1] = 0.0, reduced cost = 35.00, from coeff = -inf, to coeff = -95.00\nBuy[Mar,OIL2] = 0.0, reduced cost = 5.00, from coeff = -inf, to coeff = -95.00\nBuy[Mar,OIL3] = 0.0, reduced cost = 0.00, from coeff = -inf, to coeff = -95.00\nBuy[Apr,VEG1] = 0.0, reduced cost = 30.00, from coeff = -inf, to coeff = -90.00\nBuy[Apr,VEG2] = 0.0, reduced cost = 20.00, from coeff = -inf, to coeff = -90.00\nBuy[Apr,OIL1] = 0.0, reduced cost = 20.00, from coeff = -inf, to coeff = -100.00\nBuy[Apr,OIL2] = 0.0, reduced cost = 20.00, from coeff = -inf, to coeff = -100.00\nBuy[Apr,OIL3] = 0.0, reduced cost = 25.00, from coeff = -inf, to coeff = -100.00\nBuy[May,VEG1] = 0.0, reduced cost = 5.00, from coeff = -inf, to coeff = -95.00\nBuy[May,VEG2] = 0.0, reduced cost = 25.00, from coeff = -inf, to coeff = -95.00\nBuy[May,OIL1] = 0.0, reduced cost = 45.00, from coeff = -inf, to coeff = -105.00\nBuy[May,OIL2] = 0.0, reduced cost = 5.00, from coeff = -inf, to coeff = -105.00\nBuy[May,OIL3] = 500.0, reduced cost = 0.00, from coeff = -105.00, to coeff = -105.00\nBuy[Jun,VEG1] = 659.2592592592592, reduced cost = 0.00, from coeff = -100.00, to coeff = -63.18\nBuy[Jun,VEG2] = 540.7407407407408, reduced cost = 0.00, from coeff = -105.00, to coeff = -90.00\nBuy[Jun,OIL1] = 0.0, reduced cost = 30.00, from coeff = -inf, to coeff = -110.00\nBuy[Jun,OIL2] = 750.0, reduced cost = 0.00, from coeff = -101.85, to coeff = inf\nBuy[Jun,OIL3] = 0.0, reduced cost = 25.00, from coeff = -inf, to coeff = -110.00\n----------------------------------------------\nUse[Jan,VEG1] = 0.0, reduced cost = 0.00, from coeff = -inf, to coeff = 0.00\nUse[Jan,VEG2] = 200.0, reduced cost = 0.00, from coeff = -0.00, to coeff = inf\nUse[Jan,OIL1] = 0.0, reduced cost = 0.00, from coeff = -inf, to coeff = 0.00\nUse[Jan,OIL2] = 0.0, reduced cost = 0.00, from coeff = -inf, to coeff = 0.00\nUse[Jan,OIL3] = 250.0, reduced cost = 0.00, from coeff = -0.00, to coeff = inf\nUse[Feb,VEG1] = 85.18518518518519, reduced cost = 0.00, from coeff = -0.00, to coeff = 0.00\nUse[Feb,VEG2] = 114.81481481481481, reduced cost = 0.00, from coeff = -0.00, to coeff = 0.00\nUse[Feb,OIL1] = 0.0, reduced cost = 0.00, from coeff = -inf, to coeff = 0.00\nUse[Feb,OIL2] = 0.0, reduced cost = 0.00, from coeff = -inf, to coeff = 0.00\nUse[Feb,OIL3] = 250.0, reduced cost = 0.00, from coeff = -0.00, to coeff = inf\nUse[Mar,VEG1] = 96.2962962962963, reduced cost = 0.00, from coeff = -0.00, to coeff = 0.00\nUse[Mar,VEG2] = 103.7037037037037, reduced cost = 0.00, from coeff = -0.00, to coeff = 0.00\nUse[Mar,OIL1] = 0.0, reduced cost = 0.00, from coeff = -inf, to coeff = 0.00\nUse[Mar,OIL2] = 250.0, reduced cost = 0.00, from coeff = -0.00, to coeff = inf\nUse[Mar,OIL3] = 0.0, reduced cost = 0.00, from coeff = -inf, to coeff = 0.00\nUse[Apr,VEG1] = 159.25925925925924, reduced cost = 0.00, from coeff = -0.00, to coeff = 24.55\nUse[Apr,VEG2] = 40.74074074074077, reduced cost = 0.00, from coeff = -24.55, to coeff = 0.00\nUse[Apr,OIL1] = 0.0, reduced cost = 0.00, from coeff = -0.00, to coeff = 20.00\nUse[Apr,OIL2] = 250.0, reduced cost = 0.00, from coeff = -0.00, to coeff = 0.00\nUse[Apr,OIL3] = 0.0, reduced cost = 0.00, from coeff = -inf, to coeff = 0.00\nUse[May,VEG1] = 159.25925925925924, reduced cost = 0.00, from coeff = -0.00, to coeff = 0.00\nUse[May,VEG2] = 40.74074074074077, reduced cost = 0.00, from coeff = -0.00, to coeff = 0.00\nUse[May,OIL1] = 0.0, reduced cost = 0.00, from coeff = -inf, to coeff = 0.00\nUse[May,OIL2] = 250.0, reduced cost = 0.00, from coeff = -0.00, to coeff = inf\nUse[May,OIL3] = 0.0, reduced cost = 0.00, from coeff = -inf, to coeff = 0.00\nUse[Jun,VEG1] = 159.25925925925924, reduced cost = 0.00, from coeff = -10.00, to coeff = 26.82\nUse[Jun,VEG2] = 40.74074074074077, reduced cost = 0.00, from coeff = -26.82, to coeff = 10.00\nUse[Jun,OIL1] = 0.0, reduced cost = 21.85, from coeff = -inf, to coeff = 21.85\nUse[Jun,OIL2] = 250.0, reduced cost = 0.00, from coeff = -21.85, to coeff = inf\nUse[Jun,OIL3] = 0.0, reduced cost = 32.96, from coeff = -inf, to coeff = 32.96\n----------------------------------------------\nStore[Jan,VEG1] = 500.0, reduced cost = 0.00, from coeff = -5.00, to coeff = 30.00\nStore[Jan,VEG2] = 300.0, reduced cost = 0.00, from coeff = -inf, to coeff = -5.00\nStore[Jan,OIL1] = 500.0, reduced cost = 0.00, from coeff = -5.00, to coeff = 40.00\nStore[Jan,OIL2] = 500.0, reduced cost = 0.00, from coeff = -5.00, to coeff = 20.00\nStore[Jan,OIL3] = 250.0, reduced cost = 0.00, from coeff = -inf, to coeff = -5.00\nStore[Feb,VEG1] = 414.8148148148148, reduced cost = 0.00, from coeff = -5.00, to coeff = -5.00\nStore[Feb,VEG2] = 185.1851851851852, reduced cost = 0.00, from coeff = -5.00, to coeff = -5.00\nStore[Feb,OIL1] = 500.0, reduced cost = 0.00, from coeff = -5.00, to coeff = 15.00\nStore[Feb,OIL2] = 750.0, reduced cost = 0.00, from coeff = -5.00, to coeff = -5.00\nStore[Feb,OIL3] = 0.0, reduced cost = 0.00, from coeff = -inf, to coeff = -5.00\nStore[Mar,VEG1] = 318.5185185185185, reduced cost = 0.00, from coeff = -5.00, to coeff = 5.00\nStore[Mar,VEG2] = 81.4814814814815, reduced cost = 0.00, from coeff = -15.00, to coeff = -5.00\nStore[Mar,OIL1] = 500.0, reduced cost = 0.00, from coeff = -5.00, to coeff = 15.00\nStore[Mar,OIL2] = 500.0, reduced cost = 0.00, from coeff = -5.00, to coeff = -5.00\nStore[Mar,OIL3] = 0.0, reduced cost = 0.00, from coeff = -5.00, to coeff = -5.00\nStore[Apr,VEG1] = 159.25925925925924, reduced cost = 0.00, from coeff = -5.00, to coeff = -5.00\nStore[Apr,VEG2] = 40.740740740740726, reduced cost = 0.00, from coeff = -5.00, to coeff = -5.00\nStore[Apr,OIL1] = 500.0, reduced cost = 0.00, from coeff = -35.00, to coeff = -5.00\nStore[Apr,OIL2] = 250.0, reduced cost = 0.00, from coeff = -5.00, to coeff = 25.00\nStore[Apr,OIL3] = 0.0, reduced cost = 0.00, from coeff = -5.00, to coeff = -5.00\nStore[May,VEG1] = 0.0, reduced cost = 10.00, from coeff = -inf, to coeff = 5.00\nStore[May,VEG2] = 0.0, reduced cost = 0.00, from coeff = -15.00, to coeff = -0.00\nStore[May,OIL1] = 500.0, reduced cost = 0.00, from coeff = -35.00, to coeff = 16.85\nStore[May,OIL2] = 0.0, reduced cost = 30.00, from coeff = -inf, to coeff = 25.00\nStore[May,OIL3] = 500.0, reduced cost = 0.00, from coeff = -30.00, to coeff = 27.96\nStore[Jun,VEG1] = 500.0, reduced cost = 0.00, from coeff = -inf, to coeff = inf\nStore[Jun,VEG2] = 500.0, reduced cost = 0.00, from coeff = -inf, to coeff = inf\nStore[Jun,OIL1] = 500.0, reduced cost = 0.00, from coeff = -inf, to coeff = inf\nStore[Jun,OIL2] = 500.0, reduced cost = 0.00, from coeff = -inf, to coeff = inf\nStore[Jun,OIL3] = 500.0, reduced cost = 0.00, from coeff = -inf, to coeff = inf\n"
     ]
    }
   ],
   "source": [
    "# Variable information including sensitivity information\n",
    "for n,v in enumerate(food.getVars()):\n",
    "    if n>1 and food.getVars()[n-1].Varname[0:3] != v.Varname[0:3]:\n",
    "        print('----------------------------------------------')\n",
    "    print(f\"{v.Varname} = {v.X}, reduced cost = {abs(v.RC):.2f}, from coeff = {v.SAObjLow:.2f}, to coeff = {v.SAObjUp:.2f}\")\n",
    "    \n",
    "\n"
   ]
  },
  {
   "cell_type": "code",
   "execution_count": 17,
   "metadata": {},
   "outputs": [
    {
     "output_type": "stream",
     "name": "stdout",
     "text": [
      "107842.593\n"
     ]
    }
   ],
   "source": [
    "# Optimal objective value\n",
    "print(f\"{food.objVal:.3f}\")"
   ]
  },
  {
   "cell_type": "code",
   "execution_count": 58,
   "metadata": {},
   "outputs": [
    {
     "output_type": "stream",
     "name": "stdout",
     "text": [
      "Initial_Balance[VEG1] : shadow price = 0.0, from RHS = -500.0, to RHS = -500.00\nInitial_Balance[VEG2] : shadow price = 0.0, from RHS = -500.0, to RHS = -500.00\nInitial_Balance[OIL1] : shadow price = 0.0, from RHS = -500.0, to RHS = -500.00\nInitial_Balance[OIL2] : shadow price = 0.0, from RHS = -500.0, to RHS = -500.00\nInitial_Balance[OIL3] : shadow price = 0.0, from RHS = -500.0, to RHS = -500.00\n----------------------------------------------\nBalance[VEG1,Jan] : shadow price = -75.0, from RHS = 0.0, to RHS = 0.00\nBalance[VEG1,Feb] : shadow price = -80.0, from RHS = -62.96296296296294, to RHS = 0.00\nBalance[VEG1,Mar] : shadow price = -85.0, from RHS = -62.96296296296294, to RHS = 0.00\nBalance[VEG1,Apr] : shadow price = -90.0, from RHS = -62.96296296296294, to RHS = 0.00\nBalance[VEG1,May] : shadow price = -95.0, from RHS = -62.96296296296294, to RHS = 0.00\nBalance[VEG1,Jun] : shadow price = -90.0, from RHS = -659.2592592592592, to RHS = inf\nBalance[VEG2,Jan] : shadow price = -75.0, from RHS = 0.0, to RHS = 0.00\nBalance[VEG2,Feb] : shadow price = -80.0, from RHS = -540.7407407407408, to RHS = 0.00\nBalance[VEG2,Mar] : shadow price = -85.0, from RHS = -540.7407407407408, to RHS = 0.00\nBalance[VEG2,Apr] : shadow price = -90.0, from RHS = -540.7407407407408, to RHS = 0.00\nBalance[VEG2,May] : shadow price = -95.0, from RHS = -540.7407407407408, to RHS = 0.00\nBalance[VEG2,Jun] : shadow price = -100.0, from RHS = -540.7407407407408, to RHS = inf\nBalance[OIL1,Jan] : shadow price = -85.0, from RHS = 0.0, to RHS = 0.00\nBalance[OIL1,Feb] : shadow price = -90.0, from RHS = -50.00000000000005, to RHS = 0.00\nBalance[OIL1,Mar] : shadow price = -95.0, from RHS = -50.00000000000005, to RHS = 0.00\nBalance[OIL1,Apr] : shadow price = -100.0, from RHS = -50.00000000000005, to RHS = 0.00\nBalance[OIL1,May] : shadow price = -105.0, from RHS = -50.00000000000005, to RHS = 0.00\nBalance[OIL1,Jun] : shadow price = -110.0, from RHS = -50.00000000000005, to RHS = 0.00\nBalance[OIL2,Jan] : shadow price = -85.0, from RHS = 0.0, to RHS = 0.00\nBalance[OIL2,Feb] : shadow price = -90.0, from RHS = -250.0, to RHS = inf\nBalance[OIL2,Mar] : shadow price = -95.0, from RHS = -250.0, to RHS = inf\nBalance[OIL2,Apr] : shadow price = -100.0, from RHS = -250.0, to RHS = inf\nBalance[OIL2,May] : shadow price = -105.0, from RHS = -250.0, to RHS = inf\nBalance[OIL2,Jun] : shadow price = -80.0, from RHS = -750.0, to RHS = inf\nBalance[OIL3,Jan] : shadow price = -85.0, from RHS = 0.0, to RHS = 0.00\nBalance[OIL3,Feb] : shadow price = -90.0, from RHS = -500.0, to RHS = 0.00\nBalance[OIL3,Mar] : shadow price = -95.0, from RHS = -500.0, to RHS = 0.00\nBalance[OIL3,Apr] : shadow price = -100.0, from RHS = -500.0, to RHS = 0.00\nBalance[OIL3,May] : shadow price = -105.0, from RHS = -500.0, to RHS = inf\nBalance[OIL3,Jun] : shadow price = -110.0, from RHS = -500.0, to RHS = inf\n----------------------------------------------\nEnd_Balance[VEG1] : shadow price = -20.0, from RHS = 500.0, to RHS = 500.00\nEnd_Balance[VEG2] : shadow price = -30.0, from RHS = 500.0, to RHS = 500.00\nEnd_Balance[OIL1] : shadow price = -30.0, from RHS = 500.0, to RHS = 500.00\nEnd_Balance[OIL2] : shadow price = 0.0, from RHS = 500.0, to RHS = 500.00\nEnd_Balance[OIL3] : shadow price = -30.0, from RHS = 500.0, to RHS = 500.00\n----------------------------------------------\nCapacity_Veg[Jan] : shadow price = 75.0, from RHS = 0.0, to RHS = 200.00\nCapacity_Veg[Feb] : shadow price = 70.0, from RHS = 89.28571428571428, to RHS = 200.00\nCapacity_Veg[Mar] : shadow price = 65.0, from RHS = 96.2962962962963, to RHS = 200.00\nCapacity_Veg[Apr] : shadow price = 60.0, from RHS = 160.7142857142857, to RHS = 200.00\nCapacity_Veg[May] : shadow price = 55.0, from RHS = 160.7142857142857, to RHS = 200.00\nCapacity_Veg[Jun] : shadow price = 49.62962962962963, from RHS = 160.7142857142857, to RHS = 4500.00\nCapacity_Oil[Jan] : shadow price = 65.0, from RHS = 20.0, to RHS = 250.00\nCapacity_Oil[Feb] : shadow price = 60.0, from RHS = 80.0, to RHS = 250.00\nCapacity_Oil[Mar] : shadow price = 55.0, from RHS = 155.55555555555554, to RHS = inf\nCapacity_Oil[Apr] : shadow price = 50.0, from RHS = 155.55555555555554, to RHS = 311.11\nCapacity_Oil[May] : shadow price = 45.0, from RHS = 155.55555555555554, to RHS = 311.11\nCapacity_Oil[Jun] : shadow price = 76.66666666666669, from RHS = 11.111111111111, to RHS = 311.11\n----------------------------------------------\nHardness_lower[Jan] : shadow price = 0.0, from RHS = -inf, to RHS = 1120.00\nHardness_lower[Feb] : shadow price = 0.0, from RHS = -inf, to RHS = 1350.00\nHardness_lower[Mar] : shadow price = 0.0, from RHS = -inf, to RHS = 1180.00\nHardness_lower[Apr] : shadow price = 0.0, from RHS = -inf, to RHS = 1350.00\nHardness_lower[May] : shadow price = 0.0, from RHS = -inf, to RHS = 1350.00\nHardness_lower[Jun] : shadow price = 0.0, from RHS = -inf, to RHS = 1350.00\nHardness_upper[Jan] : shadow price = 0.0, from RHS = -230.0, to RHS = inf\nHardness_upper[Feb] : shadow price = 0.0, from RHS = -170.0, to RHS = 260.00\nHardness_upper[Mar] : shadow price = 0.0, from RHS = -170.0, to RHS = inf\nHardness_upper[Apr] : shadow price = 0.0, from RHS = -170.0, to RHS = 110.00\nHardness_upper[May] : shadow price = 0.0, from RHS = -170.0, to RHS = 110.00\nHardness_upper[Jun] : shadow price = 3.7037037037037024, from RHS = -430.0000000000001, to RHS = 110.00\n----------------------------------------------\nMass_conservation[Jan] : shadow price = -150.0, from RHS = -373.3333333333333, to RHS = 38.33\nMass_conservation[Feb] : shadow price = -150.0, from RHS = -43.33333333333335, to RHS = 28.33\nMass_conservation[Mar] : shadow price = -150.0, from RHS = -393.3333333333333, to RHS = 28.33\nMass_conservation[Apr] : shadow price = -150.0, from RHS = -18.333333333333353, to RHS = 28.33\nMass_conservation[May] : shadow price = -150.0, from RHS = -18.333333333333332, to RHS = 28.33\nMass_conservation[Jun] : shadow price = -172.22222222222223, from RHS = -18.333333333333353, to RHS = 71.67\n"
     ]
    }
   ],
   "source": [
    "# Optimal shadow prices\n",
    "for n,c in enumerate(food.getConstrs()):\n",
    "    if n>1 and food.getConstrs()[n-1].ConstrName[0:3] != c.ConstrName[0:3]:\n",
    "        print('----------------------------------------------')\n",
    "    print(f\"{c.ConstrName} : shadow price = {c.Pi}, from RHS = {c.SARHSLow}, to RHS = {c.SARHSUp:.2f}\")"
   ]
  },
  {
   "source": [
    "<img src=\"./images/prob_3/b.png\"/>"
   ],
   "cell_type": "markdown",
   "metadata": {}
  },
  {
   "cell_type": "code",
   "execution_count": null,
   "metadata": {},
   "outputs": [],
   "source": []
  },
  {
   "source": [
    "<img src=\"./images/prob_3/c.png\"/>"
   ],
   "cell_type": "markdown",
   "metadata": {}
  },
  {
   "cell_type": "code",
   "execution_count": null,
   "metadata": {},
   "outputs": [],
   "source": []
  }
 ]
}