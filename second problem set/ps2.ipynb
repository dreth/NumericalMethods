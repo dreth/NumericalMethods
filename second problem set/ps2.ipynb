{
 "metadata": {
  "language_info": {
   "codemirror_mode": {
    "name": "ipython",
    "version": 3
   },
   "file_extension": ".py",
   "mimetype": "text/x-python",
   "name": "python",
   "nbconvert_exporter": "python",
   "pygments_lexer": "ipython3",
   "version": "3.7.8-final"
  },
  "orig_nbformat": 2,
  "kernelspec": {
   "name": "Python 3.7.8 64-bit ('nummethods': conda)",
   "display_name": "Python 3.7.8 64-bit ('nummethods': conda)",
   "metadata": {
    "interpreter": {
     "hash": "44a90b8c0c2b56e1b7c7e9c11eeb3509ad2ed5005236e2a04392aa8b65363be8"
    }
   }
  }
 },
 "nbformat": 4,
 "nbformat_minor": 2,
 "cells": [
  {
   "source": [
    "## Daniel Alonso, UID: 100444499"
   ],
   "cell_type": "markdown",
   "metadata": {}
  },
  {
   "source": [
    "<img src='./images/1.png'>"
   ],
   "cell_type": "markdown",
   "metadata": {}
  },
  {
   "source": [
    "<img src='./images/2.png'>"
   ],
   "cell_type": "markdown",
   "metadata": {}
  },
  {
   "source": [
    "## Problem 1-a"
   ],
   "cell_type": "markdown",
   "metadata": {}
  },
  {
   "source": [
    "Let $i$ be the source of a movement and $j$ be the destination\n",
    "\n",
    "Let $x$ be movements from one node to another, where $x_{i,j}$ represents the movement from node $i$ to node $j$"
   ],
   "cell_type": "markdown",
   "metadata": {}
  },
  {
   "source": [
    "Integer optimization formulation:\n",
    "\n",
    "minimize $44x_{1,2} + 18x_{1,3} + 85x_{1,4} + 17x_{2,5} + 13x_{2,6} + 55x_{3,5} + 53x_{3,6} + 7x_{3,7} + 26x_{4,6} + 66x_{4,7} + 6x_{5,8} + 7x_{5,9} + 26x_{6,8} + 66x_{6,9} + 26x_{6,10} + 6x_{7,9} + 60x_{7,10} + 58x_{8,11} + 70x_{9,11} + 27x_{10,11}$\n",
    "\n",
    "subject to:\n",
    "\n",
    "$x_{1,2} + x_{1,3} + x_{1,4} = 1$\n",
    "\n",
    "$x_{1,2} - x_{2,5} - x_{2,6} = 0 $\n",
    "\n",
    "$x_{1,3} - x_{3,5} - x_{3,6} - x_{3,7} = 0$\n",
    "\n",
    "$x_{1,4} - x_{4,6} - x_{4,7} = 0$\n",
    "\n",
    "$x_{2,5} + x_{3,5} - x_{5,8} - x_{5,9} = 0$\n",
    "\n",
    "$x_{2,6} + x_{3,6} + x_{4,6} - x_{6,8} - x_{6,9} - x_{6,10} = 0$\n",
    "\n",
    "$x_{3,7} + x_{4,7} - x_{7,9} - x_{7,10} = 0$\n",
    "\n",
    "$x_{5,8} + x_{6,8} - x_{8,11} = 0$\n",
    "\n",
    "$x_{5,9} + x_{6,9} + x_{7,9} - x_{9,11} = 0$\n",
    "\n",
    "$x_{6,10} + x_{7,10} - x_{10,11} = 0$\n",
    "\n",
    "$- x_{8,11} - x_{9,11} - x_{10,11} = -1$"
   ],
   "cell_type": "markdown",
   "metadata": {}
  },
  {
   "source": [
    "The integer optimization formulation (in my opinion) is more appropriate. It not only will provide the optimal integer solution but it also describes the problem better and more accurately.\n",
    "\n",
    "Using ordinary linear optimization forces us to estimate values and would make the process more convoluted even though the integer optimization problem could, perhaps be more computationally challenging depending on the size of the graph. "
   ],
   "cell_type": "markdown",
   "metadata": {}
  },
  {
   "source": [
    "## Problem 1-b"
   ],
   "cell_type": "markdown",
   "metadata": {}
  },
  {
   "cell_type": "code",
   "execution_count": 160,
   "metadata": {},
   "outputs": [],
   "source": [
    "# Gurobi-python implementation\n",
    "from gurobipy import *\n",
    "import pandas as pd\n",
    "import seaborn as sns\n",
    "from collections import defaultdict\n",
    "import numpy as np\n",
    "import matplotlib.pyplot as plt"
   ]
  },
  {
   "cell_type": "code",
   "execution_count": 161,
   "metadata": {},
   "outputs": [
    {
     "output_type": "stream",
     "name": "stdout",
     "text": [
      "Gurobi Optimizer version 9.0.3 build v9.0.3rc0 (linux64)\n",
      "Optimize a model with 11 rows, 20 columns and 40 nonzeros\n",
      "Model fingerprint: 0xd11ad6da\n",
      "Coefficient statistics:\n",
      "  Matrix range     [1e+00, 1e+00]\n",
      "  Objective range  [6e+00, 8e+01]\n",
      "  Bounds range     [0e+00, 0e+00]\n",
      "  RHS range        [1e+00, 1e+00]\n",
      "Presolve removed 6 rows and 6 columns\n",
      "Presolve time: 0.00s\n",
      "Presolved: 5 rows, 14 columns, 28 nonzeros\n",
      "\n",
      "Iteration    Objective       Primal Inf.    Dual Inf.      Time\n",
      "       0    2.5000000e+01   2.000000e+00   0.000000e+00      0s\n",
      "       2    1.0100000e+02   0.000000e+00   0.000000e+00      0s\n",
      "\n",
      "Solved in 2 iterations and 0.00 seconds\n",
      "Optimal objective  1.010000000e+02\n"
     ]
    }
   ],
   "source": [
    "nodes, supply = multidict({\n",
    "         1: 1,\n",
    "         2: 0,\n",
    "         3: 0,\n",
    "         4: 0,\n",
    "         5: 0,\n",
    "         6: 0,\n",
    "         7: 0,\n",
    "         8: 0,\n",
    "         9: 0,\n",
    "         10: 0,\n",
    "         11: -1})\n",
    " \n",
    "arcs, distance = multidict({\n",
    "    (1, 2): 44,\n",
    "    (1, 3): 18,\n",
    "    (1, 4): 85,\n",
    "    (2, 5): 17,\n",
    "    (2, 6): 13,\n",
    "    (3, 5): 55,\n",
    "    (3, 6): 53,\n",
    "    (3, 7): 7,\n",
    "    (4, 6): 26,\n",
    "    (4, 7): 66,\n",
    "    (5, 8): 6,\n",
    "    (5, 9): 7,\n",
    "    (6, 8): 26,\n",
    "    (6, 9): 66,\n",
    "    (6, 10): 26,\n",
    "    (7, 9): 6,\n",
    "    (7, 10): 60,\n",
    "    (8, 11): 58,\n",
    "    (9, 11): 70,\n",
    "    (10, 11): 27})\n",
    "\n",
    "num_nodes = 11\n",
    "\n",
    "# Optimization model\n",
    "m = Model('shortest_path')\n",
    "x = m.addVars(arcs, obj=distance, name=\"dist\")\n",
    "m.addConstrs((x.sum(i, '*') - x.sum('*', i) == supply[i] for i in nodes), \"supply\")\n",
    "m.ModelSense = GRB.MINIMIZE\n",
    "m.optimize()\n"
   ]
  },
  {
   "cell_type": "code",
   "execution_count": 162,
   "metadata": {},
   "outputs": [
    {
     "output_type": "stream",
     "name": "stdout",
     "text": [
      "x[(1, 2)] = 0.0\nx[(1, 3)] = 1.0\nx[(1, 4)] = 0.0\nx[(2, 5)] = 0.0\nx[(2, 6)] = 0.0\nx[(3, 5)] = 0.0\nx[(3, 6)] = 0.0\nx[(3, 7)] = 1.0\nx[(4, 6)] = 0.0\nx[(4, 7)] = 0.0\nx[(5, 8)] = 0.0\nx[(5, 9)] = 0.0\nx[(6, 8)] = 0.0\nx[(6, 9)] = 0.0\nx[(6, 10)] = 0.0\nx[(7, 9)] = 1.0\nx[(7, 10)] = 0.0\nx[(8, 11)] = 0.0\nx[(9, 11)] = 1.0\nx[(10, 11)] = 0.0\n"
     ]
    }
   ],
   "source": [
    "# Printing solution\n",
    "# Variable information including sensitivity information\n",
    "varnames = [f\"x[{tuple(x)}]\" for x in tuple(arcs)]\n",
    "for var, v in zip(varnames,m.getVars()):\n",
    "    print(f\"{var} = {v.X}\")"
   ]
  },
  {
   "source": [
    "We can clearly see the shortest route from node 1 to node 11 is the following:\n",
    "\n",
    "$x_{1,3} \\rightarrow x_{3,7} \\rightarrow x_{7,9} \\rightarrow x_{9,11}$"
   ],
   "cell_type": "markdown",
   "metadata": {}
  },
  {
   "source": [
    "<img src='./images/path.png'>"
   ],
   "cell_type": "markdown",
   "metadata": {}
  },
  {
   "source": [
    "## Problem 1-c"
   ],
   "cell_type": "markdown",
   "metadata": {}
  },
  {
   "cell_type": "code",
   "execution_count": 163,
   "metadata": {},
   "outputs": [
    {
     "output_type": "stream",
     "name": "stdout",
     "text": [
      "supply[1] : shadow price = 48\nsupply[2] : shadow price = 4\nsupply[3] : shadow price = 30\nsupply[4] : shadow price = -37\nsupply[5] : shadow price = 0\nsupply[6] : shadow price = 0\nsupply[7] : shadow price = 23\nsupply[8] : shadow price = 5\nsupply[9] : shadow price = 17\nsupply[10] : shadow price = -26\nsupply[11] : shadow price = -53\n"
     ]
    }
   ],
   "source": [
    "# Optimal shadow prices\n",
    "for n,c in enumerate(m.getConstrs()):\n",
    "    print(f\"{c.ConstrName} : shadow price = {int(c.Pi)}\")"
   ]
  },
  {
   "cell_type": "code",
   "execution_count": 164,
   "metadata": {},
   "outputs": [
    {
     "output_type": "stream",
     "name": "stdout",
     "text": [
      "x[(1, 2)] = 0, reduced cost = 0.00\nx[(1, 3)] = 1, reduced cost = 0.00\nx[(1, 4)] = 0, reduced cost = 0.00\nx[(2, 5)] = 0, reduced cost = 13.00\nx[(2, 6)] = 0, reduced cost = 9.00\nx[(3, 5)] = 0, reduced cost = 25.00\nx[(3, 6)] = 0, reduced cost = 23.00\nx[(3, 7)] = 1, reduced cost = 0.00\nx[(4, 6)] = 0, reduced cost = 63.00\nx[(4, 7)] = 0, reduced cost = 126.00\nx[(5, 8)] = 0, reduced cost = 11.00\nx[(5, 9)] = 0, reduced cost = 24.00\nx[(6, 8)] = 0, reduced cost = 31.00\nx[(6, 9)] = 0, reduced cost = 83.00\nx[(6, 10)] = 0, reduced cost = 0.00\nx[(7, 9)] = 1, reduced cost = 0.00\nx[(7, 10)] = 0, reduced cost = 11.00\nx[(8, 11)] = 0, reduced cost = 0.00\nx[(9, 11)] = 1, reduced cost = 0.00\nx[(10, 11)] = 0, reduced cost = 0.00\n"
     ]
    }
   ],
   "source": [
    "# Printing solution\n",
    "# Variable information including sensitivity information\n",
    "varnames = [f\"x[{tuple(x)}]\" for x in tuple(arcs)]\n",
    "for var, v in zip(varnames,m.getVars()):\n",
    "    print(f\"{var} = {int(v.X)}, reduced cost = {abs(int(v.RC)):.2f}\")"
   ]
  },
  {
   "source": [
    "While very interesting, there might not be a ton to do with the shadow prices or reduced costs as they might impose changes on a seemingly impossible to change graph. Assuming, obviously, that stuff we move always comes from node 1, then in order to effectively use the information we get from the shadow prices or reduced costs we would have to modify the graph to see how the route between node 1 and node 11 changes.\n",
    "\n",
    "Distances between locations rarely ever change, therefore the information isn't particularly practical.\n",
    "\n",
    "We could maybe impose a different scenario where our starting node is different to node 1 and we could, perhaps, obtain a different path."
   ],
   "cell_type": "markdown",
   "metadata": {}
  },
  {
   "source": [
    "Maybe we can experiment a little bit with the reduced costs:"
   ],
   "cell_type": "markdown",
   "metadata": {}
  },
  {
   "cell_type": "code",
   "execution_count": 165,
   "metadata": {},
   "outputs": [
    {
     "output_type": "stream",
     "name": "stdout",
     "text": [
      "Gurobi Optimizer version 9.0.3 build v9.0.3rc0 (linux64)\n",
      "Optimize a model with 11 rows, 20 columns and 40 nonzeros\n",
      "Model fingerprint: 0xd11ad6da\n",
      "Coefficient statistics:\n",
      "  Matrix range     [1e+00, 1e+00]\n",
      "  Objective range  [6e+00, 8e+01]\n",
      "  Bounds range     [0e+00, 0e+00]\n",
      "  RHS range        [1e+00, 1e+00]\n",
      "Presolve removed 6 rows and 6 columns\n",
      "Presolve time: 0.00s\n",
      "Presolved: 5 rows, 14 columns, 28 nonzeros\n",
      "\n",
      "Iteration    Objective       Primal Inf.    Dual Inf.      Time\n",
      "       0    2.5000000e+01   2.000000e+00   0.000000e+00      0s\n",
      "       2    1.0100000e+02   0.000000e+00   0.000000e+00      0s\n",
      "\n",
      "Solved in 2 iterations and 0.00 seconds\n",
      "Optimal objective  1.010000000e+02\n",
      "Gurobi Optimizer version 9.0.3 build v9.0.3rc0 (linux64)\n",
      "Optimize a model with 11 rows, 20 columns and 40 nonzeros\n",
      "Model fingerprint: 0xd11ad6da\n",
      "Coefficient statistics:\n",
      "  Matrix range     [1e+00, 1e+00]\n",
      "  Objective range  [6e+00, 8e+01]\n",
      "  Bounds range     [0e+00, 0e+00]\n",
      "  RHS range        [1e+00, 1e+00]\n",
      "Presolve removed 6 rows and 6 columns\n",
      "Presolve time: 0.00s\n",
      "Presolved: 5 rows, 14 columns, 28 nonzeros\n",
      "\n",
      "Iteration    Objective       Primal Inf.    Dual Inf.      Time\n",
      "       0    2.5000000e+01   2.000000e+00   0.000000e+00      0s\n",
      "       2    1.0100000e+02   0.000000e+00   0.000000e+00      0s\n",
      "\n",
      "Solved in 2 iterations and 0.00 seconds\n",
      "Optimal objective  1.010000000e+02\n",
      "Gurobi Optimizer version 9.0.3 build v9.0.3rc0 (linux64)\n",
      "Optimize a model with 11 rows, 20 columns and 40 nonzeros\n",
      "Model fingerprint: 0xd11ad6da\n",
      "Coefficient statistics:\n",
      "  Matrix range     [1e+00, 1e+00]\n",
      "  Objective range  [6e+00, 8e+01]\n",
      "  Bounds range     [0e+00, 0e+00]\n",
      "  RHS range        [1e+00, 1e+00]\n",
      "Presolve removed 6 rows and 6 columns\n",
      "Presolve time: 0.00s\n",
      "Presolved: 5 rows, 14 columns, 28 nonzeros\n",
      "\n",
      "Iteration    Objective       Primal Inf.    Dual Inf.      Time\n",
      "       0    2.5000000e+01   2.000000e+00   0.000000e+00      0s\n",
      "       2    1.0100000e+02   0.000000e+00   0.000000e+00      0s\n",
      "\n",
      "Solved in 2 iterations and 0.00 seconds\n",
      "Optimal objective  1.010000000e+02\n",
      "Gurobi Optimizer version 9.0.3 build v9.0.3rc0 (linux64)\n",
      "Optimize a model with 11 rows, 20 columns and 40 nonzeros\n",
      "Model fingerprint: 0xa13d88f5\n",
      "Coefficient statistics:\n",
      "  Matrix range     [1e+00, 1e+00]\n",
      "  Objective range  [4e+00, 8e+01]\n",
      "  Bounds range     [0e+00, 0e+00]\n",
      "  RHS range        [1e+00, 1e+00]\n",
      "Presolve removed 6 rows and 6 columns\n",
      "Presolve time: 0.00s\n",
      "Presolved: 5 rows, 14 columns, 28 nonzeros\n",
      "\n",
      "Iteration    Objective       Primal Inf.    Dual Inf.      Time\n",
      "       0    2.5000000e+01   2.000000e+00   0.000000e+00      0s\n",
      "       3    1.0100000e+02   0.000000e+00   0.000000e+00      0s\n",
      "\n",
      "Solved in 3 iterations and 0.00 seconds\n",
      "Optimal objective  1.010000000e+02\n",
      "Gurobi Optimizer version 9.0.3 build v9.0.3rc0 (linux64)\n",
      "Optimize a model with 11 rows, 20 columns and 40 nonzeros\n",
      "Model fingerprint: 0x7d4b8cce\n",
      "Coefficient statistics:\n",
      "  Matrix range     [1e+00, 1e+00]\n",
      "  Objective range  [4e+00, 8e+01]\n",
      "  Bounds range     [0e+00, 0e+00]\n",
      "  RHS range        [1e+00, 1e+00]\n",
      "Presolve removed 6 rows and 6 columns\n",
      "Presolve time: 0.00s\n",
      "Presolved: 5 rows, 14 columns, 28 nonzeros\n",
      "\n",
      "Iteration    Objective       Primal Inf.    Dual Inf.      Time\n",
      "       0    2.5000000e+01   2.000000e+00   0.000000e+00      0s\n",
      "       2    1.0100000e+02   0.000000e+00   0.000000e+00      0s\n",
      "\n",
      "Solved in 2 iterations and 0.00 seconds\n",
      "Optimal objective  1.010000000e+02\n",
      "Gurobi Optimizer version 9.0.3 build v9.0.3rc0 (linux64)\n",
      "Optimize a model with 11 rows, 20 columns and 40 nonzeros\n",
      "Model fingerprint: 0xda71a686\n",
      "Coefficient statistics:\n",
      "  Matrix range     [1e+00, 1e+00]\n",
      "  Objective range  [6e+00, 8e+01]\n",
      "  Bounds range     [0e+00, 0e+00]\n",
      "  RHS range        [1e+00, 1e+00]\n",
      "Presolve removed 6 rows and 6 columns\n",
      "Presolve time: 0.00s\n",
      "Presolved: 5 rows, 14 columns, 28 nonzeros\n",
      "\n",
      "Iteration    Objective       Primal Inf.    Dual Inf.      Time\n",
      "       0    2.5000000e+01   2.000000e+00   0.000000e+00      0s\n",
      "       3    1.0100000e+02   0.000000e+00   0.000000e+00      0s\n",
      "\n",
      "Solved in 3 iterations and 0.00 seconds\n",
      "Optimal objective  1.010000000e+02\n",
      "Gurobi Optimizer version 9.0.3 build v9.0.3rc0 (linux64)\n",
      "Optimize a model with 11 rows, 20 columns and 40 nonzeros\n",
      "Model fingerprint: 0xcaaa6154\n",
      "Coefficient statistics:\n",
      "  Matrix range     [1e+00, 1e+00]\n",
      "  Objective range  [6e+00, 8e+01]\n",
      "  Bounds range     [0e+00, 0e+00]\n",
      "  RHS range        [1e+00, 1e+00]\n",
      "Presolve removed 6 rows and 6 columns\n",
      "Presolve time: 0.00s\n",
      "Presolved: 5 rows, 14 columns, 28 nonzeros\n",
      "\n",
      "Iteration    Objective       Primal Inf.    Dual Inf.      Time\n",
      "       0    2.5000000e+01   2.000000e+00   0.000000e+00      0s\n",
      "       2    1.0100000e+02   0.000000e+00   0.000000e+00      0s\n",
      "\n",
      "Solved in 2 iterations and 0.00 seconds\n",
      "Optimal objective  1.010000000e+02\n",
      "Gurobi Optimizer version 9.0.3 build v9.0.3rc0 (linux64)\n",
      "Optimize a model with 11 rows, 20 columns and 40 nonzeros\n",
      "Model fingerprint: 0xd11ad6da\n",
      "Coefficient statistics:\n",
      "  Matrix range     [1e+00, 1e+00]\n",
      "  Objective range  [6e+00, 8e+01]\n",
      "  Bounds range     [0e+00, 0e+00]\n",
      "  RHS range        [1e+00, 1e+00]\n",
      "Presolve removed 6 rows and 6 columns\n",
      "Presolve time: 0.00s\n",
      "Presolved: 5 rows, 14 columns, 28 nonzeros\n",
      "\n",
      "Iteration    Objective       Primal Inf.    Dual Inf.      Time\n",
      "       0    2.5000000e+01   2.000000e+00   0.000000e+00      0s\n",
      "       2    1.0100000e+02   0.000000e+00   0.000000e+00      0s\n",
      "\n",
      "Solved in 2 iterations and 0.00 seconds\n",
      "Optimal objective  1.010000000e+02\n",
      "Gurobi Optimizer version 9.0.3 build v9.0.3rc0 (linux64)\n",
      "Optimize a model with 11 rows, 20 columns and 40 nonzeros\n",
      "Model fingerprint: 0xd11ad6da\n",
      "Coefficient statistics:\n",
      "  Matrix range     [1e+00, 1e+00]\n",
      "  Objective range  [6e+00, 8e+01]\n",
      "  Bounds range     [0e+00, 0e+00]\n",
      "  RHS range        [1e+00, 1e+00]\n",
      "Presolve removed 6 rows and 6 columns\n",
      "Presolve time: 0.00s\n",
      "Presolved: 5 rows, 14 columns, 28 nonzeros\n",
      "\n",
      "Iteration    Objective       Primal Inf.    Dual Inf.      Time\n",
      "       0    2.5000000e+01   2.000000e+00   0.000000e+00      0s\n",
      "       2    1.0100000e+02   0.000000e+00   0.000000e+00      0s\n",
      "\n",
      "Solved in 2 iterations and 0.00 seconds\n",
      "Optimal objective  1.010000000e+02\n",
      "Gurobi Optimizer version 9.0.3 build v9.0.3rc0 (linux64)\n",
      "Optimize a model with 11 rows, 20 columns and 40 nonzeros\n",
      "Model fingerprint: 0xd11ad6da\n",
      "Coefficient statistics:\n",
      "  Matrix range     [1e+00, 1e+00]\n",
      "  Objective range  [6e+00, 8e+01]\n",
      "  Bounds range     [0e+00, 0e+00]\n",
      "  RHS range        [1e+00, 1e+00]\n",
      "Presolve removed 6 rows and 6 columns\n",
      "Presolve time: 0.00s\n",
      "Presolved: 5 rows, 14 columns, 28 nonzeros\n",
      "\n",
      "Iteration    Objective       Primal Inf.    Dual Inf.      Time\n",
      "       0    2.5000000e+01   2.000000e+00   0.000000e+00      0s\n",
      "       2    1.0100000e+02   0.000000e+00   0.000000e+00      0s\n",
      "\n",
      "Solved in 2 iterations and 0.00 seconds\n",
      "Optimal objective  1.010000000e+02\n",
      "Gurobi Optimizer version 9.0.3 build v9.0.3rc0 (linux64)\n",
      "Optimize a model with 11 rows, 20 columns and 40 nonzeros\n",
      "Model fingerprint: 0x0e0c647c\n",
      "Coefficient statistics:\n",
      "  Matrix range     [1e+00, 1e+00]\n",
      "  Objective range  [6e+00, 8e+01]\n",
      "  Bounds range     [0e+00, 0e+00]\n",
      "  RHS range        [1e+00, 1e+00]\n",
      "Presolve removed 6 rows and 6 columns\n",
      "Presolve time: 0.00s\n",
      "Presolved: 5 rows, 14 columns, 28 nonzeros\n",
      "\n",
      "Iteration    Objective       Primal Inf.    Dual Inf.      Time\n",
      "       0    2.5000000e+01   2.000000e+00   0.000000e+00      0s\n",
      "       2    1.0100000e+02   0.000000e+00   0.000000e+00      0s\n",
      "\n",
      "Solved in 2 iterations and 0.00 seconds\n",
      "Optimal objective  1.010000000e+02\n",
      "Gurobi Optimizer version 9.0.3 build v9.0.3rc0 (linux64)\n",
      "Optimize a model with 11 rows, 20 columns and 40 nonzeros\n",
      "Model fingerprint: 0xd11ad6da\n",
      "Coefficient statistics:\n",
      "  Matrix range     [1e+00, 1e+00]\n",
      "  Objective range  [6e+00, 8e+01]\n",
      "  Bounds range     [0e+00, 0e+00]\n",
      "  RHS range        [1e+00, 1e+00]\n",
      "Presolve removed 6 rows and 6 columns\n",
      "Presolve time: 0.00s\n",
      "Presolved: 5 rows, 14 columns, 28 nonzeros\n",
      "\n",
      "Iteration    Objective       Primal Inf.    Dual Inf.      Time\n",
      "       0    2.5000000e+01   2.000000e+00   0.000000e+00      0s\n",
      "       2    1.0100000e+02   0.000000e+00   0.000000e+00      0s\n",
      "\n",
      "Solved in 2 iterations and 0.00 seconds\n",
      "Optimal objective  1.010000000e+02\n",
      "Gurobi Optimizer version 9.0.3 build v9.0.3rc0 (linux64)\n",
      "Optimize a model with 11 rows, 20 columns and 40 nonzeros\n",
      "Model fingerprint: 0xd11ad6da\n",
      "Coefficient statistics:\n",
      "  Matrix range     [1e+00, 1e+00]\n",
      "  Objective range  [6e+00, 8e+01]\n",
      "  Bounds range     [0e+00, 0e+00]\n",
      "  RHS range        [1e+00, 1e+00]\n",
      "Presolve removed 6 rows and 6 columns\n",
      "Presolve time: 0.00s\n",
      "Presolved: 5 rows, 14 columns, 28 nonzeros\n",
      "\n",
      "Iteration    Objective       Primal Inf.    Dual Inf.      Time\n",
      "       0    2.5000000e+01   2.000000e+00   0.000000e+00      0s\n",
      "       2    1.0100000e+02   0.000000e+00   0.000000e+00      0s\n",
      "\n",
      "Solved in 2 iterations and 0.00 seconds\n",
      "Optimal objective  1.010000000e+02\n",
      "Gurobi Optimizer version 9.0.3 build v9.0.3rc0 (linux64)\n",
      "Optimize a model with 11 rows, 20 columns and 40 nonzeros\n",
      "Model fingerprint: 0xd11ad6da\n",
      "Coefficient statistics:\n",
      "  Matrix range     [1e+00, 1e+00]\n",
      "  Objective range  [6e+00, 8e+01]\n",
      "  Bounds range     [0e+00, 0e+00]\n",
      "  RHS range        [1e+00, 1e+00]\n",
      "Presolve removed 6 rows and 6 columns\n",
      "Presolve time: 0.00s\n",
      "Presolved: 5 rows, 14 columns, 28 nonzeros\n",
      "\n",
      "Iteration    Objective       Primal Inf.    Dual Inf.      Time\n",
      "       0    2.5000000e+01   2.000000e+00   0.000000e+00      0s\n",
      "       2    1.0100000e+02   0.000000e+00   0.000000e+00      0s\n",
      "\n",
      "Solved in 2 iterations and 0.00 seconds\n",
      "Optimal objective  1.010000000e+02\n"
     ]
    }
   ],
   "source": [
    "# constructing a loop to modify the distances in an unrealistic manner to see how routes would change using our reduced costs\n",
    "sols = {k:{s:0 for s in tuple(arcs)} for k in tuple(arcs)}\n",
    "orig_distance = distance.copy()\n",
    "for d, red_cost in zip(distance,[v.RC for v in m.getVars()]):\n",
    "    distance = orig_distance.copy()\n",
    "    if red_cost < distance[d]:\n",
    "        distance[d] -= red_cost\n",
    "\n",
    "        # Optimization model\n",
    "        m = Model('shortest_path')\n",
    "        x = m.addVars(arcs, obj=distance, name=\"dist\")\n",
    "        m.addConstrs((x.sum(i, '*') - x.sum('*', i) == supply[i] for i in nodes), \"supply\")\n",
    "        m.ModelSense = GRB.MINIMIZE\n",
    "        m.optimize()\n",
    "\n",
    "        varnames = [x for x in tuple(arcs)]\n",
    "        for var, v in zip(varnames,m.getVars()):\n",
    "            sols[d][var] = v.X"
   ]
  },
  {
   "cell_type": "code",
   "execution_count": 166,
   "metadata": {},
   "outputs": [
    {
     "output_type": "execute_result",
     "data": {
      "text/plain": [
       "<AxesSubplot:>"
      ]
     },
     "metadata": {},
     "execution_count": 166
    },
    {
     "output_type": "display_data",
     "data": {
      "text/plain": "<Figure size 1440x1440 with 1 Axes>",
      "image/svg+xml": "<?xml version=\"1.0\" encoding=\"utf-8\" standalone=\"no\"?>\n<!DOCTYPE svg PUBLIC \"-//W3C//DTD SVG 1.1//EN\"\n  \"http://www.w3.org/Graphics/SVG/1.1/DTD/svg11.dtd\">\n<!-- Created with matplotlib (https://matplotlib.org/) -->\n<svg height=\"1118.278125pt\" version=\"1.1\" viewBox=\"0 0 1147.078125 1118.278125\" width=\"1147.078125pt\" xmlns=\"http://www.w3.org/2000/svg\" xmlns:xlink=\"http://www.w3.org/1999/xlink\">\n <metadata>\n  <rdf:RDF xmlns:cc=\"http://creativecommons.org/ns#\" xmlns:dc=\"http://purl.org/dc/elements/1.1/\" xmlns:rdf=\"http://www.w3.org/1999/02/22-rdf-syntax-ns#\">\n   <cc:Work>\n    <dc:type rdf:resource=\"http://purl.org/dc/dcmitype/StillImage\"/>\n    <dc:date>2020-11-08T15:04:36.145829</dc:date>\n    <dc:format>image/svg+xml</dc:format>\n    <dc:creator>\n     <cc:Agent>\n      <dc:title>Matplotlib v3.3.2, https://matplotlib.org/</dc:title>\n     </cc:Agent>\n    </dc:creator>\n   </cc:Work>\n  </rdf:RDF>\n </metadata>\n <defs>\n  <style type=\"text/css\">*{stroke-linecap:butt;stroke-linejoin:round;}</style>\n </defs>\n <g id=\"figure_1\">\n  <g id=\"patch_1\">\n   <path d=\"M 0 1118.278125 \nL 1147.078125 1118.278125 \nL 1147.078125 0 \nL 0 0 \nz\n\" style=\"fill:none;\"/>\n  </g>\n  <g id=\"axes_1\">\n   <g id=\"patch_2\">\n    <path d=\"M 23.878125 1094.4 \nL 1139.878125 1094.4 \nL 1139.878125 7.2 \nL 23.878125 7.2 \nz\n\" style=\"fill:#ffffff;\"/>\n   </g>\n   <g id=\"QuadMesh_1\">\n    <path clip-path=\"url(#pb68584984b)\" d=\"M 23.878125 7.2 \nL 103.592411 7.2 \nL 103.592411 61.56 \nL 23.878125 61.56 \nL 23.878125 7.2 \n\" style=\"fill:#03051a;\"/>\n    <path clip-path=\"url(#pb68584984b)\" d=\"M 103.592411 7.2 \nL 183.306696 7.2 \nL 183.306696 61.56 \nL 103.592411 61.56 \nL 103.592411 7.2 \n\" style=\"fill:#03051a;\"/>\n    <path clip-path=\"url(#pb68584984b)\" d=\"M 183.306696 7.2 \nL 263.020982 7.2 \nL 263.020982 61.56 \nL 183.306696 61.56 \nL 183.306696 7.2 \n\" style=\"fill:#03051a;\"/>\n    <path clip-path=\"url(#pb68584984b)\" d=\"M 263.020982 7.2 \nL 342.735268 7.2 \nL 342.735268 61.56 \nL 263.020982 61.56 \nL 263.020982 7.2 \n\" style=\"fill:#03051a;\"/>\n    <path clip-path=\"url(#pb68584984b)\" d=\"M 342.735268 7.2 \nL 422.449554 7.2 \nL 422.449554 61.56 \nL 342.735268 61.56 \nL 342.735268 7.2 \n\" style=\"fill:#faebdd;\"/>\n    <path clip-path=\"url(#pb68584984b)\" d=\"M 422.449554 7.2 \nL 502.163839 7.2 \nL 502.163839 61.56 \nL 422.449554 61.56 \nL 422.449554 7.2 \n\" style=\"fill:#03051a;\"/>\n    <path clip-path=\"url(#pb68584984b)\" d=\"M 502.163839 7.2 \nL 581.878125 7.2 \nL 581.878125 61.56 \nL 502.163839 61.56 \nL 502.163839 7.2 \n\" style=\"fill:#03051a;\"/>\n    <path clip-path=\"url(#pb68584984b)\" d=\"M 581.878125 7.2 \nL 661.592411 7.2 \nL 661.592411 61.56 \nL 581.878125 61.56 \nL 581.878125 7.2 \n\" style=\"fill:#03051a;\"/>\n    <path clip-path=\"url(#pb68584984b)\" d=\"M 661.592411 7.2 \nL 741.306696 7.2 \nL 741.306696 61.56 \nL 661.592411 61.56 \nL 661.592411 7.2 \n\" style=\"fill:#03051a;\"/>\n    <path clip-path=\"url(#pb68584984b)\" d=\"M 741.306696 7.2 \nL 821.020982 7.2 \nL 821.020982 61.56 \nL 741.306696 61.56 \nL 741.306696 7.2 \n\" style=\"fill:#03051a;\"/>\n    <path clip-path=\"url(#pb68584984b)\" d=\"M 821.020982 7.2 \nL 900.735268 7.2 \nL 900.735268 61.56 \nL 821.020982 61.56 \nL 821.020982 7.2 \n\" style=\"fill:#03051a;\"/>\n    <path clip-path=\"url(#pb68584984b)\" d=\"M 900.735268 7.2 \nL 980.449554 7.2 \nL 980.449554 61.56 \nL 900.735268 61.56 \nL 900.735268 7.2 \n\" style=\"fill:#03051a;\"/>\n    <path clip-path=\"url(#pb68584984b)\" d=\"M 980.449554 7.2 \nL 1060.163839 7.2 \nL 1060.163839 61.56 \nL 980.449554 61.56 \nL 980.449554 7.2 \n\" style=\"fill:#03051a;\"/>\n    <path clip-path=\"url(#pb68584984b)\" d=\"M 1060.163839 7.2 \nL 1139.878125 7.2 \nL 1139.878125 61.56 \nL 1060.163839 61.56 \nL 1060.163839 7.2 \n\" style=\"fill:#03051a;\"/>\n    <path clip-path=\"url(#pb68584984b)\" d=\"M 23.878125 61.56 \nL 103.592411 61.56 \nL 103.592411 115.92 \nL 23.878125 115.92 \nL 23.878125 61.56 \n\" style=\"fill:#faebdd;\"/>\n    <path clip-path=\"url(#pb68584984b)\" d=\"M 103.592411 61.56 \nL 183.306696 61.56 \nL 183.306696 115.92 \nL 103.592411 115.92 \nL 103.592411 61.56 \n\" style=\"fill:#faebdd;\"/>\n    <path clip-path=\"url(#pb68584984b)\" d=\"M 183.306696 61.56 \nL 263.020982 61.56 \nL 263.020982 115.92 \nL 183.306696 115.92 \nL 183.306696 61.56 \n\" style=\"fill:#faebdd;\"/>\n    <path clip-path=\"url(#pb68584984b)\" d=\"M 263.020982 61.56 \nL 342.735268 61.56 \nL 342.735268 115.92 \nL 263.020982 115.92 \nL 263.020982 61.56 \n\" style=\"fill:#faebdd;\"/>\n    <path clip-path=\"url(#pb68584984b)\" d=\"M 342.735268 61.56 \nL 422.449554 61.56 \nL 422.449554 115.92 \nL 342.735268 115.92 \nL 342.735268 61.56 \n\" style=\"fill:#03051a;\"/>\n    <path clip-path=\"url(#pb68584984b)\" d=\"M 422.449554 61.56 \nL 502.163839 61.56 \nL 502.163839 115.92 \nL 422.449554 115.92 \nL 422.449554 61.56 \n\" style=\"fill:#faebdd;\"/>\n    <path clip-path=\"url(#pb68584984b)\" d=\"M 502.163839 61.56 \nL 581.878125 61.56 \nL 581.878125 115.92 \nL 502.163839 115.92 \nL 502.163839 61.56 \n\" style=\"fill:#faebdd;\"/>\n    <path clip-path=\"url(#pb68584984b)\" d=\"M 581.878125 61.56 \nL 661.592411 61.56 \nL 661.592411 115.92 \nL 581.878125 115.92 \nL 581.878125 61.56 \n\" style=\"fill:#faebdd;\"/>\n    <path clip-path=\"url(#pb68584984b)\" d=\"M 661.592411 61.56 \nL 741.306696 61.56 \nL 741.306696 115.92 \nL 661.592411 115.92 \nL 661.592411 61.56 \n\" style=\"fill:#faebdd;\"/>\n    <path clip-path=\"url(#pb68584984b)\" d=\"M 741.306696 61.56 \nL 821.020982 61.56 \nL 821.020982 115.92 \nL 741.306696 115.92 \nL 741.306696 61.56 \n\" style=\"fill:#faebdd;\"/>\n    <path clip-path=\"url(#pb68584984b)\" d=\"M 821.020982 61.56 \nL 900.735268 61.56 \nL 900.735268 115.92 \nL 821.020982 115.92 \nL 821.020982 61.56 \n\" style=\"fill:#faebdd;\"/>\n    <path clip-path=\"url(#pb68584984b)\" d=\"M 900.735268 61.56 \nL 980.449554 61.56 \nL 980.449554 115.92 \nL 900.735268 115.92 \nL 900.735268 61.56 \n\" style=\"fill:#faebdd;\"/>\n    <path clip-path=\"url(#pb68584984b)\" d=\"M 980.449554 61.56 \nL 1060.163839 61.56 \nL 1060.163839 115.92 \nL 980.449554 115.92 \nL 980.449554 61.56 \n\" style=\"fill:#faebdd;\"/>\n    <path clip-path=\"url(#pb68584984b)\" d=\"M 1060.163839 61.56 \nL 1139.878125 61.56 \nL 1139.878125 115.92 \nL 1060.163839 115.92 \nL 1060.163839 61.56 \n\" style=\"fill:#faebdd;\"/>\n    <path clip-path=\"url(#pb68584984b)\" d=\"M 23.878125 115.92 \nL 103.592411 115.92 \nL 103.592411 170.28 \nL 23.878125 170.28 \nL 23.878125 115.92 \n\" style=\"fill:#03051a;\"/>\n    <path clip-path=\"url(#pb68584984b)\" d=\"M 103.592411 115.92 \nL 183.306696 115.92 \nL 183.306696 170.28 \nL 103.592411 170.28 \nL 103.592411 115.92 \n\" style=\"fill:#03051a;\"/>\n    <path clip-path=\"url(#pb68584984b)\" d=\"M 183.306696 115.92 \nL 263.020982 115.92 \nL 263.020982 170.28 \nL 183.306696 170.28 \nL 183.306696 115.92 \n\" style=\"fill:#03051a;\"/>\n    <path clip-path=\"url(#pb68584984b)\" d=\"M 263.020982 115.92 \nL 342.735268 115.92 \nL 342.735268 170.28 \nL 263.020982 170.28 \nL 263.020982 115.92 \n\" style=\"fill:#03051a;\"/>\n    <path clip-path=\"url(#pb68584984b)\" d=\"M 342.735268 115.92 \nL 422.449554 115.92 \nL 422.449554 170.28 \nL 342.735268 170.28 \nL 342.735268 115.92 \n\" style=\"fill:#03051a;\"/>\n    <path clip-path=\"url(#pb68584984b)\" d=\"M 422.449554 115.92 \nL 502.163839 115.92 \nL 502.163839 170.28 \nL 422.449554 170.28 \nL 422.449554 115.92 \n\" style=\"fill:#03051a;\"/>\n    <path clip-path=\"url(#pb68584984b)\" d=\"M 502.163839 115.92 \nL 581.878125 115.92 \nL 581.878125 170.28 \nL 502.163839 170.28 \nL 502.163839 115.92 \n\" style=\"fill:#03051a;\"/>\n    <path clip-path=\"url(#pb68584984b)\" d=\"M 581.878125 115.92 \nL 661.592411 115.92 \nL 661.592411 170.28 \nL 581.878125 170.28 \nL 581.878125 115.92 \n\" style=\"fill:#03051a;\"/>\n    <path clip-path=\"url(#pb68584984b)\" d=\"M 661.592411 115.92 \nL 741.306696 115.92 \nL 741.306696 170.28 \nL 661.592411 170.28 \nL 661.592411 115.92 \n\" style=\"fill:#03051a;\"/>\n    <path clip-path=\"url(#pb68584984b)\" d=\"M 741.306696 115.92 \nL 821.020982 115.92 \nL 821.020982 170.28 \nL 741.306696 170.28 \nL 741.306696 115.92 \n\" style=\"fill:#03051a;\"/>\n    <path clip-path=\"url(#pb68584984b)\" d=\"M 821.020982 115.92 \nL 900.735268 115.92 \nL 900.735268 170.28 \nL 821.020982 170.28 \nL 821.020982 115.92 \n\" style=\"fill:#03051a;\"/>\n    <path clip-path=\"url(#pb68584984b)\" d=\"M 900.735268 115.92 \nL 980.449554 115.92 \nL 980.449554 170.28 \nL 900.735268 170.28 \nL 900.735268 115.92 \n\" style=\"fill:#03051a;\"/>\n    <path clip-path=\"url(#pb68584984b)\" d=\"M 980.449554 115.92 \nL 1060.163839 115.92 \nL 1060.163839 170.28 \nL 980.449554 170.28 \nL 980.449554 115.92 \n\" style=\"fill:#03051a;\"/>\n    <path clip-path=\"url(#pb68584984b)\" d=\"M 1060.163839 115.92 \nL 1139.878125 115.92 \nL 1139.878125 170.28 \nL 1060.163839 170.28 \nL 1060.163839 115.92 \n\" style=\"fill:#03051a;\"/>\n    <path clip-path=\"url(#pb68584984b)\" d=\"M 23.878125 170.28 \nL 103.592411 170.28 \nL 103.592411 224.64 \nL 23.878125 224.64 \nL 23.878125 170.28 \n\" style=\"fill:#03051a;\"/>\n    <path clip-path=\"url(#pb68584984b)\" d=\"M 103.592411 170.28 \nL 183.306696 170.28 \nL 183.306696 224.64 \nL 103.592411 224.64 \nL 103.592411 170.28 \n\" style=\"fill:#03051a;\"/>\n    <path clip-path=\"url(#pb68584984b)\" d=\"M 183.306696 170.28 \nL 263.020982 170.28 \nL 263.020982 224.64 \nL 183.306696 224.64 \nL 183.306696 170.28 \n\" style=\"fill:#03051a;\"/>\n    <path clip-path=\"url(#pb68584984b)\" d=\"M 263.020982 170.28 \nL 342.735268 170.28 \nL 342.735268 224.64 \nL 263.020982 224.64 \nL 263.020982 170.28 \n\" style=\"fill:#03051a;\"/>\n    <path clip-path=\"url(#pb68584984b)\" d=\"M 342.735268 170.28 \nL 422.449554 170.28 \nL 422.449554 224.64 \nL 342.735268 224.64 \nL 342.735268 170.28 \n\" style=\"fill:#03051a;\"/>\n    <path clip-path=\"url(#pb68584984b)\" d=\"M 422.449554 170.28 \nL 502.163839 170.28 \nL 502.163839 224.64 \nL 422.449554 224.64 \nL 422.449554 170.28 \n\" style=\"fill:#03051a;\"/>\n    <path clip-path=\"url(#pb68584984b)\" d=\"M 502.163839 170.28 \nL 581.878125 170.28 \nL 581.878125 224.64 \nL 502.163839 224.64 \nL 502.163839 170.28 \n\" style=\"fill:#03051a;\"/>\n    <path clip-path=\"url(#pb68584984b)\" d=\"M 581.878125 170.28 \nL 661.592411 170.28 \nL 661.592411 224.64 \nL 581.878125 224.64 \nL 581.878125 170.28 \n\" style=\"fill:#03051a;\"/>\n    <path clip-path=\"url(#pb68584984b)\" d=\"M 661.592411 170.28 \nL 741.306696 170.28 \nL 741.306696 224.64 \nL 661.592411 224.64 \nL 661.592411 170.28 \n\" style=\"fill:#03051a;\"/>\n    <path clip-path=\"url(#pb68584984b)\" d=\"M 741.306696 170.28 \nL 821.020982 170.28 \nL 821.020982 224.64 \nL 741.306696 224.64 \nL 741.306696 170.28 \n\" style=\"fill:#03051a;\"/>\n    <path clip-path=\"url(#pb68584984b)\" d=\"M 821.020982 170.28 \nL 900.735268 170.28 \nL 900.735268 224.64 \nL 821.020982 224.64 \nL 821.020982 170.28 \n\" style=\"fill:#03051a;\"/>\n    <path clip-path=\"url(#pb68584984b)\" d=\"M 900.735268 170.28 \nL 980.449554 170.28 \nL 980.449554 224.64 \nL 900.735268 224.64 \nL 900.735268 170.28 \n\" style=\"fill:#03051a;\"/>\n    <path clip-path=\"url(#pb68584984b)\" d=\"M 980.449554 170.28 \nL 1060.163839 170.28 \nL 1060.163839 224.64 \nL 980.449554 224.64 \nL 980.449554 170.28 \n\" style=\"fill:#03051a;\"/>\n    <path clip-path=\"url(#pb68584984b)\" d=\"M 1060.163839 170.28 \nL 1139.878125 170.28 \nL 1139.878125 224.64 \nL 1060.163839 224.64 \nL 1060.163839 170.28 \n\" style=\"fill:#03051a;\"/>\n    <path clip-path=\"url(#pb68584984b)\" d=\"M 23.878125 224.64 \nL 103.592411 224.64 \nL 103.592411 279 \nL 23.878125 279 \nL 23.878125 224.64 \n\" style=\"fill:#03051a;\"/>\n    <path clip-path=\"url(#pb68584984b)\" d=\"M 103.592411 224.64 \nL 183.306696 224.64 \nL 183.306696 279 \nL 103.592411 279 \nL 103.592411 224.64 \n\" style=\"fill:#03051a;\"/>\n    <path clip-path=\"url(#pb68584984b)\" d=\"M 183.306696 224.64 \nL 263.020982 224.64 \nL 263.020982 279 \nL 183.306696 279 \nL 183.306696 224.64 \n\" style=\"fill:#03051a;\"/>\n    <path clip-path=\"url(#pb68584984b)\" d=\"M 263.020982 224.64 \nL 342.735268 224.64 \nL 342.735268 279 \nL 263.020982 279 \nL 263.020982 224.64 \n\" style=\"fill:#03051a;\"/>\n    <path clip-path=\"url(#pb68584984b)\" d=\"M 342.735268 224.64 \nL 422.449554 224.64 \nL 422.449554 279 \nL 342.735268 279 \nL 342.735268 224.64 \n\" style=\"fill:#faebdd;\"/>\n    <path clip-path=\"url(#pb68584984b)\" d=\"M 422.449554 224.64 \nL 502.163839 224.64 \nL 502.163839 279 \nL 422.449554 279 \nL 422.449554 224.64 \n\" style=\"fill:#03051a;\"/>\n    <path clip-path=\"url(#pb68584984b)\" d=\"M 502.163839 224.64 \nL 581.878125 224.64 \nL 581.878125 279 \nL 502.163839 279 \nL 502.163839 224.64 \n\" style=\"fill:#03051a;\"/>\n    <path clip-path=\"url(#pb68584984b)\" d=\"M 581.878125 224.64 \nL 661.592411 224.64 \nL 661.592411 279 \nL 581.878125 279 \nL 581.878125 224.64 \n\" style=\"fill:#03051a;\"/>\n    <path clip-path=\"url(#pb68584984b)\" d=\"M 661.592411 224.64 \nL 741.306696 224.64 \nL 741.306696 279 \nL 661.592411 279 \nL 661.592411 224.64 \n\" style=\"fill:#03051a;\"/>\n    <path clip-path=\"url(#pb68584984b)\" d=\"M 741.306696 224.64 \nL 821.020982 224.64 \nL 821.020982 279 \nL 741.306696 279 \nL 741.306696 224.64 \n\" style=\"fill:#03051a;\"/>\n    <path clip-path=\"url(#pb68584984b)\" d=\"M 821.020982 224.64 \nL 900.735268 224.64 \nL 900.735268 279 \nL 821.020982 279 \nL 821.020982 224.64 \n\" style=\"fill:#03051a;\"/>\n    <path clip-path=\"url(#pb68584984b)\" d=\"M 900.735268 224.64 \nL 980.449554 224.64 \nL 980.449554 279 \nL 900.735268 279 \nL 900.735268 224.64 \n\" style=\"fill:#03051a;\"/>\n    <path clip-path=\"url(#pb68584984b)\" d=\"M 980.449554 224.64 \nL 1060.163839 224.64 \nL 1060.163839 279 \nL 980.449554 279 \nL 980.449554 224.64 \n\" style=\"fill:#03051a;\"/>\n    <path clip-path=\"url(#pb68584984b)\" d=\"M 1060.163839 224.64 \nL 1139.878125 224.64 \nL 1139.878125 279 \nL 1060.163839 279 \nL 1060.163839 224.64 \n\" style=\"fill:#03051a;\"/>\n    <path clip-path=\"url(#pb68584984b)\" d=\"M 23.878125 279 \nL 103.592411 279 \nL 103.592411 333.36 \nL 23.878125 333.36 \nL 23.878125 279 \n\" style=\"fill:#03051a;\"/>\n    <path clip-path=\"url(#pb68584984b)\" d=\"M 103.592411 279 \nL 183.306696 279 \nL 183.306696 333.36 \nL 103.592411 333.36 \nL 103.592411 279 \n\" style=\"fill:#03051a;\"/>\n    <path clip-path=\"url(#pb68584984b)\" d=\"M 183.306696 279 \nL 263.020982 279 \nL 263.020982 333.36 \nL 183.306696 333.36 \nL 183.306696 279 \n\" style=\"fill:#03051a;\"/>\n    <path clip-path=\"url(#pb68584984b)\" d=\"M 263.020982 279 \nL 342.735268 279 \nL 342.735268 333.36 \nL 263.020982 333.36 \nL 263.020982 279 \n\" style=\"fill:#03051a;\"/>\n    <path clip-path=\"url(#pb68584984b)\" d=\"M 342.735268 279 \nL 422.449554 279 \nL 422.449554 333.36 \nL 342.735268 333.36 \nL 342.735268 279 \n\" style=\"fill:#03051a;\"/>\n    <path clip-path=\"url(#pb68584984b)\" d=\"M 422.449554 279 \nL 502.163839 279 \nL 502.163839 333.36 \nL 422.449554 333.36 \nL 422.449554 279 \n\" style=\"fill:#03051a;\"/>\n    <path clip-path=\"url(#pb68584984b)\" d=\"M 502.163839 279 \nL 581.878125 279 \nL 581.878125 333.36 \nL 502.163839 333.36 \nL 502.163839 279 \n\" style=\"fill:#03051a;\"/>\n    <path clip-path=\"url(#pb68584984b)\" d=\"M 581.878125 279 \nL 661.592411 279 \nL 661.592411 333.36 \nL 581.878125 333.36 \nL 581.878125 279 \n\" style=\"fill:#03051a;\"/>\n    <path clip-path=\"url(#pb68584984b)\" d=\"M 661.592411 279 \nL 741.306696 279 \nL 741.306696 333.36 \nL 661.592411 333.36 \nL 661.592411 279 \n\" style=\"fill:#03051a;\"/>\n    <path clip-path=\"url(#pb68584984b)\" d=\"M 741.306696 279 \nL 821.020982 279 \nL 821.020982 333.36 \nL 741.306696 333.36 \nL 741.306696 279 \n\" style=\"fill:#03051a;\"/>\n    <path clip-path=\"url(#pb68584984b)\" d=\"M 821.020982 279 \nL 900.735268 279 \nL 900.735268 333.36 \nL 821.020982 333.36 \nL 821.020982 279 \n\" style=\"fill:#03051a;\"/>\n    <path clip-path=\"url(#pb68584984b)\" d=\"M 900.735268 279 \nL 980.449554 279 \nL 980.449554 333.36 \nL 900.735268 333.36 \nL 900.735268 279 \n\" style=\"fill:#03051a;\"/>\n    <path clip-path=\"url(#pb68584984b)\" d=\"M 980.449554 279 \nL 1060.163839 279 \nL 1060.163839 333.36 \nL 980.449554 333.36 \nL 980.449554 279 \n\" style=\"fill:#03051a;\"/>\n    <path clip-path=\"url(#pb68584984b)\" d=\"M 1060.163839 279 \nL 1139.878125 279 \nL 1139.878125 333.36 \nL 1060.163839 333.36 \nL 1060.163839 279 \n\" style=\"fill:#03051a;\"/>\n    <path clip-path=\"url(#pb68584984b)\" d=\"M 23.878125 333.36 \nL 103.592411 333.36 \nL 103.592411 387.72 \nL 23.878125 387.72 \nL 23.878125 333.36 \n\" style=\"fill:#03051a;\"/>\n    <path clip-path=\"url(#pb68584984b)\" d=\"M 103.592411 333.36 \nL 183.306696 333.36 \nL 183.306696 387.72 \nL 103.592411 387.72 \nL 103.592411 333.36 \n\" style=\"fill:#03051a;\"/>\n    <path clip-path=\"url(#pb68584984b)\" d=\"M 183.306696 333.36 \nL 263.020982 333.36 \nL 263.020982 387.72 \nL 183.306696 387.72 \nL 183.306696 333.36 \n\" style=\"fill:#03051a;\"/>\n    <path clip-path=\"url(#pb68584984b)\" d=\"M 263.020982 333.36 \nL 342.735268 333.36 \nL 342.735268 387.72 \nL 263.020982 387.72 \nL 263.020982 333.36 \n\" style=\"fill:#03051a;\"/>\n    <path clip-path=\"url(#pb68584984b)\" d=\"M 342.735268 333.36 \nL 422.449554 333.36 \nL 422.449554 387.72 \nL 342.735268 387.72 \nL 342.735268 333.36 \n\" style=\"fill:#03051a;\"/>\n    <path clip-path=\"url(#pb68584984b)\" d=\"M 422.449554 333.36 \nL 502.163839 333.36 \nL 502.163839 387.72 \nL 422.449554 387.72 \nL 422.449554 333.36 \n\" style=\"fill:#03051a;\"/>\n    <path clip-path=\"url(#pb68584984b)\" d=\"M 502.163839 333.36 \nL 581.878125 333.36 \nL 581.878125 387.72 \nL 502.163839 387.72 \nL 502.163839 333.36 \n\" style=\"fill:#faebdd;\"/>\n    <path clip-path=\"url(#pb68584984b)\" d=\"M 581.878125 333.36 \nL 661.592411 333.36 \nL 661.592411 387.72 \nL 581.878125 387.72 \nL 581.878125 333.36 \n\" style=\"fill:#03051a;\"/>\n    <path clip-path=\"url(#pb68584984b)\" d=\"M 661.592411 333.36 \nL 741.306696 333.36 \nL 741.306696 387.72 \nL 661.592411 387.72 \nL 661.592411 333.36 \n\" style=\"fill:#03051a;\"/>\n    <path clip-path=\"url(#pb68584984b)\" d=\"M 741.306696 333.36 \nL 821.020982 333.36 \nL 821.020982 387.72 \nL 741.306696 387.72 \nL 741.306696 333.36 \n\" style=\"fill:#03051a;\"/>\n    <path clip-path=\"url(#pb68584984b)\" d=\"M 821.020982 333.36 \nL 900.735268 333.36 \nL 900.735268 387.72 \nL 821.020982 387.72 \nL 821.020982 333.36 \n\" style=\"fill:#03051a;\"/>\n    <path clip-path=\"url(#pb68584984b)\" d=\"M 900.735268 333.36 \nL 980.449554 333.36 \nL 980.449554 387.72 \nL 900.735268 387.72 \nL 900.735268 333.36 \n\" style=\"fill:#03051a;\"/>\n    <path clip-path=\"url(#pb68584984b)\" d=\"M 980.449554 333.36 \nL 1060.163839 333.36 \nL 1060.163839 387.72 \nL 980.449554 387.72 \nL 980.449554 333.36 \n\" style=\"fill:#03051a;\"/>\n    <path clip-path=\"url(#pb68584984b)\" d=\"M 1060.163839 333.36 \nL 1139.878125 333.36 \nL 1139.878125 387.72 \nL 1060.163839 387.72 \nL 1060.163839 333.36 \n\" style=\"fill:#03051a;\"/>\n    <path clip-path=\"url(#pb68584984b)\" d=\"M 23.878125 387.72 \nL 103.592411 387.72 \nL 103.592411 442.08 \nL 23.878125 442.08 \nL 23.878125 387.72 \n\" style=\"fill:#faebdd;\"/>\n    <path clip-path=\"url(#pb68584984b)\" d=\"M 103.592411 387.72 \nL 183.306696 387.72 \nL 183.306696 442.08 \nL 103.592411 442.08 \nL 103.592411 387.72 \n\" style=\"fill:#faebdd;\"/>\n    <path clip-path=\"url(#pb68584984b)\" d=\"M 183.306696 387.72 \nL 263.020982 387.72 \nL 263.020982 442.08 \nL 183.306696 442.08 \nL 183.306696 387.72 \n\" style=\"fill:#faebdd;\"/>\n    <path clip-path=\"url(#pb68584984b)\" d=\"M 263.020982 387.72 \nL 342.735268 387.72 \nL 342.735268 442.08 \nL 263.020982 442.08 \nL 263.020982 387.72 \n\" style=\"fill:#faebdd;\"/>\n    <path clip-path=\"url(#pb68584984b)\" d=\"M 342.735268 387.72 \nL 422.449554 387.72 \nL 422.449554 442.08 \nL 342.735268 442.08 \nL 342.735268 387.72 \n\" style=\"fill:#03051a;\"/>\n    <path clip-path=\"url(#pb68584984b)\" d=\"M 422.449554 387.72 \nL 502.163839 387.72 \nL 502.163839 442.08 \nL 422.449554 442.08 \nL 422.449554 387.72 \n\" style=\"fill:#faebdd;\"/>\n    <path clip-path=\"url(#pb68584984b)\" d=\"M 502.163839 387.72 \nL 581.878125 387.72 \nL 581.878125 442.08 \nL 502.163839 442.08 \nL 502.163839 387.72 \n\" style=\"fill:#03051a;\"/>\n    <path clip-path=\"url(#pb68584984b)\" d=\"M 581.878125 387.72 \nL 661.592411 387.72 \nL 661.592411 442.08 \nL 581.878125 442.08 \nL 581.878125 387.72 \n\" style=\"fill:#faebdd;\"/>\n    <path clip-path=\"url(#pb68584984b)\" d=\"M 661.592411 387.72 \nL 741.306696 387.72 \nL 741.306696 442.08 \nL 661.592411 442.08 \nL 661.592411 387.72 \n\" style=\"fill:#faebdd;\"/>\n    <path clip-path=\"url(#pb68584984b)\" d=\"M 741.306696 387.72 \nL 821.020982 387.72 \nL 821.020982 442.08 \nL 741.306696 442.08 \nL 741.306696 387.72 \n\" style=\"fill:#faebdd;\"/>\n    <path clip-path=\"url(#pb68584984b)\" d=\"M 821.020982 387.72 \nL 900.735268 387.72 \nL 900.735268 442.08 \nL 821.020982 442.08 \nL 821.020982 387.72 \n\" style=\"fill:#faebdd;\"/>\n    <path clip-path=\"url(#pb68584984b)\" d=\"M 900.735268 387.72 \nL 980.449554 387.72 \nL 980.449554 442.08 \nL 900.735268 442.08 \nL 900.735268 387.72 \n\" style=\"fill:#faebdd;\"/>\n    <path clip-path=\"url(#pb68584984b)\" d=\"M 980.449554 387.72 \nL 1060.163839 387.72 \nL 1060.163839 442.08 \nL 980.449554 442.08 \nL 980.449554 387.72 \n\" style=\"fill:#faebdd;\"/>\n    <path clip-path=\"url(#pb68584984b)\" d=\"M 1060.163839 387.72 \nL 1139.878125 387.72 \nL 1139.878125 442.08 \nL 1060.163839 442.08 \nL 1060.163839 387.72 \n\" style=\"fill:#faebdd;\"/>\n    <path clip-path=\"url(#pb68584984b)\" d=\"M 23.878125 442.08 \nL 103.592411 442.08 \nL 103.592411 496.44 \nL 23.878125 496.44 \nL 23.878125 442.08 \n\" style=\"fill:#03051a;\"/>\n    <path clip-path=\"url(#pb68584984b)\" d=\"M 103.592411 442.08 \nL 183.306696 442.08 \nL 183.306696 496.44 \nL 103.592411 496.44 \nL 103.592411 442.08 \n\" style=\"fill:#03051a;\"/>\n    <path clip-path=\"url(#pb68584984b)\" d=\"M 183.306696 442.08 \nL 263.020982 442.08 \nL 263.020982 496.44 \nL 183.306696 496.44 \nL 183.306696 442.08 \n\" style=\"fill:#03051a;\"/>\n    <path clip-path=\"url(#pb68584984b)\" d=\"M 263.020982 442.08 \nL 342.735268 442.08 \nL 342.735268 496.44 \nL 263.020982 496.44 \nL 263.020982 442.08 \n\" style=\"fill:#03051a;\"/>\n    <path clip-path=\"url(#pb68584984b)\" d=\"M 342.735268 442.08 \nL 422.449554 442.08 \nL 422.449554 496.44 \nL 342.735268 496.44 \nL 342.735268 442.08 \n\" style=\"fill:#03051a;\"/>\n    <path clip-path=\"url(#pb68584984b)\" d=\"M 422.449554 442.08 \nL 502.163839 442.08 \nL 502.163839 496.44 \nL 422.449554 496.44 \nL 422.449554 442.08 \n\" style=\"fill:#03051a;\"/>\n    <path clip-path=\"url(#pb68584984b)\" d=\"M 502.163839 442.08 \nL 581.878125 442.08 \nL 581.878125 496.44 \nL 502.163839 496.44 \nL 502.163839 442.08 \n\" style=\"fill:#03051a;\"/>\n    <path clip-path=\"url(#pb68584984b)\" d=\"M 581.878125 442.08 \nL 661.592411 442.08 \nL 661.592411 496.44 \nL 581.878125 496.44 \nL 581.878125 442.08 \n\" style=\"fill:#03051a;\"/>\n    <path clip-path=\"url(#pb68584984b)\" d=\"M 661.592411 442.08 \nL 741.306696 442.08 \nL 741.306696 496.44 \nL 661.592411 496.44 \nL 661.592411 442.08 \n\" style=\"fill:#03051a;\"/>\n    <path clip-path=\"url(#pb68584984b)\" d=\"M 741.306696 442.08 \nL 821.020982 442.08 \nL 821.020982 496.44 \nL 741.306696 496.44 \nL 741.306696 442.08 \n\" style=\"fill:#03051a;\"/>\n    <path clip-path=\"url(#pb68584984b)\" d=\"M 821.020982 442.08 \nL 900.735268 442.08 \nL 900.735268 496.44 \nL 821.020982 496.44 \nL 821.020982 442.08 \n\" style=\"fill:#03051a;\"/>\n    <path clip-path=\"url(#pb68584984b)\" d=\"M 900.735268 442.08 \nL 980.449554 442.08 \nL 980.449554 496.44 \nL 900.735268 496.44 \nL 900.735268 442.08 \n\" style=\"fill:#03051a;\"/>\n    <path clip-path=\"url(#pb68584984b)\" d=\"M 980.449554 442.08 \nL 1060.163839 442.08 \nL 1060.163839 496.44 \nL 980.449554 496.44 \nL 980.449554 442.08 \n\" style=\"fill:#03051a;\"/>\n    <path clip-path=\"url(#pb68584984b)\" d=\"M 1060.163839 442.08 \nL 1139.878125 442.08 \nL 1139.878125 496.44 \nL 1060.163839 496.44 \nL 1060.163839 442.08 \n\" style=\"fill:#03051a;\"/>\n    <path clip-path=\"url(#pb68584984b)\" d=\"M 23.878125 496.44 \nL 103.592411 496.44 \nL 103.592411 550.8 \nL 23.878125 550.8 \nL 23.878125 496.44 \n\" style=\"fill:#03051a;\"/>\n    <path clip-path=\"url(#pb68584984b)\" d=\"M 103.592411 496.44 \nL 183.306696 496.44 \nL 183.306696 550.8 \nL 103.592411 550.8 \nL 103.592411 496.44 \n\" style=\"fill:#03051a;\"/>\n    <path clip-path=\"url(#pb68584984b)\" d=\"M 183.306696 496.44 \nL 263.020982 496.44 \nL 263.020982 550.8 \nL 183.306696 550.8 \nL 183.306696 496.44 \n\" style=\"fill:#03051a;\"/>\n    <path clip-path=\"url(#pb68584984b)\" d=\"M 263.020982 496.44 \nL 342.735268 496.44 \nL 342.735268 550.8 \nL 263.020982 550.8 \nL 263.020982 496.44 \n\" style=\"fill:#03051a;\"/>\n    <path clip-path=\"url(#pb68584984b)\" d=\"M 342.735268 496.44 \nL 422.449554 496.44 \nL 422.449554 550.8 \nL 342.735268 550.8 \nL 342.735268 496.44 \n\" style=\"fill:#03051a;\"/>\n    <path clip-path=\"url(#pb68584984b)\" d=\"M 422.449554 496.44 \nL 502.163839 496.44 \nL 502.163839 550.8 \nL 422.449554 550.8 \nL 422.449554 496.44 \n\" style=\"fill:#03051a;\"/>\n    <path clip-path=\"url(#pb68584984b)\" d=\"M 502.163839 496.44 \nL 581.878125 496.44 \nL 581.878125 550.8 \nL 502.163839 550.8 \nL 502.163839 496.44 \n\" style=\"fill:#03051a;\"/>\n    <path clip-path=\"url(#pb68584984b)\" d=\"M 581.878125 496.44 \nL 661.592411 496.44 \nL 661.592411 550.8 \nL 581.878125 550.8 \nL 581.878125 496.44 \n\" style=\"fill:#03051a;\"/>\n    <path clip-path=\"url(#pb68584984b)\" d=\"M 661.592411 496.44 \nL 741.306696 496.44 \nL 741.306696 550.8 \nL 661.592411 550.8 \nL 661.592411 496.44 \n\" style=\"fill:#03051a;\"/>\n    <path clip-path=\"url(#pb68584984b)\" d=\"M 741.306696 496.44 \nL 821.020982 496.44 \nL 821.020982 550.8 \nL 741.306696 550.8 \nL 741.306696 496.44 \n\" style=\"fill:#03051a;\"/>\n    <path clip-path=\"url(#pb68584984b)\" d=\"M 821.020982 496.44 \nL 900.735268 496.44 \nL 900.735268 550.8 \nL 821.020982 550.8 \nL 821.020982 496.44 \n\" style=\"fill:#03051a;\"/>\n    <path clip-path=\"url(#pb68584984b)\" d=\"M 900.735268 496.44 \nL 980.449554 496.44 \nL 980.449554 550.8 \nL 900.735268 550.8 \nL 900.735268 496.44 \n\" style=\"fill:#03051a;\"/>\n    <path clip-path=\"url(#pb68584984b)\" d=\"M 980.449554 496.44 \nL 1060.163839 496.44 \nL 1060.163839 550.8 \nL 980.449554 550.8 \nL 980.449554 496.44 \n\" style=\"fill:#03051a;\"/>\n    <path clip-path=\"url(#pb68584984b)\" d=\"M 1060.163839 496.44 \nL 1139.878125 496.44 \nL 1139.878125 550.8 \nL 1060.163839 550.8 \nL 1060.163839 496.44 \n\" style=\"fill:#03051a;\"/>\n    <path clip-path=\"url(#pb68584984b)\" d=\"M 23.878125 550.8 \nL 103.592411 550.8 \nL 103.592411 605.16 \nL 23.878125 605.16 \nL 23.878125 550.8 \n\" style=\"fill:#03051a;\"/>\n    <path clip-path=\"url(#pb68584984b)\" d=\"M 103.592411 550.8 \nL 183.306696 550.8 \nL 183.306696 605.16 \nL 103.592411 605.16 \nL 103.592411 550.8 \n\" style=\"fill:#03051a;\"/>\n    <path clip-path=\"url(#pb68584984b)\" d=\"M 183.306696 550.8 \nL 263.020982 550.8 \nL 263.020982 605.16 \nL 183.306696 605.16 \nL 183.306696 550.8 \n\" style=\"fill:#03051a;\"/>\n    <path clip-path=\"url(#pb68584984b)\" d=\"M 263.020982 550.8 \nL 342.735268 550.8 \nL 342.735268 605.16 \nL 263.020982 605.16 \nL 263.020982 550.8 \n\" style=\"fill:#03051a;\"/>\n    <path clip-path=\"url(#pb68584984b)\" d=\"M 342.735268 550.8 \nL 422.449554 550.8 \nL 422.449554 605.16 \nL 342.735268 605.16 \nL 342.735268 550.8 \n\" style=\"fill:#03051a;\"/>\n    <path clip-path=\"url(#pb68584984b)\" d=\"M 422.449554 550.8 \nL 502.163839 550.8 \nL 502.163839 605.16 \nL 422.449554 605.16 \nL 422.449554 550.8 \n\" style=\"fill:#03051a;\"/>\n    <path clip-path=\"url(#pb68584984b)\" d=\"M 502.163839 550.8 \nL 581.878125 550.8 \nL 581.878125 605.16 \nL 502.163839 605.16 \nL 502.163839 550.8 \n\" style=\"fill:#03051a;\"/>\n    <path clip-path=\"url(#pb68584984b)\" d=\"M 581.878125 550.8 \nL 661.592411 550.8 \nL 661.592411 605.16 \nL 581.878125 605.16 \nL 581.878125 550.8 \n\" style=\"fill:#03051a;\"/>\n    <path clip-path=\"url(#pb68584984b)\" d=\"M 661.592411 550.8 \nL 741.306696 550.8 \nL 741.306696 605.16 \nL 661.592411 605.16 \nL 661.592411 550.8 \n\" style=\"fill:#03051a;\"/>\n    <path clip-path=\"url(#pb68584984b)\" d=\"M 741.306696 550.8 \nL 821.020982 550.8 \nL 821.020982 605.16 \nL 741.306696 605.16 \nL 741.306696 550.8 \n\" style=\"fill:#03051a;\"/>\n    <path clip-path=\"url(#pb68584984b)\" d=\"M 821.020982 550.8 \nL 900.735268 550.8 \nL 900.735268 605.16 \nL 821.020982 605.16 \nL 821.020982 550.8 \n\" style=\"fill:#03051a;\"/>\n    <path clip-path=\"url(#pb68584984b)\" d=\"M 900.735268 550.8 \nL 980.449554 550.8 \nL 980.449554 605.16 \nL 900.735268 605.16 \nL 900.735268 550.8 \n\" style=\"fill:#03051a;\"/>\n    <path clip-path=\"url(#pb68584984b)\" d=\"M 980.449554 550.8 \nL 1060.163839 550.8 \nL 1060.163839 605.16 \nL 980.449554 605.16 \nL 980.449554 550.8 \n\" style=\"fill:#03051a;\"/>\n    <path clip-path=\"url(#pb68584984b)\" d=\"M 1060.163839 550.8 \nL 1139.878125 550.8 \nL 1139.878125 605.16 \nL 1060.163839 605.16 \nL 1060.163839 550.8 \n\" style=\"fill:#03051a;\"/>\n    <path clip-path=\"url(#pb68584984b)\" d=\"M 23.878125 605.16 \nL 103.592411 605.16 \nL 103.592411 659.52 \nL 23.878125 659.52 \nL 23.878125 605.16 \n\" style=\"fill:#03051a;\"/>\n    <path clip-path=\"url(#pb68584984b)\" d=\"M 103.592411 605.16 \nL 183.306696 605.16 \nL 183.306696 659.52 \nL 103.592411 659.52 \nL 103.592411 605.16 \n\" style=\"fill:#03051a;\"/>\n    <path clip-path=\"url(#pb68584984b)\" d=\"M 183.306696 605.16 \nL 263.020982 605.16 \nL 263.020982 659.52 \nL 183.306696 659.52 \nL 183.306696 605.16 \n\" style=\"fill:#03051a;\"/>\n    <path clip-path=\"url(#pb68584984b)\" d=\"M 263.020982 605.16 \nL 342.735268 605.16 \nL 342.735268 659.52 \nL 263.020982 659.52 \nL 263.020982 605.16 \n\" style=\"fill:#03051a;\"/>\n    <path clip-path=\"url(#pb68584984b)\" d=\"M 342.735268 605.16 \nL 422.449554 605.16 \nL 422.449554 659.52 \nL 342.735268 659.52 \nL 342.735268 605.16 \n\" style=\"fill:#03051a;\"/>\n    <path clip-path=\"url(#pb68584984b)\" d=\"M 422.449554 605.16 \nL 502.163839 605.16 \nL 502.163839 659.52 \nL 422.449554 659.52 \nL 422.449554 605.16 \n\" style=\"fill:#03051a;\"/>\n    <path clip-path=\"url(#pb68584984b)\" d=\"M 502.163839 605.16 \nL 581.878125 605.16 \nL 581.878125 659.52 \nL 502.163839 659.52 \nL 502.163839 605.16 \n\" style=\"fill:#03051a;\"/>\n    <path clip-path=\"url(#pb68584984b)\" d=\"M 581.878125 605.16 \nL 661.592411 605.16 \nL 661.592411 659.52 \nL 581.878125 659.52 \nL 581.878125 605.16 \n\" style=\"fill:#03051a;\"/>\n    <path clip-path=\"url(#pb68584984b)\" d=\"M 661.592411 605.16 \nL 741.306696 605.16 \nL 741.306696 659.52 \nL 661.592411 659.52 \nL 661.592411 605.16 \n\" style=\"fill:#03051a;\"/>\n    <path clip-path=\"url(#pb68584984b)\" d=\"M 741.306696 605.16 \nL 821.020982 605.16 \nL 821.020982 659.52 \nL 741.306696 659.52 \nL 741.306696 605.16 \n\" style=\"fill:#03051a;\"/>\n    <path clip-path=\"url(#pb68584984b)\" d=\"M 821.020982 605.16 \nL 900.735268 605.16 \nL 900.735268 659.52 \nL 821.020982 659.52 \nL 821.020982 605.16 \n\" style=\"fill:#03051a;\"/>\n    <path clip-path=\"url(#pb68584984b)\" d=\"M 900.735268 605.16 \nL 980.449554 605.16 \nL 980.449554 659.52 \nL 900.735268 659.52 \nL 900.735268 605.16 \n\" style=\"fill:#03051a;\"/>\n    <path clip-path=\"url(#pb68584984b)\" d=\"M 980.449554 605.16 \nL 1060.163839 605.16 \nL 1060.163839 659.52 \nL 980.449554 659.52 \nL 980.449554 605.16 \n\" style=\"fill:#03051a;\"/>\n    <path clip-path=\"url(#pb68584984b)\" d=\"M 1060.163839 605.16 \nL 1139.878125 605.16 \nL 1139.878125 659.52 \nL 1060.163839 659.52 \nL 1060.163839 605.16 \n\" style=\"fill:#03051a;\"/>\n    <path clip-path=\"url(#pb68584984b)\" d=\"M 23.878125 659.52 \nL 103.592411 659.52 \nL 103.592411 713.88 \nL 23.878125 713.88 \nL 23.878125 659.52 \n\" style=\"fill:#03051a;\"/>\n    <path clip-path=\"url(#pb68584984b)\" d=\"M 103.592411 659.52 \nL 183.306696 659.52 \nL 183.306696 713.88 \nL 103.592411 713.88 \nL 103.592411 659.52 \n\" style=\"fill:#03051a;\"/>\n    <path clip-path=\"url(#pb68584984b)\" d=\"M 183.306696 659.52 \nL 263.020982 659.52 \nL 263.020982 713.88 \nL 183.306696 713.88 \nL 183.306696 659.52 \n\" style=\"fill:#03051a;\"/>\n    <path clip-path=\"url(#pb68584984b)\" d=\"M 263.020982 659.52 \nL 342.735268 659.52 \nL 342.735268 713.88 \nL 263.020982 713.88 \nL 263.020982 659.52 \n\" style=\"fill:#03051a;\"/>\n    <path clip-path=\"url(#pb68584984b)\" d=\"M 342.735268 659.52 \nL 422.449554 659.52 \nL 422.449554 713.88 \nL 342.735268 713.88 \nL 342.735268 659.52 \n\" style=\"fill:#03051a;\"/>\n    <path clip-path=\"url(#pb68584984b)\" d=\"M 422.449554 659.52 \nL 502.163839 659.52 \nL 502.163839 713.88 \nL 422.449554 713.88 \nL 422.449554 659.52 \n\" style=\"fill:#03051a;\"/>\n    <path clip-path=\"url(#pb68584984b)\" d=\"M 502.163839 659.52 \nL 581.878125 659.52 \nL 581.878125 713.88 \nL 502.163839 713.88 \nL 502.163839 659.52 \n\" style=\"fill:#03051a;\"/>\n    <path clip-path=\"url(#pb68584984b)\" d=\"M 581.878125 659.52 \nL 661.592411 659.52 \nL 661.592411 713.88 \nL 581.878125 713.88 \nL 581.878125 659.52 \n\" style=\"fill:#03051a;\"/>\n    <path clip-path=\"url(#pb68584984b)\" d=\"M 661.592411 659.52 \nL 741.306696 659.52 \nL 741.306696 713.88 \nL 661.592411 713.88 \nL 661.592411 659.52 \n\" style=\"fill:#03051a;\"/>\n    <path clip-path=\"url(#pb68584984b)\" d=\"M 741.306696 659.52 \nL 821.020982 659.52 \nL 821.020982 713.88 \nL 741.306696 713.88 \nL 741.306696 659.52 \n\" style=\"fill:#03051a;\"/>\n    <path clip-path=\"url(#pb68584984b)\" d=\"M 821.020982 659.52 \nL 900.735268 659.52 \nL 900.735268 713.88 \nL 821.020982 713.88 \nL 821.020982 659.52 \n\" style=\"fill:#03051a;\"/>\n    <path clip-path=\"url(#pb68584984b)\" d=\"M 900.735268 659.52 \nL 980.449554 659.52 \nL 980.449554 713.88 \nL 900.735268 713.88 \nL 900.735268 659.52 \n\" style=\"fill:#03051a;\"/>\n    <path clip-path=\"url(#pb68584984b)\" d=\"M 980.449554 659.52 \nL 1060.163839 659.52 \nL 1060.163839 713.88 \nL 980.449554 713.88 \nL 980.449554 659.52 \n\" style=\"fill:#03051a;\"/>\n    <path clip-path=\"url(#pb68584984b)\" d=\"M 1060.163839 659.52 \nL 1139.878125 659.52 \nL 1139.878125 713.88 \nL 1060.163839 713.88 \nL 1060.163839 659.52 \n\" style=\"fill:#03051a;\"/>\n    <path clip-path=\"url(#pb68584984b)\" d=\"M 23.878125 713.88 \nL 103.592411 713.88 \nL 103.592411 768.24 \nL 23.878125 768.24 \nL 23.878125 713.88 \n\" style=\"fill:#03051a;\"/>\n    <path clip-path=\"url(#pb68584984b)\" d=\"M 103.592411 713.88 \nL 183.306696 713.88 \nL 183.306696 768.24 \nL 103.592411 768.24 \nL 103.592411 713.88 \n\" style=\"fill:#03051a;\"/>\n    <path clip-path=\"url(#pb68584984b)\" d=\"M 183.306696 713.88 \nL 263.020982 713.88 \nL 263.020982 768.24 \nL 183.306696 768.24 \nL 183.306696 713.88 \n\" style=\"fill:#03051a;\"/>\n    <path clip-path=\"url(#pb68584984b)\" d=\"M 263.020982 713.88 \nL 342.735268 713.88 \nL 342.735268 768.24 \nL 263.020982 768.24 \nL 263.020982 713.88 \n\" style=\"fill:#03051a;\"/>\n    <path clip-path=\"url(#pb68584984b)\" d=\"M 342.735268 713.88 \nL 422.449554 713.88 \nL 422.449554 768.24 \nL 342.735268 768.24 \nL 342.735268 713.88 \n\" style=\"fill:#03051a;\"/>\n    <path clip-path=\"url(#pb68584984b)\" d=\"M 422.449554 713.88 \nL 502.163839 713.88 \nL 502.163839 768.24 \nL 422.449554 768.24 \nL 422.449554 713.88 \n\" style=\"fill:#03051a;\"/>\n    <path clip-path=\"url(#pb68584984b)\" d=\"M 502.163839 713.88 \nL 581.878125 713.88 \nL 581.878125 768.24 \nL 502.163839 768.24 \nL 502.163839 713.88 \n\" style=\"fill:#03051a;\"/>\n    <path clip-path=\"url(#pb68584984b)\" d=\"M 581.878125 713.88 \nL 661.592411 713.88 \nL 661.592411 768.24 \nL 581.878125 768.24 \nL 581.878125 713.88 \n\" style=\"fill:#03051a;\"/>\n    <path clip-path=\"url(#pb68584984b)\" d=\"M 661.592411 713.88 \nL 741.306696 713.88 \nL 741.306696 768.24 \nL 661.592411 768.24 \nL 661.592411 713.88 \n\" style=\"fill:#03051a;\"/>\n    <path clip-path=\"url(#pb68584984b)\" d=\"M 741.306696 713.88 \nL 821.020982 713.88 \nL 821.020982 768.24 \nL 741.306696 768.24 \nL 741.306696 713.88 \n\" style=\"fill:#03051a;\"/>\n    <path clip-path=\"url(#pb68584984b)\" d=\"M 821.020982 713.88 \nL 900.735268 713.88 \nL 900.735268 768.24 \nL 821.020982 768.24 \nL 821.020982 713.88 \n\" style=\"fill:#03051a;\"/>\n    <path clip-path=\"url(#pb68584984b)\" d=\"M 900.735268 713.88 \nL 980.449554 713.88 \nL 980.449554 768.24 \nL 900.735268 768.24 \nL 900.735268 713.88 \n\" style=\"fill:#03051a;\"/>\n    <path clip-path=\"url(#pb68584984b)\" d=\"M 980.449554 713.88 \nL 1060.163839 713.88 \nL 1060.163839 768.24 \nL 980.449554 768.24 \nL 980.449554 713.88 \n\" style=\"fill:#03051a;\"/>\n    <path clip-path=\"url(#pb68584984b)\" d=\"M 1060.163839 713.88 \nL 1139.878125 713.88 \nL 1139.878125 768.24 \nL 1060.163839 768.24 \nL 1060.163839 713.88 \n\" style=\"fill:#03051a;\"/>\n    <path clip-path=\"url(#pb68584984b)\" d=\"M 23.878125 768.24 \nL 103.592411 768.24 \nL 103.592411 822.6 \nL 23.878125 822.6 \nL 23.878125 768.24 \n\" style=\"fill:#03051a;\"/>\n    <path clip-path=\"url(#pb68584984b)\" d=\"M 103.592411 768.24 \nL 183.306696 768.24 \nL 183.306696 822.6 \nL 103.592411 822.6 \nL 103.592411 768.24 \n\" style=\"fill:#03051a;\"/>\n    <path clip-path=\"url(#pb68584984b)\" d=\"M 183.306696 768.24 \nL 263.020982 768.24 \nL 263.020982 822.6 \nL 183.306696 822.6 \nL 183.306696 768.24 \n\" style=\"fill:#03051a;\"/>\n    <path clip-path=\"url(#pb68584984b)\" d=\"M 263.020982 768.24 \nL 342.735268 768.24 \nL 342.735268 822.6 \nL 263.020982 822.6 \nL 263.020982 768.24 \n\" style=\"fill:#03051a;\"/>\n    <path clip-path=\"url(#pb68584984b)\" d=\"M 342.735268 768.24 \nL 422.449554 768.24 \nL 422.449554 822.6 \nL 342.735268 822.6 \nL 342.735268 768.24 \n\" style=\"fill:#faebdd;\"/>\n    <path clip-path=\"url(#pb68584984b)\" d=\"M 422.449554 768.24 \nL 502.163839 768.24 \nL 502.163839 822.6 \nL 422.449554 822.6 \nL 422.449554 768.24 \n\" style=\"fill:#03051a;\"/>\n    <path clip-path=\"url(#pb68584984b)\" d=\"M 502.163839 768.24 \nL 581.878125 768.24 \nL 581.878125 822.6 \nL 502.163839 822.6 \nL 502.163839 768.24 \n\" style=\"fill:#faebdd;\"/>\n    <path clip-path=\"url(#pb68584984b)\" d=\"M 581.878125 768.24 \nL 661.592411 768.24 \nL 661.592411 822.6 \nL 581.878125 822.6 \nL 581.878125 768.24 \n\" style=\"fill:#03051a;\"/>\n    <path clip-path=\"url(#pb68584984b)\" d=\"M 661.592411 768.24 \nL 741.306696 768.24 \nL 741.306696 822.6 \nL 661.592411 822.6 \nL 661.592411 768.24 \n\" style=\"fill:#03051a;\"/>\n    <path clip-path=\"url(#pb68584984b)\" d=\"M 741.306696 768.24 \nL 821.020982 768.24 \nL 821.020982 822.6 \nL 741.306696 822.6 \nL 741.306696 768.24 \n\" style=\"fill:#03051a;\"/>\n    <path clip-path=\"url(#pb68584984b)\" d=\"M 821.020982 768.24 \nL 900.735268 768.24 \nL 900.735268 822.6 \nL 821.020982 822.6 \nL 821.020982 768.24 \n\" style=\"fill:#03051a;\"/>\n    <path clip-path=\"url(#pb68584984b)\" d=\"M 900.735268 768.24 \nL 980.449554 768.24 \nL 980.449554 822.6 \nL 900.735268 822.6 \nL 900.735268 768.24 \n\" style=\"fill:#03051a;\"/>\n    <path clip-path=\"url(#pb68584984b)\" d=\"M 980.449554 768.24 \nL 1060.163839 768.24 \nL 1060.163839 822.6 \nL 980.449554 822.6 \nL 980.449554 768.24 \n\" style=\"fill:#03051a;\"/>\n    <path clip-path=\"url(#pb68584984b)\" d=\"M 1060.163839 768.24 \nL 1139.878125 768.24 \nL 1139.878125 822.6 \nL 1060.163839 822.6 \nL 1060.163839 768.24 \n\" style=\"fill:#03051a;\"/>\n    <path clip-path=\"url(#pb68584984b)\" d=\"M 23.878125 822.6 \nL 103.592411 822.6 \nL 103.592411 876.96 \nL 23.878125 876.96 \nL 23.878125 822.6 \n\" style=\"fill:#faebdd;\"/>\n    <path clip-path=\"url(#pb68584984b)\" d=\"M 103.592411 822.6 \nL 183.306696 822.6 \nL 183.306696 876.96 \nL 103.592411 876.96 \nL 103.592411 822.6 \n\" style=\"fill:#faebdd;\"/>\n    <path clip-path=\"url(#pb68584984b)\" d=\"M 183.306696 822.6 \nL 263.020982 822.6 \nL 263.020982 876.96 \nL 183.306696 876.96 \nL 183.306696 822.6 \n\" style=\"fill:#faebdd;\"/>\n    <path clip-path=\"url(#pb68584984b)\" d=\"M 263.020982 822.6 \nL 342.735268 822.6 \nL 342.735268 876.96 \nL 263.020982 876.96 \nL 263.020982 822.6 \n\" style=\"fill:#faebdd;\"/>\n    <path clip-path=\"url(#pb68584984b)\" d=\"M 342.735268 822.6 \nL 422.449554 822.6 \nL 422.449554 876.96 \nL 342.735268 876.96 \nL 342.735268 822.6 \n\" style=\"fill:#03051a;\"/>\n    <path clip-path=\"url(#pb68584984b)\" d=\"M 422.449554 822.6 \nL 502.163839 822.6 \nL 502.163839 876.96 \nL 422.449554 876.96 \nL 422.449554 822.6 \n\" style=\"fill:#faebdd;\"/>\n    <path clip-path=\"url(#pb68584984b)\" d=\"M 502.163839 822.6 \nL 581.878125 822.6 \nL 581.878125 876.96 \nL 502.163839 876.96 \nL 502.163839 822.6 \n\" style=\"fill:#03051a;\"/>\n    <path clip-path=\"url(#pb68584984b)\" d=\"M 581.878125 822.6 \nL 661.592411 822.6 \nL 661.592411 876.96 \nL 581.878125 876.96 \nL 581.878125 822.6 \n\" style=\"fill:#faebdd;\"/>\n    <path clip-path=\"url(#pb68584984b)\" d=\"M 661.592411 822.6 \nL 741.306696 822.6 \nL 741.306696 876.96 \nL 661.592411 876.96 \nL 661.592411 822.6 \n\" style=\"fill:#faebdd;\"/>\n    <path clip-path=\"url(#pb68584984b)\" d=\"M 741.306696 822.6 \nL 821.020982 822.6 \nL 821.020982 876.96 \nL 741.306696 876.96 \nL 741.306696 822.6 \n\" style=\"fill:#faebdd;\"/>\n    <path clip-path=\"url(#pb68584984b)\" d=\"M 821.020982 822.6 \nL 900.735268 822.6 \nL 900.735268 876.96 \nL 821.020982 876.96 \nL 821.020982 822.6 \n\" style=\"fill:#faebdd;\"/>\n    <path clip-path=\"url(#pb68584984b)\" d=\"M 900.735268 822.6 \nL 980.449554 822.6 \nL 980.449554 876.96 \nL 900.735268 876.96 \nL 900.735268 822.6 \n\" style=\"fill:#faebdd;\"/>\n    <path clip-path=\"url(#pb68584984b)\" d=\"M 980.449554 822.6 \nL 1060.163839 822.6 \nL 1060.163839 876.96 \nL 980.449554 876.96 \nL 980.449554 822.6 \n\" style=\"fill:#faebdd;\"/>\n    <path clip-path=\"url(#pb68584984b)\" d=\"M 1060.163839 822.6 \nL 1139.878125 822.6 \nL 1139.878125 876.96 \nL 1060.163839 876.96 \nL 1060.163839 822.6 \n\" style=\"fill:#faebdd;\"/>\n    <path clip-path=\"url(#pb68584984b)\" d=\"M 23.878125 876.96 \nL 103.592411 876.96 \nL 103.592411 931.32 \nL 23.878125 931.32 \nL 23.878125 876.96 \n\" style=\"fill:#03051a;\"/>\n    <path clip-path=\"url(#pb68584984b)\" d=\"M 103.592411 876.96 \nL 183.306696 876.96 \nL 183.306696 931.32 \nL 103.592411 931.32 \nL 103.592411 876.96 \n\" style=\"fill:#03051a;\"/>\n    <path clip-path=\"url(#pb68584984b)\" d=\"M 183.306696 876.96 \nL 263.020982 876.96 \nL 263.020982 931.32 \nL 183.306696 931.32 \nL 183.306696 876.96 \n\" style=\"fill:#03051a;\"/>\n    <path clip-path=\"url(#pb68584984b)\" d=\"M 263.020982 876.96 \nL 342.735268 876.96 \nL 342.735268 931.32 \nL 263.020982 931.32 \nL 263.020982 876.96 \n\" style=\"fill:#03051a;\"/>\n    <path clip-path=\"url(#pb68584984b)\" d=\"M 342.735268 876.96 \nL 422.449554 876.96 \nL 422.449554 931.32 \nL 342.735268 931.32 \nL 342.735268 876.96 \n\" style=\"fill:#03051a;\"/>\n    <path clip-path=\"url(#pb68584984b)\" d=\"M 422.449554 876.96 \nL 502.163839 876.96 \nL 502.163839 931.32 \nL 422.449554 931.32 \nL 422.449554 876.96 \n\" style=\"fill:#03051a;\"/>\n    <path clip-path=\"url(#pb68584984b)\" d=\"M 502.163839 876.96 \nL 581.878125 876.96 \nL 581.878125 931.32 \nL 502.163839 931.32 \nL 502.163839 876.96 \n\" style=\"fill:#03051a;\"/>\n    <path clip-path=\"url(#pb68584984b)\" d=\"M 581.878125 876.96 \nL 661.592411 876.96 \nL 661.592411 931.32 \nL 581.878125 931.32 \nL 581.878125 876.96 \n\" style=\"fill:#03051a;\"/>\n    <path clip-path=\"url(#pb68584984b)\" d=\"M 661.592411 876.96 \nL 741.306696 876.96 \nL 741.306696 931.32 \nL 661.592411 931.32 \nL 661.592411 876.96 \n\" style=\"fill:#03051a;\"/>\n    <path clip-path=\"url(#pb68584984b)\" d=\"M 741.306696 876.96 \nL 821.020982 876.96 \nL 821.020982 931.32 \nL 741.306696 931.32 \nL 741.306696 876.96 \n\" style=\"fill:#03051a;\"/>\n    <path clip-path=\"url(#pb68584984b)\" d=\"M 821.020982 876.96 \nL 900.735268 876.96 \nL 900.735268 931.32 \nL 821.020982 931.32 \nL 821.020982 876.96 \n\" style=\"fill:#03051a;\"/>\n    <path clip-path=\"url(#pb68584984b)\" d=\"M 900.735268 876.96 \nL 980.449554 876.96 \nL 980.449554 931.32 \nL 900.735268 931.32 \nL 900.735268 876.96 \n\" style=\"fill:#03051a;\"/>\n    <path clip-path=\"url(#pb68584984b)\" d=\"M 980.449554 876.96 \nL 1060.163839 876.96 \nL 1060.163839 931.32 \nL 980.449554 931.32 \nL 980.449554 876.96 \n\" style=\"fill:#03051a;\"/>\n    <path clip-path=\"url(#pb68584984b)\" d=\"M 1060.163839 876.96 \nL 1139.878125 876.96 \nL 1139.878125 931.32 \nL 1060.163839 931.32 \nL 1060.163839 876.96 \n\" style=\"fill:#03051a;\"/>\n    <path clip-path=\"url(#pb68584984b)\" d=\"M 23.878125 931.32 \nL 103.592411 931.32 \nL 103.592411 985.68 \nL 23.878125 985.68 \nL 23.878125 931.32 \n\" style=\"fill:#03051a;\"/>\n    <path clip-path=\"url(#pb68584984b)\" d=\"M 103.592411 931.32 \nL 183.306696 931.32 \nL 183.306696 985.68 \nL 103.592411 985.68 \nL 103.592411 931.32 \n\" style=\"fill:#03051a;\"/>\n    <path clip-path=\"url(#pb68584984b)\" d=\"M 183.306696 931.32 \nL 263.020982 931.32 \nL 263.020982 985.68 \nL 183.306696 985.68 \nL 183.306696 931.32 \n\" style=\"fill:#03051a;\"/>\n    <path clip-path=\"url(#pb68584984b)\" d=\"M 263.020982 931.32 \nL 342.735268 931.32 \nL 342.735268 985.68 \nL 263.020982 985.68 \nL 263.020982 931.32 \n\" style=\"fill:#03051a;\"/>\n    <path clip-path=\"url(#pb68584984b)\" d=\"M 342.735268 931.32 \nL 422.449554 931.32 \nL 422.449554 985.68 \nL 342.735268 985.68 \nL 342.735268 931.32 \n\" style=\"fill:#03051a;\"/>\n    <path clip-path=\"url(#pb68584984b)\" d=\"M 422.449554 931.32 \nL 502.163839 931.32 \nL 502.163839 985.68 \nL 422.449554 985.68 \nL 422.449554 931.32 \n\" style=\"fill:#03051a;\"/>\n    <path clip-path=\"url(#pb68584984b)\" d=\"M 502.163839 931.32 \nL 581.878125 931.32 \nL 581.878125 985.68 \nL 502.163839 985.68 \nL 502.163839 931.32 \n\" style=\"fill:#03051a;\"/>\n    <path clip-path=\"url(#pb68584984b)\" d=\"M 581.878125 931.32 \nL 661.592411 931.32 \nL 661.592411 985.68 \nL 581.878125 985.68 \nL 581.878125 931.32 \n\" style=\"fill:#03051a;\"/>\n    <path clip-path=\"url(#pb68584984b)\" d=\"M 661.592411 931.32 \nL 741.306696 931.32 \nL 741.306696 985.68 \nL 661.592411 985.68 \nL 661.592411 931.32 \n\" style=\"fill:#03051a;\"/>\n    <path clip-path=\"url(#pb68584984b)\" d=\"M 741.306696 931.32 \nL 821.020982 931.32 \nL 821.020982 985.68 \nL 741.306696 985.68 \nL 741.306696 931.32 \n\" style=\"fill:#03051a;\"/>\n    <path clip-path=\"url(#pb68584984b)\" d=\"M 821.020982 931.32 \nL 900.735268 931.32 \nL 900.735268 985.68 \nL 821.020982 985.68 \nL 821.020982 931.32 \n\" style=\"fill:#03051a;\"/>\n    <path clip-path=\"url(#pb68584984b)\" d=\"M 900.735268 931.32 \nL 980.449554 931.32 \nL 980.449554 985.68 \nL 900.735268 985.68 \nL 900.735268 931.32 \n\" style=\"fill:#03051a;\"/>\n    <path clip-path=\"url(#pb68584984b)\" d=\"M 980.449554 931.32 \nL 1060.163839 931.32 \nL 1060.163839 985.68 \nL 980.449554 985.68 \nL 980.449554 931.32 \n\" style=\"fill:#03051a;\"/>\n    <path clip-path=\"url(#pb68584984b)\" d=\"M 1060.163839 931.32 \nL 1139.878125 931.32 \nL 1139.878125 985.68 \nL 1060.163839 985.68 \nL 1060.163839 931.32 \n\" style=\"fill:#03051a;\"/>\n    <path clip-path=\"url(#pb68584984b)\" d=\"M 23.878125 985.68 \nL 103.592411 985.68 \nL 103.592411 1040.04 \nL 23.878125 1040.04 \nL 23.878125 985.68 \n\" style=\"fill:#faebdd;\"/>\n    <path clip-path=\"url(#pb68584984b)\" d=\"M 103.592411 985.68 \nL 183.306696 985.68 \nL 183.306696 1040.04 \nL 103.592411 1040.04 \nL 103.592411 985.68 \n\" style=\"fill:#faebdd;\"/>\n    <path clip-path=\"url(#pb68584984b)\" d=\"M 183.306696 985.68 \nL 263.020982 985.68 \nL 263.020982 1040.04 \nL 183.306696 1040.04 \nL 183.306696 985.68 \n\" style=\"fill:#faebdd;\"/>\n    <path clip-path=\"url(#pb68584984b)\" d=\"M 263.020982 985.68 \nL 342.735268 985.68 \nL 342.735268 1040.04 \nL 263.020982 1040.04 \nL 263.020982 985.68 \n\" style=\"fill:#faebdd;\"/>\n    <path clip-path=\"url(#pb68584984b)\" d=\"M 342.735268 985.68 \nL 422.449554 985.68 \nL 422.449554 1040.04 \nL 342.735268 1040.04 \nL 342.735268 985.68 \n\" style=\"fill:#03051a;\"/>\n    <path clip-path=\"url(#pb68584984b)\" d=\"M 422.449554 985.68 \nL 502.163839 985.68 \nL 502.163839 1040.04 \nL 422.449554 1040.04 \nL 422.449554 985.68 \n\" style=\"fill:#faebdd;\"/>\n    <path clip-path=\"url(#pb68584984b)\" d=\"M 502.163839 985.68 \nL 581.878125 985.68 \nL 581.878125 1040.04 \nL 502.163839 1040.04 \nL 502.163839 985.68 \n\" style=\"fill:#03051a;\"/>\n    <path clip-path=\"url(#pb68584984b)\" d=\"M 581.878125 985.68 \nL 661.592411 985.68 \nL 661.592411 1040.04 \nL 581.878125 1040.04 \nL 581.878125 985.68 \n\" style=\"fill:#faebdd;\"/>\n    <path clip-path=\"url(#pb68584984b)\" d=\"M 661.592411 985.68 \nL 741.306696 985.68 \nL 741.306696 1040.04 \nL 661.592411 1040.04 \nL 661.592411 985.68 \n\" style=\"fill:#faebdd;\"/>\n    <path clip-path=\"url(#pb68584984b)\" d=\"M 741.306696 985.68 \nL 821.020982 985.68 \nL 821.020982 1040.04 \nL 741.306696 1040.04 \nL 741.306696 985.68 \n\" style=\"fill:#faebdd;\"/>\n    <path clip-path=\"url(#pb68584984b)\" d=\"M 821.020982 985.68 \nL 900.735268 985.68 \nL 900.735268 1040.04 \nL 821.020982 1040.04 \nL 821.020982 985.68 \n\" style=\"fill:#faebdd;\"/>\n    <path clip-path=\"url(#pb68584984b)\" d=\"M 900.735268 985.68 \nL 980.449554 985.68 \nL 980.449554 1040.04 \nL 900.735268 1040.04 \nL 900.735268 985.68 \n\" style=\"fill:#faebdd;\"/>\n    <path clip-path=\"url(#pb68584984b)\" d=\"M 980.449554 985.68 \nL 1060.163839 985.68 \nL 1060.163839 1040.04 \nL 980.449554 1040.04 \nL 980.449554 985.68 \n\" style=\"fill:#faebdd;\"/>\n    <path clip-path=\"url(#pb68584984b)\" d=\"M 1060.163839 985.68 \nL 1139.878125 985.68 \nL 1139.878125 1040.04 \nL 1060.163839 1040.04 \nL 1060.163839 985.68 \n\" style=\"fill:#faebdd;\"/>\n    <path clip-path=\"url(#pb68584984b)\" d=\"M 23.878125 1040.04 \nL 103.592411 1040.04 \nL 103.592411 1094.4 \nL 23.878125 1094.4 \nL 23.878125 1040.04 \n\" style=\"fill:#03051a;\"/>\n    <path clip-path=\"url(#pb68584984b)\" d=\"M 103.592411 1040.04 \nL 183.306696 1040.04 \nL 183.306696 1094.4 \nL 103.592411 1094.4 \nL 103.592411 1040.04 \n\" style=\"fill:#03051a;\"/>\n    <path clip-path=\"url(#pb68584984b)\" d=\"M 183.306696 1040.04 \nL 263.020982 1040.04 \nL 263.020982 1094.4 \nL 183.306696 1094.4 \nL 183.306696 1040.04 \n\" style=\"fill:#03051a;\"/>\n    <path clip-path=\"url(#pb68584984b)\" d=\"M 263.020982 1040.04 \nL 342.735268 1040.04 \nL 342.735268 1094.4 \nL 263.020982 1094.4 \nL 263.020982 1040.04 \n\" style=\"fill:#03051a;\"/>\n    <path clip-path=\"url(#pb68584984b)\" d=\"M 342.735268 1040.04 \nL 422.449554 1040.04 \nL 422.449554 1094.4 \nL 342.735268 1094.4 \nL 342.735268 1040.04 \n\" style=\"fill:#faebdd;\"/>\n    <path clip-path=\"url(#pb68584984b)\" d=\"M 422.449554 1040.04 \nL 502.163839 1040.04 \nL 502.163839 1094.4 \nL 422.449554 1094.4 \nL 422.449554 1040.04 \n\" style=\"fill:#03051a;\"/>\n    <path clip-path=\"url(#pb68584984b)\" d=\"M 502.163839 1040.04 \nL 581.878125 1040.04 \nL 581.878125 1094.4 \nL 502.163839 1094.4 \nL 502.163839 1040.04 \n\" style=\"fill:#faebdd;\"/>\n    <path clip-path=\"url(#pb68584984b)\" d=\"M 581.878125 1040.04 \nL 661.592411 1040.04 \nL 661.592411 1094.4 \nL 581.878125 1094.4 \nL 581.878125 1040.04 \n\" style=\"fill:#03051a;\"/>\n    <path clip-path=\"url(#pb68584984b)\" d=\"M 661.592411 1040.04 \nL 741.306696 1040.04 \nL 741.306696 1094.4 \nL 661.592411 1094.4 \nL 661.592411 1040.04 \n\" style=\"fill:#03051a;\"/>\n    <path clip-path=\"url(#pb68584984b)\" d=\"M 741.306696 1040.04 \nL 821.020982 1040.04 \nL 821.020982 1094.4 \nL 741.306696 1094.4 \nL 741.306696 1040.04 \n\" style=\"fill:#03051a;\"/>\n    <path clip-path=\"url(#pb68584984b)\" d=\"M 821.020982 1040.04 \nL 900.735268 1040.04 \nL 900.735268 1094.4 \nL 821.020982 1094.4 \nL 821.020982 1040.04 \n\" style=\"fill:#03051a;\"/>\n    <path clip-path=\"url(#pb68584984b)\" d=\"M 900.735268 1040.04 \nL 980.449554 1040.04 \nL 980.449554 1094.4 \nL 900.735268 1094.4 \nL 900.735268 1040.04 \n\" style=\"fill:#03051a;\"/>\n    <path clip-path=\"url(#pb68584984b)\" d=\"M 980.449554 1040.04 \nL 1060.163839 1040.04 \nL 1060.163839 1094.4 \nL 980.449554 1094.4 \nL 980.449554 1040.04 \n\" style=\"fill:#03051a;\"/>\n    <path clip-path=\"url(#pb68584984b)\" d=\"M 1060.163839 1040.04 \nL 1139.878125 1040.04 \nL 1139.878125 1094.4 \nL 1060.163839 1094.4 \nL 1060.163839 1040.04 \n\" style=\"fill:#03051a;\"/>\n   </g>\n   <g id=\"matplotlib.axis_1\">\n    <g id=\"xtick_1\">\n     <g id=\"line2d_1\">\n      <defs>\n       <path d=\"M 0 0 \nL 0 3.5 \n\" id=\"m7980564e66\" style=\"stroke:#000000;stroke-width:0.8;\"/>\n      </defs>\n      <g>\n       <use style=\"stroke:#000000;stroke-width:0.8;\" x=\"63.735268\" xlink:href=\"#m7980564e66\" y=\"1094.4\"/>\n      </g>\n     </g>\n     <g id=\"text_1\">\n      <!-- 1&gt;2 -->\n      <g transform=\"translate(53.182924 1108.998438)scale(0.1 -0.1)\">\n       <defs>\n        <path d=\"M 12.40625 8.296875 \nL 28.515625 8.296875 \nL 28.515625 63.921875 \nL 10.984375 60.40625 \nL 10.984375 69.390625 \nL 28.421875 72.90625 \nL 38.28125 72.90625 \nL 38.28125 8.296875 \nL 54.390625 8.296875 \nL 54.390625 0 \nL 12.40625 0 \nz\n\" id=\"DejaVuSans-49\"/>\n        <path d=\"M 10.59375 49.21875 \nL 10.59375 58.109375 \nL 73.1875 35.40625 \nL 73.1875 27.296875 \nL 10.59375 4.59375 \nL 10.59375 13.484375 \nL 60.890625 31.296875 \nz\n\" id=\"DejaVuSans-62\"/>\n        <path d=\"M 19.1875 8.296875 \nL 53.609375 8.296875 \nL 53.609375 0 \nL 7.328125 0 \nL 7.328125 8.296875 \nQ 12.9375 14.109375 22.625 23.890625 \nQ 32.328125 33.6875 34.8125 36.53125 \nQ 39.546875 41.84375 41.421875 45.53125 \nQ 43.3125 49.21875 43.3125 52.78125 \nQ 43.3125 58.59375 39.234375 62.25 \nQ 35.15625 65.921875 28.609375 65.921875 \nQ 23.96875 65.921875 18.8125 64.3125 \nQ 13.671875 62.703125 7.8125 59.421875 \nL 7.8125 69.390625 \nQ 13.765625 71.78125 18.9375 73 \nQ 24.125 74.21875 28.421875 74.21875 \nQ 39.75 74.21875 46.484375 68.546875 \nQ 53.21875 62.890625 53.21875 53.421875 \nQ 53.21875 48.921875 51.53125 44.890625 \nQ 49.859375 40.875 45.40625 35.40625 \nQ 44.1875 33.984375 37.640625 27.21875 \nQ 31.109375 20.453125 19.1875 8.296875 \nz\n\" id=\"DejaVuSans-50\"/>\n       </defs>\n       <use xlink:href=\"#DejaVuSans-49\"/>\n       <use x=\"63.623047\" xlink:href=\"#DejaVuSans-62\"/>\n       <use x=\"147.412109\" xlink:href=\"#DejaVuSans-50\"/>\n      </g>\n     </g>\n    </g>\n    <g id=\"xtick_2\">\n     <g id=\"line2d_2\">\n      <g>\n       <use style=\"stroke:#000000;stroke-width:0.8;\" x=\"143.449554\" xlink:href=\"#m7980564e66\" y=\"1094.4\"/>\n      </g>\n     </g>\n     <g id=\"text_2\">\n      <!-- 1&gt;3 -->\n      <g transform=\"translate(132.89721 1108.998438)scale(0.1 -0.1)\">\n       <defs>\n        <path d=\"M 40.578125 39.3125 \nQ 47.65625 37.796875 51.625 33 \nQ 55.609375 28.21875 55.609375 21.1875 \nQ 55.609375 10.40625 48.1875 4.484375 \nQ 40.765625 -1.421875 27.09375 -1.421875 \nQ 22.515625 -1.421875 17.65625 -0.515625 \nQ 12.796875 0.390625 7.625 2.203125 \nL 7.625 11.71875 \nQ 11.71875 9.328125 16.59375 8.109375 \nQ 21.484375 6.890625 26.8125 6.890625 \nQ 36.078125 6.890625 40.9375 10.546875 \nQ 45.796875 14.203125 45.796875 21.1875 \nQ 45.796875 27.640625 41.28125 31.265625 \nQ 36.765625 34.90625 28.71875 34.90625 \nL 20.21875 34.90625 \nL 20.21875 43.015625 \nL 29.109375 43.015625 \nQ 36.375 43.015625 40.234375 45.921875 \nQ 44.09375 48.828125 44.09375 54.296875 \nQ 44.09375 59.90625 40.109375 62.90625 \nQ 36.140625 65.921875 28.71875 65.921875 \nQ 24.65625 65.921875 20.015625 65.03125 \nQ 15.375 64.15625 9.8125 62.3125 \nL 9.8125 71.09375 \nQ 15.4375 72.65625 20.34375 73.4375 \nQ 25.25 74.21875 29.59375 74.21875 \nQ 40.828125 74.21875 47.359375 69.109375 \nQ 53.90625 64.015625 53.90625 55.328125 \nQ 53.90625 49.265625 50.4375 45.09375 \nQ 46.96875 40.921875 40.578125 39.3125 \nz\n\" id=\"DejaVuSans-51\"/>\n       </defs>\n       <use xlink:href=\"#DejaVuSans-49\"/>\n       <use x=\"63.623047\" xlink:href=\"#DejaVuSans-62\"/>\n       <use x=\"147.412109\" xlink:href=\"#DejaVuSans-51\"/>\n      </g>\n     </g>\n    </g>\n    <g id=\"xtick_3\">\n     <g id=\"line2d_3\">\n      <g>\n       <use style=\"stroke:#000000;stroke-width:0.8;\" x=\"223.163839\" xlink:href=\"#m7980564e66\" y=\"1094.4\"/>\n      </g>\n     </g>\n     <g id=\"text_3\">\n      <!-- 1&gt;4 -->\n      <g transform=\"translate(212.611496 1108.998438)scale(0.1 -0.1)\">\n       <defs>\n        <path d=\"M 37.796875 64.3125 \nL 12.890625 25.390625 \nL 37.796875 25.390625 \nz\nM 35.203125 72.90625 \nL 47.609375 72.90625 \nL 47.609375 25.390625 \nL 58.015625 25.390625 \nL 58.015625 17.1875 \nL 47.609375 17.1875 \nL 47.609375 0 \nL 37.796875 0 \nL 37.796875 17.1875 \nL 4.890625 17.1875 \nL 4.890625 26.703125 \nz\n\" id=\"DejaVuSans-52\"/>\n       </defs>\n       <use xlink:href=\"#DejaVuSans-49\"/>\n       <use x=\"63.623047\" xlink:href=\"#DejaVuSans-62\"/>\n       <use x=\"147.412109\" xlink:href=\"#DejaVuSans-52\"/>\n      </g>\n     </g>\n    </g>\n    <g id=\"xtick_4\">\n     <g id=\"line2d_4\">\n      <g>\n       <use style=\"stroke:#000000;stroke-width:0.8;\" x=\"302.878125\" xlink:href=\"#m7980564e66\" y=\"1094.4\"/>\n      </g>\n     </g>\n     <g id=\"text_4\">\n      <!-- 2&gt;5 -->\n      <g transform=\"translate(292.325781 1108.998438)scale(0.1 -0.1)\">\n       <defs>\n        <path d=\"M 10.796875 72.90625 \nL 49.515625 72.90625 \nL 49.515625 64.59375 \nL 19.828125 64.59375 \nL 19.828125 46.734375 \nQ 21.96875 47.46875 24.109375 47.828125 \nQ 26.265625 48.1875 28.421875 48.1875 \nQ 40.625 48.1875 47.75 41.5 \nQ 54.890625 34.8125 54.890625 23.390625 \nQ 54.890625 11.625 47.5625 5.09375 \nQ 40.234375 -1.421875 26.90625 -1.421875 \nQ 22.3125 -1.421875 17.546875 -0.640625 \nQ 12.796875 0.140625 7.71875 1.703125 \nL 7.71875 11.625 \nQ 12.109375 9.234375 16.796875 8.0625 \nQ 21.484375 6.890625 26.703125 6.890625 \nQ 35.15625 6.890625 40.078125 11.328125 \nQ 45.015625 15.765625 45.015625 23.390625 \nQ 45.015625 31 40.078125 35.4375 \nQ 35.15625 39.890625 26.703125 39.890625 \nQ 22.75 39.890625 18.8125 39.015625 \nQ 14.890625 38.140625 10.796875 36.28125 \nz\n\" id=\"DejaVuSans-53\"/>\n       </defs>\n       <use xlink:href=\"#DejaVuSans-50\"/>\n       <use x=\"63.623047\" xlink:href=\"#DejaVuSans-62\"/>\n       <use x=\"147.412109\" xlink:href=\"#DejaVuSans-53\"/>\n      </g>\n     </g>\n    </g>\n    <g id=\"xtick_5\">\n     <g id=\"line2d_5\">\n      <g>\n       <use style=\"stroke:#000000;stroke-width:0.8;\" x=\"382.592411\" xlink:href=\"#m7980564e66\" y=\"1094.4\"/>\n      </g>\n     </g>\n     <g id=\"text_5\">\n      <!-- 2&gt;6 -->\n      <g transform=\"translate(372.040067 1108.998438)scale(0.1 -0.1)\">\n       <defs>\n        <path d=\"M 33.015625 40.375 \nQ 26.375 40.375 22.484375 35.828125 \nQ 18.609375 31.296875 18.609375 23.390625 \nQ 18.609375 15.53125 22.484375 10.953125 \nQ 26.375 6.390625 33.015625 6.390625 \nQ 39.65625 6.390625 43.53125 10.953125 \nQ 47.40625 15.53125 47.40625 23.390625 \nQ 47.40625 31.296875 43.53125 35.828125 \nQ 39.65625 40.375 33.015625 40.375 \nz\nM 52.59375 71.296875 \nL 52.59375 62.3125 \nQ 48.875 64.0625 45.09375 64.984375 \nQ 41.3125 65.921875 37.59375 65.921875 \nQ 27.828125 65.921875 22.671875 59.328125 \nQ 17.53125 52.734375 16.796875 39.40625 \nQ 19.671875 43.65625 24.015625 45.921875 \nQ 28.375 48.1875 33.59375 48.1875 \nQ 44.578125 48.1875 50.953125 41.515625 \nQ 57.328125 34.859375 57.328125 23.390625 \nQ 57.328125 12.15625 50.6875 5.359375 \nQ 44.046875 -1.421875 33.015625 -1.421875 \nQ 20.359375 -1.421875 13.671875 8.265625 \nQ 6.984375 17.96875 6.984375 36.375 \nQ 6.984375 53.65625 15.1875 63.9375 \nQ 23.390625 74.21875 37.203125 74.21875 \nQ 40.921875 74.21875 44.703125 73.484375 \nQ 48.484375 72.75 52.59375 71.296875 \nz\n\" id=\"DejaVuSans-54\"/>\n       </defs>\n       <use xlink:href=\"#DejaVuSans-50\"/>\n       <use x=\"63.623047\" xlink:href=\"#DejaVuSans-62\"/>\n       <use x=\"147.412109\" xlink:href=\"#DejaVuSans-54\"/>\n      </g>\n     </g>\n    </g>\n    <g id=\"xtick_6\">\n     <g id=\"line2d_6\">\n      <g>\n       <use style=\"stroke:#000000;stroke-width:0.8;\" x=\"462.306696\" xlink:href=\"#m7980564e66\" y=\"1094.4\"/>\n      </g>\n     </g>\n     <g id=\"text_6\">\n      <!-- 3&gt;5 -->\n      <g transform=\"translate(451.754353 1108.998438)scale(0.1 -0.1)\">\n       <use xlink:href=\"#DejaVuSans-51\"/>\n       <use x=\"63.623047\" xlink:href=\"#DejaVuSans-62\"/>\n       <use x=\"147.412109\" xlink:href=\"#DejaVuSans-53\"/>\n      </g>\n     </g>\n    </g>\n    <g id=\"xtick_7\">\n     <g id=\"line2d_7\">\n      <g>\n       <use style=\"stroke:#000000;stroke-width:0.8;\" x=\"542.020982\" xlink:href=\"#m7980564e66\" y=\"1094.4\"/>\n      </g>\n     </g>\n     <g id=\"text_7\">\n      <!-- 3&gt;6 -->\n      <g transform=\"translate(531.468638 1108.998438)scale(0.1 -0.1)\">\n       <use xlink:href=\"#DejaVuSans-51\"/>\n       <use x=\"63.623047\" xlink:href=\"#DejaVuSans-62\"/>\n       <use x=\"147.412109\" xlink:href=\"#DejaVuSans-54\"/>\n      </g>\n     </g>\n    </g>\n    <g id=\"xtick_8\">\n     <g id=\"line2d_8\">\n      <g>\n       <use style=\"stroke:#000000;stroke-width:0.8;\" x=\"621.735268\" xlink:href=\"#m7980564e66\" y=\"1094.4\"/>\n      </g>\n     </g>\n     <g id=\"text_8\">\n      <!-- 3&gt;7 -->\n      <g transform=\"translate(611.182924 1108.998438)scale(0.1 -0.1)\">\n       <defs>\n        <path d=\"M 8.203125 72.90625 \nL 55.078125 72.90625 \nL 55.078125 68.703125 \nL 28.609375 0 \nL 18.3125 0 \nL 43.21875 64.59375 \nL 8.203125 64.59375 \nz\n\" id=\"DejaVuSans-55\"/>\n       </defs>\n       <use xlink:href=\"#DejaVuSans-51\"/>\n       <use x=\"63.623047\" xlink:href=\"#DejaVuSans-62\"/>\n       <use x=\"147.412109\" xlink:href=\"#DejaVuSans-55\"/>\n      </g>\n     </g>\n    </g>\n    <g id=\"xtick_9\">\n     <g id=\"line2d_9\">\n      <g>\n       <use style=\"stroke:#000000;stroke-width:0.8;\" x=\"701.449554\" xlink:href=\"#m7980564e66\" y=\"1094.4\"/>\n      </g>\n     </g>\n     <g id=\"text_9\">\n      <!-- 6&gt;10 -->\n      <g transform=\"translate(687.71596 1108.998438)scale(0.1 -0.1)\">\n       <defs>\n        <path d=\"M 31.78125 66.40625 \nQ 24.171875 66.40625 20.328125 58.90625 \nQ 16.5 51.421875 16.5 36.375 \nQ 16.5 21.390625 20.328125 13.890625 \nQ 24.171875 6.390625 31.78125 6.390625 \nQ 39.453125 6.390625 43.28125 13.890625 \nQ 47.125 21.390625 47.125 36.375 \nQ 47.125 51.421875 43.28125 58.90625 \nQ 39.453125 66.40625 31.78125 66.40625 \nz\nM 31.78125 74.21875 \nQ 44.046875 74.21875 50.515625 64.515625 \nQ 56.984375 54.828125 56.984375 36.375 \nQ 56.984375 17.96875 50.515625 8.265625 \nQ 44.046875 -1.421875 31.78125 -1.421875 \nQ 19.53125 -1.421875 13.0625 8.265625 \nQ 6.59375 17.96875 6.59375 36.375 \nQ 6.59375 54.828125 13.0625 64.515625 \nQ 19.53125 74.21875 31.78125 74.21875 \nz\n\" id=\"DejaVuSans-48\"/>\n       </defs>\n       <use xlink:href=\"#DejaVuSans-54\"/>\n       <use x=\"63.623047\" xlink:href=\"#DejaVuSans-62\"/>\n       <use x=\"147.412109\" xlink:href=\"#DejaVuSans-49\"/>\n       <use x=\"211.035156\" xlink:href=\"#DejaVuSans-48\"/>\n      </g>\n     </g>\n    </g>\n    <g id=\"xtick_10\">\n     <g id=\"line2d_10\">\n      <g>\n       <use style=\"stroke:#000000;stroke-width:0.8;\" x=\"781.163839\" xlink:href=\"#m7980564e66\" y=\"1094.4\"/>\n      </g>\n     </g>\n     <g id=\"text_10\">\n      <!-- 7&gt;9 -->\n      <g transform=\"translate(770.611496 1108.998438)scale(0.1 -0.1)\">\n       <defs>\n        <path d=\"M 10.984375 1.515625 \nL 10.984375 10.5 \nQ 14.703125 8.734375 18.5 7.8125 \nQ 22.3125 6.890625 25.984375 6.890625 \nQ 35.75 6.890625 40.890625 13.453125 \nQ 46.046875 20.015625 46.78125 33.40625 \nQ 43.953125 29.203125 39.59375 26.953125 \nQ 35.25 24.703125 29.984375 24.703125 \nQ 19.046875 24.703125 12.671875 31.3125 \nQ 6.296875 37.9375 6.296875 49.421875 \nQ 6.296875 60.640625 12.9375 67.421875 \nQ 19.578125 74.21875 30.609375 74.21875 \nQ 43.265625 74.21875 49.921875 64.515625 \nQ 56.59375 54.828125 56.59375 36.375 \nQ 56.59375 19.140625 48.40625 8.859375 \nQ 40.234375 -1.421875 26.421875 -1.421875 \nQ 22.703125 -1.421875 18.890625 -0.6875 \nQ 15.09375 0.046875 10.984375 1.515625 \nz\nM 30.609375 32.421875 \nQ 37.25 32.421875 41.125 36.953125 \nQ 45.015625 41.5 45.015625 49.421875 \nQ 45.015625 57.28125 41.125 61.84375 \nQ 37.25 66.40625 30.609375 66.40625 \nQ 23.96875 66.40625 20.09375 61.84375 \nQ 16.21875 57.28125 16.21875 49.421875 \nQ 16.21875 41.5 20.09375 36.953125 \nQ 23.96875 32.421875 30.609375 32.421875 \nz\n\" id=\"DejaVuSans-57\"/>\n       </defs>\n       <use xlink:href=\"#DejaVuSans-55\"/>\n       <use x=\"63.623047\" xlink:href=\"#DejaVuSans-62\"/>\n       <use x=\"147.412109\" xlink:href=\"#DejaVuSans-57\"/>\n      </g>\n     </g>\n    </g>\n    <g id=\"xtick_11\">\n     <g id=\"line2d_11\">\n      <g>\n       <use style=\"stroke:#000000;stroke-width:0.8;\" x=\"860.878125\" xlink:href=\"#m7980564e66\" y=\"1094.4\"/>\n      </g>\n     </g>\n     <g id=\"text_11\">\n      <!-- 7&gt;10 -->\n      <g transform=\"translate(847.144531 1108.998438)scale(0.1 -0.1)\">\n       <use xlink:href=\"#DejaVuSans-55\"/>\n       <use x=\"63.623047\" xlink:href=\"#DejaVuSans-62\"/>\n       <use x=\"147.412109\" xlink:href=\"#DejaVuSans-49\"/>\n       <use x=\"211.035156\" xlink:href=\"#DejaVuSans-48\"/>\n      </g>\n     </g>\n    </g>\n    <g id=\"xtick_12\">\n     <g id=\"line2d_12\">\n      <g>\n       <use style=\"stroke:#000000;stroke-width:0.8;\" x=\"940.592411\" xlink:href=\"#m7980564e66\" y=\"1094.4\"/>\n      </g>\n     </g>\n     <g id=\"text_12\">\n      <!-- 8&gt;11 -->\n      <g transform=\"translate(926.858817 1108.998438)scale(0.1 -0.1)\">\n       <defs>\n        <path d=\"M 31.78125 34.625 \nQ 24.75 34.625 20.71875 30.859375 \nQ 16.703125 27.09375 16.703125 20.515625 \nQ 16.703125 13.921875 20.71875 10.15625 \nQ 24.75 6.390625 31.78125 6.390625 \nQ 38.8125 6.390625 42.859375 10.171875 \nQ 46.921875 13.96875 46.921875 20.515625 \nQ 46.921875 27.09375 42.890625 30.859375 \nQ 38.875 34.625 31.78125 34.625 \nz\nM 21.921875 38.8125 \nQ 15.578125 40.375 12.03125 44.71875 \nQ 8.5 49.078125 8.5 55.328125 \nQ 8.5 64.0625 14.71875 69.140625 \nQ 20.953125 74.21875 31.78125 74.21875 \nQ 42.671875 74.21875 48.875 69.140625 \nQ 55.078125 64.0625 55.078125 55.328125 \nQ 55.078125 49.078125 51.53125 44.71875 \nQ 48 40.375 41.703125 38.8125 \nQ 48.828125 37.15625 52.796875 32.3125 \nQ 56.78125 27.484375 56.78125 20.515625 \nQ 56.78125 9.90625 50.3125 4.234375 \nQ 43.84375 -1.421875 31.78125 -1.421875 \nQ 19.734375 -1.421875 13.25 4.234375 \nQ 6.78125 9.90625 6.78125 20.515625 \nQ 6.78125 27.484375 10.78125 32.3125 \nQ 14.796875 37.15625 21.921875 38.8125 \nz\nM 18.3125 54.390625 \nQ 18.3125 48.734375 21.84375 45.5625 \nQ 25.390625 42.390625 31.78125 42.390625 \nQ 38.140625 42.390625 41.71875 45.5625 \nQ 45.3125 48.734375 45.3125 54.390625 \nQ 45.3125 60.0625 41.71875 63.234375 \nQ 38.140625 66.40625 31.78125 66.40625 \nQ 25.390625 66.40625 21.84375 63.234375 \nQ 18.3125 60.0625 18.3125 54.390625 \nz\n\" id=\"DejaVuSans-56\"/>\n       </defs>\n       <use xlink:href=\"#DejaVuSans-56\"/>\n       <use x=\"63.623047\" xlink:href=\"#DejaVuSans-62\"/>\n       <use x=\"147.412109\" xlink:href=\"#DejaVuSans-49\"/>\n       <use x=\"211.035156\" xlink:href=\"#DejaVuSans-49\"/>\n      </g>\n     </g>\n    </g>\n    <g id=\"xtick_13\">\n     <g id=\"line2d_13\">\n      <g>\n       <use style=\"stroke:#000000;stroke-width:0.8;\" x=\"1020.306696\" xlink:href=\"#m7980564e66\" y=\"1094.4\"/>\n      </g>\n     </g>\n     <g id=\"text_13\">\n      <!-- 9&gt;11 -->\n      <g transform=\"translate(1006.573103 1108.998438)scale(0.1 -0.1)\">\n       <use xlink:href=\"#DejaVuSans-57\"/>\n       <use x=\"63.623047\" xlink:href=\"#DejaVuSans-62\"/>\n       <use x=\"147.412109\" xlink:href=\"#DejaVuSans-49\"/>\n       <use x=\"211.035156\" xlink:href=\"#DejaVuSans-49\"/>\n      </g>\n     </g>\n    </g>\n    <g id=\"xtick_14\">\n     <g id=\"line2d_14\">\n      <g>\n       <use style=\"stroke:#000000;stroke-width:0.8;\" x=\"1100.020982\" xlink:href=\"#m7980564e66\" y=\"1094.4\"/>\n      </g>\n     </g>\n     <g id=\"text_14\">\n      <!-- 10&gt;11 -->\n      <g transform=\"translate(1083.106138 1108.998438)scale(0.1 -0.1)\">\n       <use xlink:href=\"#DejaVuSans-49\"/>\n       <use x=\"63.623047\" xlink:href=\"#DejaVuSans-48\"/>\n       <use x=\"127.246094\" xlink:href=\"#DejaVuSans-62\"/>\n       <use x=\"211.035156\" xlink:href=\"#DejaVuSans-49\"/>\n       <use x=\"274.658203\" xlink:href=\"#DejaVuSans-49\"/>\n      </g>\n     </g>\n    </g>\n   </g>\n   <g id=\"matplotlib.axis_2\">\n    <g id=\"ytick_1\">\n     <g id=\"line2d_15\">\n      <defs>\n       <path d=\"M 0 0 \nL -3.5 0 \n\" id=\"mbe86d9a889\" style=\"stroke:#000000;stroke-width:0.8;\"/>\n      </defs>\n      <g>\n       <use style=\"stroke:#000000;stroke-width:0.8;\" x=\"23.878125\" xlink:href=\"#mbe86d9a889\" y=\"34.38\"/>\n      </g>\n     </g>\n     <g id=\"text_15\">\n      <!-- 1&gt;2 -->\n      <g transform=\"translate(14.798438 51.685469)rotate(-90)scale(0.1 -0.1)\">\n       <use xlink:href=\"#DejaVuSans-49\"/>\n       <use x=\"63.623047\" xlink:href=\"#DejaVuSans-62\"/>\n       <use x=\"147.412109\" xlink:href=\"#DejaVuSans-50\"/>\n      </g>\n     </g>\n    </g>\n    <g id=\"ytick_2\">\n     <g id=\"line2d_16\">\n      <g>\n       <use style=\"stroke:#000000;stroke-width:0.8;\" x=\"23.878125\" xlink:href=\"#mbe86d9a889\" y=\"88.74\"/>\n      </g>\n     </g>\n     <g id=\"text_16\">\n      <!-- 1&gt;3 -->\n      <g transform=\"translate(14.798438 106.045469)rotate(-90)scale(0.1 -0.1)\">\n       <use xlink:href=\"#DejaVuSans-49\"/>\n       <use x=\"63.623047\" xlink:href=\"#DejaVuSans-62\"/>\n       <use x=\"147.412109\" xlink:href=\"#DejaVuSans-51\"/>\n      </g>\n     </g>\n    </g>\n    <g id=\"ytick_3\">\n     <g id=\"line2d_17\">\n      <g>\n       <use style=\"stroke:#000000;stroke-width:0.8;\" x=\"23.878125\" xlink:href=\"#mbe86d9a889\" y=\"143.1\"/>\n      </g>\n     </g>\n     <g id=\"text_17\">\n      <!-- 1&gt;4 -->\n      <g transform=\"translate(14.798438 160.405469)rotate(-90)scale(0.1 -0.1)\">\n       <use xlink:href=\"#DejaVuSans-49\"/>\n       <use x=\"63.623047\" xlink:href=\"#DejaVuSans-62\"/>\n       <use x=\"147.412109\" xlink:href=\"#DejaVuSans-52\"/>\n      </g>\n     </g>\n    </g>\n    <g id=\"ytick_4\">\n     <g id=\"line2d_18\">\n      <g>\n       <use style=\"stroke:#000000;stroke-width:0.8;\" x=\"23.878125\" xlink:href=\"#mbe86d9a889\" y=\"197.46\"/>\n      </g>\n     </g>\n     <g id=\"text_18\">\n      <!-- 2&gt;5 -->\n      <g transform=\"translate(14.798438 214.765469)rotate(-90)scale(0.1 -0.1)\">\n       <use xlink:href=\"#DejaVuSans-50\"/>\n       <use x=\"63.623047\" xlink:href=\"#DejaVuSans-62\"/>\n       <use x=\"147.412109\" xlink:href=\"#DejaVuSans-53\"/>\n      </g>\n     </g>\n    </g>\n    <g id=\"ytick_5\">\n     <g id=\"line2d_19\">\n      <g>\n       <use style=\"stroke:#000000;stroke-width:0.8;\" x=\"23.878125\" xlink:href=\"#mbe86d9a889\" y=\"251.82\"/>\n      </g>\n     </g>\n     <g id=\"text_19\">\n      <!-- 2&gt;6 -->\n      <g transform=\"translate(14.798438 269.125469)rotate(-90)scale(0.1 -0.1)\">\n       <use xlink:href=\"#DejaVuSans-50\"/>\n       <use x=\"63.623047\" xlink:href=\"#DejaVuSans-62\"/>\n       <use x=\"147.412109\" xlink:href=\"#DejaVuSans-54\"/>\n      </g>\n     </g>\n    </g>\n    <g id=\"ytick_6\">\n     <g id=\"line2d_20\">\n      <g>\n       <use style=\"stroke:#000000;stroke-width:0.8;\" x=\"23.878125\" xlink:href=\"#mbe86d9a889\" y=\"306.18\"/>\n      </g>\n     </g>\n     <g id=\"text_20\">\n      <!-- 3&gt;5 -->\n      <g transform=\"translate(14.798438 323.485469)rotate(-90)scale(0.1 -0.1)\">\n       <use xlink:href=\"#DejaVuSans-51\"/>\n       <use x=\"63.623047\" xlink:href=\"#DejaVuSans-62\"/>\n       <use x=\"147.412109\" xlink:href=\"#DejaVuSans-53\"/>\n      </g>\n     </g>\n    </g>\n    <g id=\"ytick_7\">\n     <g id=\"line2d_21\">\n      <g>\n       <use style=\"stroke:#000000;stroke-width:0.8;\" x=\"23.878125\" xlink:href=\"#mbe86d9a889\" y=\"360.54\"/>\n      </g>\n     </g>\n     <g id=\"text_21\">\n      <!-- 3&gt;6 -->\n      <g transform=\"translate(14.798438 377.845469)rotate(-90)scale(0.1 -0.1)\">\n       <use xlink:href=\"#DejaVuSans-51\"/>\n       <use x=\"63.623047\" xlink:href=\"#DejaVuSans-62\"/>\n       <use x=\"147.412109\" xlink:href=\"#DejaVuSans-54\"/>\n      </g>\n     </g>\n    </g>\n    <g id=\"ytick_8\">\n     <g id=\"line2d_22\">\n      <g>\n       <use style=\"stroke:#000000;stroke-width:0.8;\" x=\"23.878125\" xlink:href=\"#mbe86d9a889\" y=\"414.9\"/>\n      </g>\n     </g>\n     <g id=\"text_22\">\n      <!-- 3&gt;7 -->\n      <g transform=\"translate(14.798438 432.205469)rotate(-90)scale(0.1 -0.1)\">\n       <use xlink:href=\"#DejaVuSans-51\"/>\n       <use x=\"63.623047\" xlink:href=\"#DejaVuSans-62\"/>\n       <use x=\"147.412109\" xlink:href=\"#DejaVuSans-55\"/>\n      </g>\n     </g>\n    </g>\n    <g id=\"ytick_9\">\n     <g id=\"line2d_23\">\n      <g>\n       <use style=\"stroke:#000000;stroke-width:0.8;\" x=\"23.878125\" xlink:href=\"#mbe86d9a889\" y=\"469.26\"/>\n      </g>\n     </g>\n     <g id=\"text_23\">\n      <!-- 4&gt;6 -->\n      <g transform=\"translate(14.798438 486.565469)rotate(-90)scale(0.1 -0.1)\">\n       <use xlink:href=\"#DejaVuSans-52\"/>\n       <use x=\"63.623047\" xlink:href=\"#DejaVuSans-62\"/>\n       <use x=\"147.412109\" xlink:href=\"#DejaVuSans-54\"/>\n      </g>\n     </g>\n    </g>\n    <g id=\"ytick_10\">\n     <g id=\"line2d_24\">\n      <g>\n       <use style=\"stroke:#000000;stroke-width:0.8;\" x=\"23.878125\" xlink:href=\"#mbe86d9a889\" y=\"523.62\"/>\n      </g>\n     </g>\n     <g id=\"text_24\">\n      <!-- 4&gt;7 -->\n      <g transform=\"translate(14.798438 540.925469)rotate(-90)scale(0.1 -0.1)\">\n       <use xlink:href=\"#DejaVuSans-52\"/>\n       <use x=\"63.623047\" xlink:href=\"#DejaVuSans-62\"/>\n       <use x=\"147.412109\" xlink:href=\"#DejaVuSans-55\"/>\n      </g>\n     </g>\n    </g>\n    <g id=\"ytick_11\">\n     <g id=\"line2d_25\">\n      <g>\n       <use style=\"stroke:#000000;stroke-width:0.8;\" x=\"23.878125\" xlink:href=\"#mbe86d9a889\" y=\"577.98\"/>\n      </g>\n     </g>\n     <g id=\"text_25\">\n      <!-- 5&gt;8 -->\n      <g transform=\"translate(14.798438 595.285469)rotate(-90)scale(0.1 -0.1)\">\n       <use xlink:href=\"#DejaVuSans-53\"/>\n       <use x=\"63.623047\" xlink:href=\"#DejaVuSans-62\"/>\n       <use x=\"147.412109\" xlink:href=\"#DejaVuSans-56\"/>\n      </g>\n     </g>\n    </g>\n    <g id=\"ytick_12\">\n     <g id=\"line2d_26\">\n      <g>\n       <use style=\"stroke:#000000;stroke-width:0.8;\" x=\"23.878125\" xlink:href=\"#mbe86d9a889\" y=\"632.34\"/>\n      </g>\n     </g>\n     <g id=\"text_26\">\n      <!-- 5&gt;9 -->\n      <g transform=\"translate(14.798438 649.645469)rotate(-90)scale(0.1 -0.1)\">\n       <use xlink:href=\"#DejaVuSans-53\"/>\n       <use x=\"63.623047\" xlink:href=\"#DejaVuSans-62\"/>\n       <use x=\"147.412109\" xlink:href=\"#DejaVuSans-57\"/>\n      </g>\n     </g>\n    </g>\n    <g id=\"ytick_13\">\n     <g id=\"line2d_27\">\n      <g>\n       <use style=\"stroke:#000000;stroke-width:0.8;\" x=\"23.878125\" xlink:href=\"#mbe86d9a889\" y=\"686.7\"/>\n      </g>\n     </g>\n     <g id=\"text_27\">\n      <!-- 6&gt;8 -->\n      <g transform=\"translate(14.798438 704.005469)rotate(-90)scale(0.1 -0.1)\">\n       <use xlink:href=\"#DejaVuSans-54\"/>\n       <use x=\"63.623047\" xlink:href=\"#DejaVuSans-62\"/>\n       <use x=\"147.412109\" xlink:href=\"#DejaVuSans-56\"/>\n      </g>\n     </g>\n    </g>\n    <g id=\"ytick_14\">\n     <g id=\"line2d_28\">\n      <g>\n       <use style=\"stroke:#000000;stroke-width:0.8;\" x=\"23.878125\" xlink:href=\"#mbe86d9a889\" y=\"741.06\"/>\n      </g>\n     </g>\n     <g id=\"text_28\">\n      <!-- 6&gt;9 -->\n      <g transform=\"translate(14.798438 758.365469)rotate(-90)scale(0.1 -0.1)\">\n       <use xlink:href=\"#DejaVuSans-54\"/>\n       <use x=\"63.623047\" xlink:href=\"#DejaVuSans-62\"/>\n       <use x=\"147.412109\" xlink:href=\"#DejaVuSans-57\"/>\n      </g>\n     </g>\n    </g>\n    <g id=\"ytick_15\">\n     <g id=\"line2d_29\">\n      <g>\n       <use style=\"stroke:#000000;stroke-width:0.8;\" x=\"23.878125\" xlink:href=\"#mbe86d9a889\" y=\"795.42\"/>\n      </g>\n     </g>\n     <g id=\"text_29\">\n      <!-- 6&gt;10 -->\n      <g transform=\"translate(14.798438 819.087969)rotate(-90)scale(0.1 -0.1)\">\n       <use xlink:href=\"#DejaVuSans-54\"/>\n       <use x=\"63.623047\" xlink:href=\"#DejaVuSans-62\"/>\n       <use x=\"147.412109\" xlink:href=\"#DejaVuSans-49\"/>\n       <use x=\"211.035156\" xlink:href=\"#DejaVuSans-48\"/>\n      </g>\n     </g>\n    </g>\n    <g id=\"ytick_16\">\n     <g id=\"line2d_30\">\n      <g>\n       <use style=\"stroke:#000000;stroke-width:0.8;\" x=\"23.878125\" xlink:href=\"#mbe86d9a889\" y=\"849.78\"/>\n      </g>\n     </g>\n     <g id=\"text_30\">\n      <!-- 7&gt;9 -->\n      <g transform=\"translate(14.798438 867.085469)rotate(-90)scale(0.1 -0.1)\">\n       <use xlink:href=\"#DejaVuSans-55\"/>\n       <use x=\"63.623047\" xlink:href=\"#DejaVuSans-62\"/>\n       <use x=\"147.412109\" xlink:href=\"#DejaVuSans-57\"/>\n      </g>\n     </g>\n    </g>\n    <g id=\"ytick_17\">\n     <g id=\"line2d_31\">\n      <g>\n       <use style=\"stroke:#000000;stroke-width:0.8;\" x=\"23.878125\" xlink:href=\"#mbe86d9a889\" y=\"904.14\"/>\n      </g>\n     </g>\n     <g id=\"text_31\">\n      <!-- 7&gt;10 -->\n      <g transform=\"translate(14.798438 927.807969)rotate(-90)scale(0.1 -0.1)\">\n       <use xlink:href=\"#DejaVuSans-55\"/>\n       <use x=\"63.623047\" xlink:href=\"#DejaVuSans-62\"/>\n       <use x=\"147.412109\" xlink:href=\"#DejaVuSans-49\"/>\n       <use x=\"211.035156\" xlink:href=\"#DejaVuSans-48\"/>\n      </g>\n     </g>\n    </g>\n    <g id=\"ytick_18\">\n     <g id=\"line2d_32\">\n      <g>\n       <use style=\"stroke:#000000;stroke-width:0.8;\" x=\"23.878125\" xlink:href=\"#mbe86d9a889\" y=\"958.5\"/>\n      </g>\n     </g>\n     <g id=\"text_32\">\n      <!-- 8&gt;11 -->\n      <g transform=\"translate(14.798438 982.167969)rotate(-90)scale(0.1 -0.1)\">\n       <use xlink:href=\"#DejaVuSans-56\"/>\n       <use x=\"63.623047\" xlink:href=\"#DejaVuSans-62\"/>\n       <use x=\"147.412109\" xlink:href=\"#DejaVuSans-49\"/>\n       <use x=\"211.035156\" xlink:href=\"#DejaVuSans-49\"/>\n      </g>\n     </g>\n    </g>\n    <g id=\"ytick_19\">\n     <g id=\"line2d_33\">\n      <g>\n       <use style=\"stroke:#000000;stroke-width:0.8;\" x=\"23.878125\" xlink:href=\"#mbe86d9a889\" y=\"1012.86\"/>\n      </g>\n     </g>\n     <g id=\"text_33\">\n      <!-- 9&gt;11 -->\n      <g transform=\"translate(14.798438 1036.527969)rotate(-90)scale(0.1 -0.1)\">\n       <use xlink:href=\"#DejaVuSans-57\"/>\n       <use x=\"63.623047\" xlink:href=\"#DejaVuSans-62\"/>\n       <use x=\"147.412109\" xlink:href=\"#DejaVuSans-49\"/>\n       <use x=\"211.035156\" xlink:href=\"#DejaVuSans-49\"/>\n      </g>\n     </g>\n    </g>\n    <g id=\"ytick_20\">\n     <g id=\"line2d_34\">\n      <g>\n       <use style=\"stroke:#000000;stroke-width:0.8;\" x=\"23.878125\" xlink:href=\"#mbe86d9a889\" y=\"1067.22\"/>\n      </g>\n     </g>\n     <g id=\"text_34\">\n      <!-- 10&gt;11 -->\n      <g transform=\"translate(14.798438 1097.250469)rotate(-90)scale(0.1 -0.1)\">\n       <use xlink:href=\"#DejaVuSans-49\"/>\n       <use x=\"63.623047\" xlink:href=\"#DejaVuSans-48\"/>\n       <use x=\"127.246094\" xlink:href=\"#DejaVuSans-62\"/>\n       <use x=\"211.035156\" xlink:href=\"#DejaVuSans-49\"/>\n       <use x=\"274.658203\" xlink:href=\"#DejaVuSans-49\"/>\n      </g>\n     </g>\n    </g>\n   </g>\n  </g>\n </g>\n <defs>\n  <clipPath id=\"pb68584984b\">\n   <rect height=\"1087.2\" width=\"1116\" x=\"23.878125\" y=\"7.2\"/>\n  </clipPath>\n </defs>\n</svg>\n",
      "image/png": "[encoded data removed]"
     },
     "metadata": {
      "needs_background": "light"
     }
    }
   ],
   "source": [
    "# route changes after applying reduced costs that don't make distances negative (as that's not possible)\n",
    "sols2 = {}\n",
    "remove = []\n",
    "for key in sols.keys():\n",
    "    sols2[f\"{key[0]}>{key[1]}\"] = {}\n",
    "for key in sols.keys():\n",
    "    for key2,val in sols[key].items():\n",
    "        sols2[f\"{key[0]}>{key[1]}\"][f\"{key2[0]}>{key2[1]}\"] = val\n",
    "    if pd.DataFrame(sols2)[f\"{key[0]}>{key[1]}\"].sum() == 0:\n",
    "        remove.append(f\"{key[0]}>{key[1]}\")\n",
    "df = pd.DataFrame(sols2)\n",
    "df = df[[x for x in df.columns if x not in remove]]\n",
    "\n",
    "fig = plt.figure(figsize=(20,20))\n",
    "sns.heatmap(df, cbar=False)"
   ]
  },
  {
   "source": [
    "We clearly see, after applying each reduced cost individually that the reduced costs that seem to affect the route are uniquely the reduced cost applied to $x_{2,6}$ and the reduced cost applied to $x_{3,6}$.\n",
    "\n",
    "Of course, different combinations of reduced costs would change the path in different ways, however, we can see that by themselves, these would be the changes to the paths"
   ],
   "cell_type": "markdown",
   "metadata": {}
  },
  {
   "source": [
    "Our heatmap shows in BLACK the nodes that would NOT be taken. while the nodes in white would be taken."
   ],
   "cell_type": "markdown",
   "metadata": {}
  },
  {
   "source": [
    "our shortest path after applying the reduced cost for $x_{2,6}$ would be (basically reducing the distance between node 2 and node 6):\n",
    "\n",
    "$x_{1,2} \\rightarrow x_{2,6} \\rightarrow x_{6,10} \\rightarrow x_{10,11}$\n",
    "\n",
    "our shortest path after applying the reduced cost for $x_{3,6}$ would be (basically reducing the distance between node 2 and node 6):\n",
    "\n",
    "$x_{1,3} \\rightarrow x_{3,6} \\rightarrow x_{6,10} \\rightarrow x_{10,11}$\n",
    "\n",
    "Which are, admittedly, similar paths.\n"
   ],
   "cell_type": "markdown",
   "metadata": {}
  },
  {
   "source": [
    "<img src='./images/3.png'>"
   ],
   "cell_type": "markdown",
   "metadata": {}
  },
  {
   "source": [
    "## Problem 2-a"
   ],
   "cell_type": "markdown",
   "metadata": {}
  },
  {
   "source": [
    "$x_{1}, x_{2}, x_{3}, x_{4} \\in \\mathbb{N}$\n",
    "\n",
    "$y_{1}, y_{2}, y_{3}, y_{4} \\in \\{0, 1\\}$\n",
    "\n",
    "maximize $49x_{1} - 993y_{1} + 54x_{2} - 715y_{2} + 47x_{3} - 834y_{3} + 51x_{4} - 940y_{4}$\n",
    "\n",
    "subject to:\n",
    "\n",
    "$x_{1} \\leq 2500 y_{1}$, $x_{2} \\leq 2500 y_{2}$, $x_{3} \\leq 2500 y_{3}$, $x_{4} \\leq 2500 y_{4}$\n",
    "\n",
    "$3x_{1} + 3x_{2} + 5x_{3} + 6x_{4} \\leq 598$\n",
    "\n",
    "$6x_{1} + 3x_{2} + 4x_{3} + 3x_{4} \\leq 287$\n",
    "\n",
    "$6x_{1} + 6x_{2} + 2x_{3} + 7x_{4} \\leq 392$\n",
    "\n",
    "\n",
    "\n",
    "\n",
    "\n",
    "\n",
    "\n",
    "\n",
    "\n"
   ],
   "cell_type": "markdown",
   "metadata": {}
  },
  {
   "source": [
    "## Problem 2-b"
   ],
   "cell_type": "markdown",
   "metadata": {}
  },
  {
   "cell_type": "code",
   "execution_count": null,
   "metadata": {},
   "outputs": [],
   "source": []
  },
  {
   "source": [
    "<img src='./images/4.png'>"
   ],
   "cell_type": "markdown",
   "metadata": {}
  },
  {
   "source": [
    "## Problem 3-a"
   ],
   "cell_type": "markdown",
   "metadata": {}
  },
  {
   "cell_type": "code",
   "execution_count": 167,
   "metadata": {},
   "outputs": [
    {
     "output_type": "stream",
     "name": "stdout",
     "text": [
      "Gurobi Optimizer version 9.0.3 build v9.0.3rc0 (linux64)\n",
      "Optimize a model with 1 rows, 24 columns and 24 nonzeros\n",
      "Model fingerprint: 0x16d202d5\n",
      "Variable types: 0 continuous, 24 integer (24 binary)\n",
      "Coefficient statistics:\n",
      "  Matrix range     [3e+08, 4e+08]\n",
      "  Objective range  [3e+08, 4e+08]\n",
      "  Bounds range     [1e+00, 1e+00]\n",
      "  RHS range        [3e+09, 3e+09]\n",
      "Warning: Model contains large matrix coefficients\n",
      "Warning: Model contains large rhs\n",
      "         Consider reformulating model or setting NumericFocus parameter\n",
      "         to avoid numerical issues.\n",
      "Found heuristic solution: objective 3.221291e+09\n",
      "Presolve time: 0.00s\n",
      "Presolved: 1 rows, 24 columns, 24 nonzeros\n",
      "Variable types: 0 continuous, 24 integer (24 binary)\n",
      "\n",
      "Root relaxation: objective 3.355443e+09, 5 iterations, 0.00 seconds\n",
      "\n",
      "    Nodes    |    Current Node    |     Objective Bounds      |     Work\n",
      " Expl Unexpl |  Obj  Depth IntInf | Incumbent    BestBd   Gap | It/Node Time\n",
      "\n",
      "     0     0 3.3554e+09    0    1 3.2213e+09 3.3554e+09  4.16%     -    0s\n",
      "H    0     0                    3.353526e+09 3.3554e+09  0.06%     -    0s\n",
      "     0     0 3.3554e+09    0    1 3.3535e+09 3.3554e+09  0.06%     -    0s\n",
      "H    0     0                    3.354935e+09 3.3554e+09  0.02%     -    0s\n",
      "     0     0 3.3554e+09    0    1 3.3549e+09 3.3554e+09  0.02%     -    0s\n",
      "     0     0 3.3554e+09    0    1 3.3549e+09 3.3554e+09  0.02%     -    0s\n",
      "     0     0 3.3554e+09    0    1 3.3549e+09 3.3554e+09  0.02%     -    0s\n",
      "     0     0 3.3554e+09    0    1 3.3549e+09 3.3554e+09  0.02%     -    0s\n",
      "     0     2 3.3554e+09    0    1 3.3549e+09 3.3554e+09  0.02%     -    0s\n",
      "H  455   155                    3.355288e+09 3.3554e+09  0.00%   1.1    0s\n",
      "\n",
      "Cutting planes:\n",
      "  Cover: 7\n",
      "\n",
      "Explored 511 nodes (546 simplex iterations) in 0.02 seconds\n",
      "Thread count was 16 (of 16 available processors)\n",
      "\n",
      "Solution count 4: 3.35529e+09 3.35494e+09 3.35353e+09 3.22129e+09 \n",
      "\n",
      "Optimal solution found (tolerance 1.00e-04)\n",
      "Best objective 3.355287564000e+09, best bound 3.355443192000e+09, gap 0.0046%\n"
     ]
    }
   ],
   "source": [
    "# objects\n",
    "n = 24 \n",
    "\n",
    "# define k\n",
    "def k(v):\n",
    "    return np.floor(np.log(2*v))\n",
    "\n",
    "# weight\n",
    "w = [2**(k(n) + n + 1) + 2**(k(n) + j) + 1 for j in range(1,n+1)]\n",
    "\n",
    "# value/profit\n",
    "r = [2**(k(n) + n + 1) + 2**(k(n) + j) + 1 for j in range(1,n+1)]\n",
    "\n",
    "# kanpsack's capacity\n",
    "b = sum([np.floor(w[j]/2) for j in range(n)])\n",
    "\n",
    "# defining the model\n",
    "m = Model('knapsack')\n",
    "\n",
    "# Binary variables\n",
    "x = m.addVars(range(n), name=\"x\", vtype=GRB.BINARY)\n",
    "\n",
    "# Capacity constraints\n",
    "m.addConstr(quicksum(w[j]*x[j] for j in range(n)) <= b)\n",
    "\n",
    "# Objective\n",
    "obj = quicksum(r[j]*x[j] for j in range(n))\n",
    "\n",
    "m.setObjective(obj, GRB.MAXIMIZE)\n",
    "\n",
    "m.optimize()"
   ]
  },
  {
   "cell_type": "code",
   "execution_count": 121,
   "metadata": {},
   "outputs": [
    {
     "output_type": "stream",
     "name": "stdout",
     "text": [
      "511.0\n0.024396181106567383\n3355287564.0\n"
     ]
    }
   ],
   "source": [
    "print(m.NodeCount)\n",
    "print(m.Runtime)\n",
    "print(m.ObjVal)"
   ]
  },
  {
   "source": [
    "### - Our optimal solution (using a tolerance of $1\\times 10^{-4}$) is  ~ $3.355287564 \\times 10^{9}$\n",
    "### - The solution time is 0.024396181106567383 seconds\n",
    "### - The number of nodes explored is of 511 nodes"
   ],
   "cell_type": "markdown",
   "metadata": {}
  },
  {
   "cell_type": "code",
   "execution_count": 168,
   "metadata": {},
   "outputs": [
    {
     "output_type": "stream",
     "name": "stdout",
     "text": [
      "Gurobi Optimizer version 9.0.3 build v9.0.3rc0 (linux64)\n",
      "Optimize a model with 2 rows, 48 columns and 48 nonzeros\n",
      "Model fingerprint: 0x83b9db41\n",
      "Variable types: 24 continuous, 24 integer (24 binary)\n",
      "Coefficient statistics:\n",
      "  Matrix range     [3e+08, 4e+08]\n",
      "  Objective range  [3e+08, 4e+08]\n",
      "  Bounds range     [1e+00, 1e+00]\n",
      "  RHS range        [3e+09, 3e+09]\n",
      "Warning: Model contains large matrix coefficients\n",
      "Warning: Model contains large rhs\n",
      "         Consider reformulating model or setting NumericFocus parameter\n",
      "         to avoid numerical issues.\n",
      "\n",
      "MIP start from previous solve did not produce a new incumbent solution\n",
      "\n",
      "Found heuristic solution: objective 3.355443e+09\n",
      "Presolve removed 1 rows and 47 columns\n",
      "Presolve time: 0.00s\n",
      "\n",
      "Explored 0 nodes (0 simplex iterations) in 0.00 seconds\n",
      "Thread count was 1 (of 16 available processors)\n",
      "\n",
      "Solution count 1: 3.35544e+09 \n",
      "No other solutions better than 0\n",
      "\n",
      "Model is unbounded\n",
      "Best objective 3.355443192000e+09, best bound -, gap -\n"
     ]
    }
   ],
   "source": [
    "# Linear relaxation\n",
    "x = m.addVars(range(n), name=\"x\")\n",
    "\n",
    "# Capacity constraints\n",
    "m.addConstr(quicksum(w[j]*x[j] for j in range(n)) <= b)\n",
    "\n",
    "# Objective\n",
    "obj = quicksum(r[j]*x[j] for j in range(n))\n",
    "\n",
    "m.setObjective(obj, GRB.MAXIMIZE)\n",
    "\n",
    "m.optimize()"
   ]
  },
  {
   "source": [
    "## Problem 3-b"
   ],
   "cell_type": "markdown",
   "metadata": {}
  },
  {
   "cell_type": "code",
   "execution_count": 80,
   "metadata": {
    "tags": []
   },
   "outputs": [],
   "source": [
    "from random import choice\n",
    "\n",
    "weights = [(i,x) for i,x in enumerate(w)]\n",
    "indexes = {i:[] for i in range(100)}\n",
    "\n",
    "for i in range(100):\n",
    "    k = b\n",
    "    weights_set = set(weights)\n",
    "    while k > 0:\n",
    "        chosen_x = choice(list(weights_set))\n",
    "        weights_set -= {chosen_x}\n",
    "        k -= chosen_x[1]\n",
    "        indexes[i].append(chosen_x[0])\n",
    "\n",
    "\n"
   ]
  },
  {
   "cell_type": "code",
   "execution_count": 81,
   "metadata": {
    "tags": [
     "outputPrepend"
    ]
   },
   "outputs": [
    {
     "output_type": "stream",
     "name": "stdout",
     "text": [
      "09 3.3554e+09  0.01%     -    0s\n",
      "     0     0 3.3554e+09    0    1 3.3549e+09 3.3554e+09  0.01%     -    0s\n",
      "     0     2 3.3554e+09    0    1 3.3549e+09 3.3554e+09  0.01%     -    0s\n",
      "H  142    87                    3.355193e+09 3.3554e+09  0.01%   1.1    0s\n",
      "\n",
      "Cutting planes:\n",
      "  Cover: 6\n",
      "\n",
      "Explored 159 nodes (185 simplex iterations) in 0.02 seconds\n",
      "Thread count was 16 (of 16 available processors)\n",
      "\n",
      "Solution count 4: 3.35519e+09 3.35494e+09 3.35345e+09 3.22129e+09 \n",
      "\n",
      "Optimal solution found (tolerance 1.00e-04)\n",
      "Best objective 3.355193388000e+09, best bound 3.355443192000e+09, gap 0.0074%\n",
      "[1, 10, 6, 0, 7, 23, 12, 14, 22, 3, 21, 13]\n",
      "Gurobi Optimizer version 9.0.3 build v9.0.3rc0 (linux64)\n",
      "Optimize a model with 2 rows, 24 columns and 36 nonzeros\n",
      "Model fingerprint: 0x85b5ed38\n",
      "Variable types: 0 continuous, 24 integer (24 binary)\n",
      "Coefficient statistics:\n",
      "  Matrix range     [1e+00, 4e+08]\n",
      "  Objective range  [3e+08, 4e+08]\n",
      "  Bounds range     [1e+00, 1e+00]\n",
      "  RHS range        [1e+01, 3e+09]\n",
      "Warning: Model contains large matrix coefficients\n",
      "Warning: Model contains large rhs\n",
      "         Consider reformulating model or setting NumericFocus parameter\n",
      "         to avoid numerical issues.\n",
      "Found heuristic solution: objective 3.221291e+09\n",
      "Presolve time: 0.00s\n",
      "Presolved: 2 rows, 24 columns, 36 nonzeros\n",
      "Variable types: 0 continuous, 24 integer (24 binary)\n",
      "\n",
      "Root relaxation: objective 3.355443e+09, 5 iterations, 0.00 seconds\n",
      "\n",
      "    Nodes    |    Current Node    |     Objective Bounds      |     Work\n",
      " Expl Unexpl |  Obj  Depth IntInf | Incumbent    BestBd   Gap | It/Node Time\n",
      "\n",
      "     0     0 3.3554e+09    0    1 3.2213e+09 3.3554e+09  4.16%     -    0s\n",
      "H    0     0                    3.354935e+09 3.3554e+09  0.02%     -    0s\n",
      "     0     0 3.3554e+09    0    1 3.3549e+09 3.3554e+09  0.02%     -    0s\n",
      "H    0     0                    3.355198e+09 3.3554e+09  0.01%     -    0s\n",
      "\n",
      "Cutting planes:\n",
      "  Cover: 1\n",
      "\n",
      "Explored 1 nodes (6 simplex iterations) in 0.01 seconds\n",
      "Thread count was 16 (of 16 available processors)\n",
      "\n",
      "Solution count 3: 3.3552e+09 3.35494e+09 3.22129e+09 \n",
      "\n",
      "Optimal solution found (tolerance 1.00e-04)\n",
      "Best objective 3.355197500000e+09, best bound 3.355443192000e+09, gap 0.0073%\n",
      "[20, 8, 6, 12, 7, 10, 23, 19, 14, 17, 16, 4]\n",
      "Gurobi Optimizer version 9.0.3 build v9.0.3rc0 (linux64)\n",
      "Optimize a model with 2 rows, 24 columns and 36 nonzeros\n",
      "Model fingerprint: 0xe1c24edd\n",
      "Variable types: 0 continuous, 24 integer (24 binary)\n",
      "Coefficient statistics:\n",
      "  Matrix range     [1e+00, 4e+08]\n",
      "  Objective range  [3e+08, 4e+08]\n",
      "  Bounds range     [1e+00, 1e+00]\n",
      "  RHS range        [1e+01, 3e+09]\n",
      "Warning: Model contains large matrix coefficients\n",
      "Warning: Model contains large rhs\n",
      "         Consider reformulating model or setting NumericFocus parameter\n",
      "         to avoid numerical issues.\n",
      "Found heuristic solution: objective 3.221291e+09\n",
      "Presolve time: 0.00s\n",
      "Presolved: 2 rows, 24 columns, 36 nonzeros\n",
      "Variable types: 0 continuous, 24 integer (24 binary)\n",
      "\n",
      "Root relaxation: objective 3.355443e+09, 5 iterations, 0.00 seconds\n",
      "\n",
      "    Nodes    |    Current Node    |     Objective Bounds      |     Work\n",
      " Expl Unexpl |  Obj  Depth IntInf | Incumbent    BestBd   Gap | It/Node Time\n",
      "\n",
      "     0     0 3.3554e+09    0    1 3.2213e+09 3.3554e+09  4.16%     -    0s\n",
      "H    0     0                    3.354542e+09 3.3554e+09  0.03%     -    0s\n",
      "     0     0 3.3554e+09    0    1 3.3545e+09 3.3554e+09  0.03%     -    0s\n",
      "     0     0 3.3554e+09    0    1 3.3545e+09 3.3554e+09  0.03%     -    0s\n",
      "     0     0 3.3554e+09    0    1 3.3545e+09 3.3554e+09  0.03%     -    0s\n",
      "     0     0 3.3554e+09    0    5 3.3545e+09 3.3554e+09  0.03%     -    0s\n",
      "     0     0 3.3554e+09    0    5 3.3545e+09 3.3554e+09  0.03%     -    0s\n",
      "H    0     0                    3.355247e+09 3.3554e+09  0.01%     -    0s\n",
      "\n",
      "Cutting planes:\n",
      "  Cover: 4\n",
      "\n",
      "Explored 1 nodes (9 simplex iterations) in 0.01 seconds\n",
      "Thread count was 16 (of 16 available processors)\n",
      "\n",
      "Solution count 3: 3.35525e+09 3.35454e+09 3.22129e+09 \n",
      "\n",
      "Optimal solution found (tolerance 1.00e-04)\n",
      "Best objective 3.355246652000e+09, best bound 3.355443192000e+09, gap 0.0059%\n",
      "[19, 15, 22, 17, 7, 13, 14, 18, 11, 0, 12, 10, 4]\n",
      "Gurobi Optimizer version 9.0.3 build v9.0.3rc0 (linux64)\n",
      "Optimize a model with 2 rows, 24 columns and 37 nonzeros\n",
      "Model fingerprint: 0x2030afb9\n",
      "Variable types: 0 continuous, 24 integer (24 binary)\n",
      "Coefficient statistics:\n",
      "  Matrix range     [1e+00, 4e+08]\n",
      "  Objective range  [3e+08, 4e+08]\n",
      "  Bounds range     [1e+00, 1e+00]\n",
      "  RHS range        [1e+01, 3e+09]\n",
      "Warning: Model contains large matrix coefficients\n",
      "Warning: Model contains large rhs\n",
      "         Consider reformulating model or setting NumericFocus parameter\n",
      "         to avoid numerical issues.\n",
      "Found heuristic solution: objective 3.221291e+09\n",
      "Presolve time: 0.00s\n",
      "Presolved: 2 rows, 24 columns, 37 nonzeros\n",
      "Variable types: 0 continuous, 24 integer (24 binary)\n",
      "\n",
      "Root relaxation: objective 3.355443e+09, 5 iterations, 0.00 seconds\n",
      "\n",
      "    Nodes    |    Current Node    |     Objective Bounds      |     Work\n",
      " Expl Unexpl |  Obj  Depth IntInf | Incumbent    BestBd   Gap | It/Node Time\n",
      "\n",
      "     0     0 3.3554e+09    0    1 3.2213e+09 3.3554e+09  4.16%     -    0s\n",
      "H    0     0                    3.353526e+09 3.3554e+09  0.06%     -    0s\n",
      "H    0     0                    3.354739e+09 3.3554e+09  0.02%     -    0s\n",
      "     0     0 3.3554e+09    0    1 3.3547e+09 3.3554e+09  0.02%     -    0s\n",
      "     0     0 3.3554e+09    0    1 3.3547e+09 3.3554e+09  0.02%     -    0s\n",
      "     0     0 3.3554e+09    0    1 3.3547e+09 3.3554e+09  0.02%     -    0s\n",
      "     0     0 3.3554e+09    0    1 3.3547e+09 3.3554e+09  0.02%     -    0s\n",
      "     0     0 3.3554e+09    0    1 3.3547e+09 3.3554e+09  0.02%     -    0s\n",
      "     0     2 3.3554e+09    0    1 3.3547e+09 3.3554e+09  0.02%     -    0s\n",
      "H  561     0                    3.355410e+09 3.3554e+09  0.00%   1.1    0s\n",
      "\n",
      "Cutting planes:\n",
      "  Cover: 7\n",
      "\n",
      "Explored 698 nodes (1045 simplex iterations) in 0.02 seconds\n",
      "Thread count was 16 (of 16 available processors)\n",
      "\n",
      "Solution count 4: 3.35541e+09 3.35474e+09 3.35353e+09 3.22129e+09 \n",
      "\n",
      "Optimal solution found (tolerance 1.00e-04)\n",
      "Best objective 3.355410444000e+09, best bound 3.355410444000e+09, gap 0.0000%\n",
      "[22, 3, 18, 17, 10, 8, 0, 9, 19, 11, 16, 7, 1]\n",
      "Gurobi Optimizer version 9.0.3 build v9.0.3rc0 (linux64)\n",
      "Optimize a model with 2 rows, 24 columns and 37 nonzeros\n",
      "Model fingerprint: 0xaa10b427\n",
      "Variable types: 0 continuous, 24 integer (24 binary)\n",
      "Coefficient statistics:\n",
      "  Matrix range     [1e+00, 4e+08]\n",
      "  Objective range  [3e+08, 4e+08]\n",
      "  Bounds range     [1e+00, 1e+00]\n",
      "  RHS range        [1e+01, 3e+09]\n",
      "Warning: Model contains large matrix coefficients\n",
      "Warning: Model contains large rhs\n",
      "         Consider reformulating model or setting NumericFocus parameter\n",
      "         to avoid numerical issues.\n",
      "Found heuristic solution: objective 3.221291e+09\n",
      "Presolve time: 0.00s\n",
      "Presolved: 2 rows, 24 columns, 37 nonzeros\n",
      "Variable types: 0 continuous, 24 integer (24 binary)\n",
      "\n",
      "Root relaxation: objective 3.355443e+09, 5 iterations, 0.00 seconds\n",
      "\n",
      "    Nodes    |    Current Node    |     Objective Bounds      |     Work\n",
      " Expl Unexpl |  Obj  Depth IntInf | Incumbent    BestBd   Gap | It/Node Time\n",
      "\n",
      "     0     0 3.3554e+09    0    1 3.2213e+09 3.3554e+09  4.16%     -    0s\n",
      "H    0     0                    3.353526e+09 3.3554e+09  0.06%     -    0s\n",
      "H    0     0                    3.354739e+09 3.3554e+09  0.02%     -    0s\n",
      "     0     0 3.3554e+09    0    1 3.3547e+09 3.3554e+09  0.02%     -    0s\n",
      "     0     0 3.3554e+09    0    1 3.3547e+09 3.3554e+09  0.02%     -    0s\n",
      "     0     0 3.3554e+09    0    1 3.3547e+09 3.3554e+09  0.02%     -    0s\n",
      "     0     0 3.3554e+09    0    1 3.3547e+09 3.3554e+09  0.02%     -    0s\n",
      "     0     0 3.3554e+09    0    1 3.3547e+09 3.3554e+09  0.02%     -    0s\n",
      "     0     2 3.3554e+09    0    1 3.3547e+09 3.3554e+09  0.02%     -    0s\n",
      "*  529     0               4    3.355410e+09 3.3554e+09  0.00%   1.1    0s\n",
      "\n",
      "Cutting planes:\n",
      "  Cover: 7\n",
      "\n",
      "Explored 661 nodes (1016 simplex iterations) in 0.02 seconds\n",
      "Thread count was 16 (of 16 available processors)\n",
      "\n",
      "Solution count 4: 3.35541e+09 3.35474e+09 3.35353e+09 3.22129e+09 \n",
      "\n",
      "Optimal solution found (tolerance 1.00e-04)\n",
      "Best objective 3.355410444000e+09, best bound 3.355410444000e+09, gap 0.0000%\n",
      "[12, 0, 15, 8, 22, 21, 5, 9, 14, 2, 23, 16]\n",
      "Gurobi Optimizer version 9.0.3 build v9.0.3rc0 (linux64)\n",
      "Optimize a model with 2 rows, 24 columns and 36 nonzeros\n",
      "Model fingerprint: 0x37010f4b\n",
      "Variable types: 0 continuous, 24 integer (24 binary)\n",
      "Coefficient statistics:\n",
      "  Matrix range     [1e+00, 4e+08]\n",
      "  Objective range  [3e+08, 4e+08]\n",
      "  Bounds range     [1e+00, 1e+00]\n",
      "  RHS range        [1e+01, 3e+09]\n",
      "Warning: Model contains large matrix coefficients\n",
      "Warning: Model contains large rhs\n",
      "         Consider reformulating model or setting NumericFocus parameter\n",
      "         to avoid numerical issues.\n",
      "Found heuristic solution: objective 3.221291e+09\n",
      "Presolve time: 0.00s\n",
      "Presolved: 2 rows, 24 columns, 36 nonzeros\n",
      "Variable types: 0 continuous, 24 integer (24 binary)\n",
      "\n",
      "Root relaxation: objective 3.355443e+09, 5 iterations, 0.00 seconds\n",
      "\n",
      "    Nodes    |    Current Node    |     Objective Bounds      |     Work\n",
      " Expl Unexpl |  Obj  Depth IntInf | Incumbent    BestBd   Gap | It/Node Time\n",
      "\n",
      "     0     0 3.3554e+09    0    1 3.2213e+09 3.3554e+09  4.16%     -    0s\n",
      "H    0     0                    3.354935e+09 3.3554e+09  0.02%     -    0s\n",
      "     0     0 3.3554e+09    0    1 3.3549e+09 3.3554e+09  0.02%     -    0s\n",
      "     0     0 3.3554e+09    0    1 3.3549e+09 3.3554e+09  0.02%     -    0s\n",
      "     0     0 3.3554e+09    0    1 3.3549e+09 3.3554e+09  0.02%     -    0s\n",
      "     0     0 3.3554e+09    0    1 3.3549e+09 3.3554e+09  0.02%     -    0s\n",
      "     0     0 3.3554e+09    0    1 3.3549e+09 3.3554e+09  0.02%     -    0s\n",
      "     0     2 3.3554e+09    0    1 3.3549e+09 3.3554e+09  0.02%     -    0s\n",
      "H   19    24                    3.355198e+09 3.3554e+09  0.01%   1.9    0s\n",
      "\n",
      "Cutting planes:\n",
      "  Cover: 6\n",
      "\n",
      "Explored 23 nodes (52 simplex iterations) in 0.01 seconds\n",
      "Thread count was 16 (of 16 available processors)\n",
      "\n",
      "Solution count 3: 3.3552e+09 3.35494e+09 3.22129e+09 \n",
      "\n",
      "Optimal solution found (tolerance 1.00e-04)\n",
      "Best objective 3.355197500000e+09, best bound 3.355443192000e+09, gap 0.0073%\n",
      "[16, 11, 2, 17, 18, 4, 15, 10, 14, 9, 22, 12, 23]\n",
      "Gurobi Optimizer version 9.0.3 build v9.0.3rc0 (linux64)\n",
      "Optimize a model with 2 rows, 24 columns and 37 nonzeros\n",
      "Model fingerprint: 0xd45e7559\n",
      "Variable types: 0 continuous, 24 integer (24 binary)\n",
      "Coefficient statistics:\n",
      "  Matrix range     [1e+00, 4e+08]\n",
      "  Objective range  [3e+08, 4e+08]\n",
      "  Bounds range     [1e+00, 1e+00]\n",
      "  RHS range        [1e+01, 3e+09]\n",
      "Warning: Model contains large matrix coefficients\n",
      "Warning: Model contains large rhs\n",
      "         Consider reformulating model or setting NumericFocus parameter\n",
      "         to avoid numerical issues.\n",
      "Found heuristic solution: objective 3.221291e+09\n",
      "Presolve time: 0.00s\n",
      "Presolved: 2 rows, 24 columns, 37 nonzeros\n",
      "Variable types: 0 continuous, 24 integer (24 binary)\n",
      "\n",
      "Root relaxation: objective 3.355443e+09, 5 iterations, 0.00 seconds\n",
      "\n",
      "    Nodes    |    Current Node    |     Objective Bounds      |     Work\n",
      " Expl Unexpl |  Obj  Depth IntInf | Incumbent    BestBd   Gap | It/Node Time\n",
      "\n",
      "     0     0 3.3554e+09    0    1 3.2213e+09 3.3554e+09  4.16%     -    0s\n",
      "H    0     0                    3.353690e+09 3.3554e+09  0.05%     -    0s\n",
      "H    0     0                    3.354596e+09 3.3554e+09  0.03%     -    0s\n",
      "     0     0 3.3554e+09    0    1 3.3546e+09 3.3554e+09  0.03%     -    0s\n",
      "     0     0 3.3554e+09    0    1 3.3546e+09 3.3554e+09  0.03%     -    0s\n",
      "     0     0 3.3554e+09    0    1 3.3546e+09 3.3554e+09  0.03%     -    0s\n",
      "     0     0 3.3554e+09    0    1 3.3546e+09 3.3554e+09  0.03%     -    0s\n",
      "     0     0 3.3554e+09    0    1 3.3546e+09 3.3554e+09  0.03%     -    0s\n",
      "     0     2 3.3554e+09    0    1 3.3546e+09 3.3554e+09  0.03%     -    0s\n",
      "H  142    93                    3.355036e+09 3.3554e+09  0.01%   1.1    0s\n",
      "H  243   147                    3.355247e+09 3.3554e+09  0.01%   1.1    0s\n",
      "\n",
      "Cutting planes:\n",
      "  Cover: 7\n",
      "\n",
      "Explored 551 nodes (580 simplex iterations) in 0.02 seconds\n",
      "Thread count was 16 (of 16 available processors)\n",
      "\n",
      "Solution count 5: 3.35525e+09 3.35504e+09 3.3546e+09 ... 3.22129e+09\n",
      "\n",
      "Optimal solution found (tolerance 1.00e-04)\n",
      "Best objective 3.355247148000e+09, best bound 3.355443192000e+09, gap 0.0058%\n",
      "[18, 6, 22, 9, 2, 1, 14, 15, 7, 21, 13, 17, 11]\n",
      "Gurobi Optimizer version 9.0.3 build v9.0.3rc0 (linux64)\n",
      "Optimize a model with 2 rows, 24 columns and 37 nonzeros\n",
      "Model fingerprint: 0x1c52b681\n",
      "Variable types: 0 continuous, 24 integer (24 binary)\n",
      "Coefficient statistics:\n",
      "  Matrix range     [1e+00, 4e+08]\n",
      "  Objective range  [3e+08, 4e+08]\n",
      "  Bounds range     [1e+00, 1e+00]\n",
      "  RHS range        [1e+01, 3e+09]\n",
      "Warning: Model contains large matrix coefficients\n",
      "Warning: Model contains large rhs\n",
      "         Consider reformulating model or setting NumericFocus parameter\n",
      "         to avoid numerical issues.\n",
      "Found heuristic solution: objective 3.221291e+09\n",
      "Presolve time: 0.00s\n",
      "Presolved: 2 rows, 24 columns, 37 nonzeros\n",
      "Variable types: 0 continuous, 24 integer (24 binary)\n",
      "\n",
      "Root relaxation: objective 3.355443e+09, 5 iterations, 0.00 seconds\n",
      "\n",
      "    Nodes    |    Current Node    |     Objective Bounds      |     Work\n",
      " Expl Unexpl |  Obj  Depth IntInf | Incumbent    BestBd   Gap | It/Node Time\n",
      "\n",
      "     0     0 3.3554e+09    0    1 3.2213e+09 3.3554e+09  4.16%     -    0s\n",
      "H    0     0                    3.354542e+09 3.3554e+09  0.03%     -    0s\n",
      "     0     0 3.3554e+09    0    1 3.3545e+09 3.3554e+09  0.03%     -    0s\n",
      "     0     0 3.3554e+09    0    1 3.3545e+09 3.3554e+09  0.03%     -    0s\n",
      "H    0     0                    3.355184e+09 3.3554e+09  0.01%     -    0s\n",
      "\n",
      "Cutting planes:\n",
      "  Cover: 3\n",
      "\n",
      "Explored 1 nodes (7 simplex iterations) in 0.01 seconds\n",
      "Thread count was 16 (of 16 available processors)\n",
      "\n",
      "Solution count 3: 3.35518e+09 3.35454e+09 3.22129e+09 \n",
      "\n",
      "Optimal solution found (tolerance 1.00e-04)\n",
      "Best objective 3.355183756000e+09, best bound 3.355443192000e+09, gap 0.0077%\n",
      "[1, 5, 3, 4, 6, 14, 9, 7, 21, 19, 13, 22, 12]\n",
      "Gurobi Optimizer version 9.0.3 build v9.0.3rc0 (linux64)\n",
      "Optimize a model with 2 rows, 24 columns and 37 nonzeros\n",
      "Model fingerprint: 0x75f02910\n",
      "Variable types: 0 continuous, 24 integer (24 binary)\n",
      "Coefficient statistics:\n",
      "  Matrix range     [1e+00, 4e+08]\n",
      "  Objective range  [3e+08, 4e+08]\n",
      "  Bounds range     [1e+00, 1e+00]\n",
      "  RHS range        [1e+01, 3e+09]\n",
      "Warning: Model contains large matrix coefficients\n",
      "Warning: Model contains large rhs\n",
      "         Consider reformulating model or setting NumericFocus parameter\n",
      "         to avoid numerical issues.\n",
      "Found heuristic solution: objective 3.221291e+09\n",
      "Presolve time: 0.00s\n",
      "Presolved: 2 rows, 24 columns, 37 nonzeros\n",
      "Variable types: 0 continuous, 24 integer (24 binary)\n",
      "\n",
      "Root relaxation: objective 3.355443e+09, 5 iterations, 0.00 seconds\n",
      "\n",
      "    Nodes    |    Current Node    |     Objective Bounds      |     Work\n",
      " Expl Unexpl |  Obj  Depth IntInf | Incumbent    BestBd   Gap | It/Node Time\n",
      "\n",
      "     0     0 3.3554e+09    0    1 3.2213e+09 3.3554e+09  4.16%     -    0s\n",
      "H    0     0                    3.354542e+09 3.3554e+09  0.03%     -    0s\n",
      "     0     0 3.3554e+09    0    1 3.3545e+09 3.3554e+09  0.03%     -    0s\n",
      "     0     0 3.3554e+09    0    1 3.3545e+09 3.3554e+09  0.03%     -    0s\n",
      "     0     0 3.3554e+09    0    1 3.3545e+09 3.3554e+09  0.03%     -    0s\n",
      "     0     0 3.3554e+09    0    1 3.3545e+09 3.3554e+09  0.03%     -    0s\n",
      "     0     0 3.3554e+09    0    1 3.3545e+09 3.3554e+09  0.03%     -    0s\n",
      "     0     2 3.3554e+09    0    1 3.3545e+09 3.3554e+09  0.03%     -    0s\n",
      "H   52    64                    3.355198e+09 3.3554e+09  0.01%   1.3    0s\n",
      "\n",
      "Cutting planes:\n",
      "  Cover: 6\n",
      "\n",
      "Explored 63 nodes (86 simplex iterations) in 0.01 seconds\n",
      "Thread count was 16 (of 16 available processors)\n",
      "\n",
      "Solution count 3: 3.3552e+09 3.35454e+09 3.22129e+09 \n",
      "\n",
      "Optimal solution found (tolerance 1.00e-04)\n",
      "Best objective 3.355197548000e+09, best bound 3.355443192000e+09, gap 0.0073%\n",
      "[1, 16, 7, 15, 22, 5, 0, 18, 10, 19, 2, 12, 23]\n",
      "Gurobi Optimizer version 9.0.3 build v9.0.3rc0 (linux64)\n",
      "Optimize a model with 2 rows, 24 columns and 37 nonzeros\n",
      "Model fingerprint: 0xccb84856\n",
      "Variable types: 0 continuous, 24 integer (24 binary)\n",
      "Coefficient statistics:\n",
      "  Matrix range     [1e+00, 4e+08]\n",
      "  Objective range  [3e+08, 4e+08]\n",
      "  Bounds range     [1e+00, 1e+00]\n",
      "  RHS range        [1e+01, 3e+09]\n",
      "Warning: Model contains large matrix coefficients\n",
      "Warning: Model contains large rhs\n",
      "         Consider reformulating model or setting NumericFocus parameter\n",
      "         to avoid numerical issues.\n",
      "Found heuristic solution: objective 3.221291e+09\n",
      "Presolve time: 0.00s\n",
      "Presolved: 2 rows, 24 columns, 37 nonzeros\n",
      "Variable types: 0 continuous, 24 integer (24 binary)\n",
      "\n",
      "Root relaxation: objective 3.355443e+09, 5 iterations, 0.00 seconds\n",
      "\n",
      "    Nodes    |    Current Node    |     Objective Bounds      |     Work\n",
      " Expl Unexpl |  Obj  Depth IntInf | Incumbent    BestBd   Gap | It/Node Time\n",
      "\n",
      "     0     0 3.3554e+09    0    1 3.2213e+09 3.3554e+09  4.16%     -    0s\n",
      "H    0     0                    3.353526e+09 3.3554e+09  0.06%     -    0s\n",
      "H    0     0                    3.354739e+09 3.3554e+09  0.02%     -    0s\n",
      "     0     0 3.3554e+09    0    1 3.3547e+09 3.3554e+09  0.02%     -    0s\n",
      "     0     0 3.3554e+09    0    1 3.3547e+09 3.3554e+09  0.02%     -    0s\n",
      "     0     0 3.3554e+09    0    1 3.3547e+09 3.3554e+09  0.02%     -    0s\n",
      "     0     0 3.3554e+09    0    1 3.3547e+09 3.3554e+09  0.02%     -    0s\n",
      "     0     0 3.3554e+09    0    1 3.3547e+09 3.3554e+09  0.02%     -    0s\n",
      "     0     2 3.3554e+09    0    1 3.3547e+09 3.3554e+09  0.02%     -    0s\n",
      "H   60    64                    3.355181e+09 3.3554e+09  0.01%   1.4    0s\n",
      "\n",
      "Cutting planes:\n",
      "  Cover: 6\n",
      "\n",
      "Explored 63 nodes (93 simplex iterations) in 0.01 seconds\n",
      "Thread count was 16 (of 16 available processors)\n",
      "\n",
      "Solution count 4: 3.35518e+09 3.35474e+09 3.35353e+09 3.22129e+09 \n",
      "\n",
      "Optimal solution found (tolerance 1.00e-04)\n",
      "Best objective 3.355181244000e+09, best bound 3.355443192000e+09, gap 0.0078%\n",
      "[11, 10, 0, 9, 6, 2, 12, 14, 7, 18, 4, 19, 15]\n",
      "Gurobi Optimizer version 9.0.3 build v9.0.3rc0 (linux64)\n",
      "Optimize a model with 2 rows, 24 columns and 37 nonzeros\n",
      "Model fingerprint: 0xbd62c3f4\n",
      "Variable types: 0 continuous, 24 integer (24 binary)\n",
      "Coefficient statistics:\n",
      "  Matrix range     [1e+00, 4e+08]\n",
      "  Objective range  [3e+08, 4e+08]\n",
      "  Bounds range     [1e+00, 1e+00]\n",
      "  RHS range        [1e+01, 3e+09]\n",
      "Warning: Model contains large matrix coefficients\n",
      "Warning: Model contains large rhs\n",
      "         Consider reformulating model or setting NumericFocus parameter\n",
      "         to avoid numerical issues.\n",
      "Found heuristic solution: objective 3.221291e+09\n",
      "Presolve time: 0.00s\n",
      "Presolved: 2 rows, 24 columns, 37 nonzeros\n",
      "Variable types: 0 continuous, 24 integer (24 binary)\n",
      "\n",
      "Root relaxation: objective 3.355443e+09, 5 iterations, 0.00 seconds\n",
      "\n",
      "    Nodes    |    Current Node    |     Objective Bounds      |     Work\n",
      " Expl Unexpl |  Obj  Depth IntInf | Incumbent    BestBd   Gap | It/Node Time\n",
      "\n",
      "     0     0 3.3554e+09    0    1 3.2213e+09 3.3554e+09  4.16%     -    0s\n",
      "H    0     0                    3.353526e+09 3.3554e+09  0.06%     -    0s\n",
      "     0     0 3.3554e+09    0    1 3.3535e+09 3.3554e+09  0.06%     -    0s\n",
      "H    0     0                    3.354935e+09 3.3554e+09  0.02%     -    0s\n",
      "     0     0 3.3554e+09    0    1 3.3549e+09 3.3554e+09  0.02%     -    0s\n",
      "     0     0 3.3554e+09    0    1 3.3549e+09 3.3554e+09  0.02%     -    0s\n",
      "     0     0 3.3554e+09    0    1 3.3549e+09 3.3554e+09  0.02%     -    0s\n",
      "     0     0 3.3554e+09    0    1 3.3549e+09 3.3554e+09  0.02%     -    0s\n",
      "H    0     0                    3.355312e+09 3.3554e+09  0.00%     -    0s\n",
      "\n",
      "Cutting planes:\n",
      "  Cover: 4\n",
      "\n",
      "Explored 1 nodes (9 simplex iterations) in 0.01 seconds\n",
      "Thread count was 16 (of 16 available processors)\n",
      "\n",
      "Solution count 4: 3.35531e+09 3.35494e+09 3.35353e+09 3.22129e+09 \n",
      "\n",
      "Optimal solution found (tolerance 1.00e-04)\n",
      "Best objective 3.355312188000e+09, best bound 3.355443192000e+09, gap 0.0039%\n"
     ]
    },
    {
     "output_type": "error",
     "ename": "KeyError",
     "evalue": "50",
     "traceback": [
      "\u001b[0;31m---------------------------------------------------------------------------\u001b[0m",
      "\u001b[0;31mKeyError\u001b[0m                                  Traceback (most recent call last)",
      "\u001b[0;32m<ipython-input-81-1cfa5b15daac>\u001b[0m in \u001b[0;36m<module>\u001b[0;34m()\u001b[0m\n\u001b[1;32m     26\u001b[0m     \u001b[0mm\u001b[0m\u001b[0;34m.\u001b[0m\u001b[0moptimize\u001b[0m\u001b[0;34m(\u001b[0m\u001b[0;34m)\u001b[0m\u001b[0;34m\u001b[0m\u001b[0;34m\u001b[0m\u001b[0m\n\u001b[1;32m     27\u001b[0m     \u001b[0;31m# appending to models\u001b[0m\u001b[0;34m\u001b[0m\u001b[0;34m\u001b[0m\u001b[0;34m\u001b[0m\u001b[0m\n\u001b[0;32m---> 28\u001b[0;31m     \u001b[0mmodels\u001b[0m\u001b[0;34m[\u001b[0m\u001b[0midx\u001b[0m\u001b[0;34m]\u001b[0m\u001b[0;34m[\u001b[0m\u001b[0;34m'model'\u001b[0m\u001b[0;34m]\u001b[0m \u001b[0;34m=\u001b[0m \u001b[0mm\u001b[0m\u001b[0;34m\u001b[0m\u001b[0;34m\u001b[0m\u001b[0m\n\u001b[0m\u001b[1;32m     29\u001b[0m     \u001b[0mmodels\u001b[0m\u001b[0;34m[\u001b[0m\u001b[0midx\u001b[0m\u001b[0;34m]\u001b[0m\u001b[0;34m[\u001b[0m\u001b[0;34m'rt'\u001b[0m\u001b[0;34m]\u001b[0m \u001b[0;34m=\u001b[0m \u001b[0mm\u001b[0m\u001b[0;34m.\u001b[0m\u001b[0mRuntime\u001b[0m\u001b[0;34m\u001b[0m\u001b[0;34m\u001b[0m\u001b[0m\n\u001b[1;32m     30\u001b[0m     \u001b[0mmodels\u001b[0m\u001b[0;34m[\u001b[0m\u001b[0midx\u001b[0m\u001b[0;34m]\u001b[0m\u001b[0;34m[\u001b[0m\u001b[0;34m'nd'\u001b[0m\u001b[0;34m]\u001b[0m \u001b[0;34m=\u001b[0m \u001b[0mm\u001b[0m\u001b[0;34m.\u001b[0m\u001b[0mNodeCount\u001b[0m\u001b[0;34m\u001b[0m\u001b[0;34m\u001b[0m\u001b[0m\n",
      "\u001b[0;31mKeyError\u001b[0m: 50"
     ]
    }
   ],
   "source": [
    "models = {i:{'model':0, 'rt':0, 'nd':0} for i in range(50)}\n",
    "\n",
    "# k\n",
    "def k(n): return np.floor(np.log(2*n))\n",
    "\n",
    "for idx, index in indexes.items():\n",
    "    # objects\n",
    "    n = 24 \n",
    "    # weight\n",
    "    w = [2**(k(n) + n + 1) + 2**(k(n) + j) + 1 for j in range(1,n+1)]\n",
    "    # value/profit\n",
    "    r = [2**(k(n) + n + 1) + 2**(k(n) + j) + 1 for j in range(1,n+1)]\n",
    "    # kanpsack's capacity\n",
    "    b = sum([np.floor(w[j]/2) for j in range(n)])\n",
    "    # defining the model\n",
    "    m = Model(f'knapsack_{idx}')\n",
    "    # Binary variables\n",
    "    x = m.addVars(range(n), name=\"x\", vtype=GRB.BINARY)\n",
    "    # Capacity constraints\n",
    "    m.addConstr(quicksum(w[j]*x[j] for j in range(n)) <= b)\n",
    "    m.addConstr(quicksum(x[j] for j in index) <= len(index)-1)\n",
    "    # Objective\n",
    "    obj = quicksum(r[j]*x[j] for j in range(n))\n",
    "    m.setObjective(obj, GRB.MAXIMIZE)\n",
    "    print(index)\n",
    "    m.optimize()\n",
    "    # appending to models\n",
    "    models[idx]['model'] = m\n",
    "    models[idx]['rt'] = m.Runtime\n",
    "    models[idx]['nd'] = m.NodeCount\n"
   ]
  },
  {
   "cell_type": "code",
   "execution_count": 126,
   "metadata": {},
   "outputs": [],
   "source": [
    "# original model runtime\n",
    "original_runtime = 0.024396181106567383\n",
    "\n",
    "# keeping ONLY constraints which reduce the runtime\n",
    "kept_indexes = []\n",
    "for idx, model in models.items():\n",
    "    if model['rt'] < original_runtime:\n",
    "        kept_indexes.append(idx)\n",
    "\n",
    "# filtering indexes\n",
    "new_indexes = {key:val for key,val in indexes.items() if key in kept_indexes}"
   ]
  },
  {
   "cell_type": "code",
   "execution_count": 127,
   "metadata": {},
   "outputs": [
    {
     "output_type": "execute_result",
     "data": {
      "text/plain": [
       "47"
      ]
     },
     "metadata": {},
     "execution_count": 127
    }
   ],
   "source": [
    "len(new_indexes)"
   ]
  },
  {
   "source": [
    "We have correctly identified about 100 constraints out of which 47 should theoretically reduce our general runtime"
   ],
   "cell_type": "markdown",
   "metadata": {}
  },
  {
   "source": [
    "We repeat the model adding such constraints:"
   ],
   "cell_type": "markdown",
   "metadata": {}
  },
  {
   "cell_type": "code",
   "execution_count": 128,
   "metadata": {},
   "outputs": [
    {
     "output_type": "stream",
     "name": "stdout",
     "text": [
      "Gurobi Optimizer version 9.0.3 build v9.0.3rc0 (linux64)\n",
      "Optimize a model with 48 rows, 24 columns and 612 nonzeros\n",
      "Model fingerprint: 0xa22b8a47\n",
      "Variable types: 0 continuous, 24 integer (24 binary)\n",
      "Coefficient statistics:\n",
      "  Matrix range     [1e+00, 4e+08]\n",
      "  Objective range  [3e+08, 4e+08]\n",
      "  Bounds range     [1e+00, 1e+00]\n",
      "  RHS range        [1e+01, 3e+09]\n",
      "Warning: Model contains large matrix coefficients\n",
      "Warning: Model contains large rhs\n",
      "         Consider reformulating model or setting NumericFocus parameter\n",
      "         to avoid numerical issues.\n",
      "Found heuristic solution: objective 3.221291e+09\n",
      "Presolve time: 0.00s\n",
      "Presolved: 48 rows, 24 columns, 612 nonzeros\n",
      "Variable types: 0 continuous, 24 integer (24 binary)\n",
      "\n",
      "Root relaxation: objective 3.355443e+09, 10 iterations, 0.00 seconds\n",
      "\n",
      "    Nodes    |    Current Node    |     Objective Bounds      |     Work\n",
      " Expl Unexpl |  Obj  Depth IntInf | Incumbent    BestBd   Gap | It/Node Time\n",
      "\n",
      "     0     0 3.3554e+09    0    1 3.2213e+09 3.3554e+09  4.16%     -    0s\n",
      "H    0     0                    3.354398e+09 3.3554e+09  0.03%     -    0s\n",
      "     0     0 3.3554e+09    0    1 3.3544e+09 3.3554e+09  0.03%     -    0s\n",
      "     0     0 3.3554e+09    0    3 3.3544e+09 3.3554e+09  0.03%     -    0s\n",
      "*    0     0               0    3.355410e+09 3.3554e+09  0.00%     -    0s\n",
      "\n",
      "Cutting planes:\n",
      "  Cover: 3\n",
      "\n",
      "Explored 1 nodes (21 simplex iterations) in 0.01 seconds\n",
      "Thread count was 16 (of 16 available processors)\n",
      "\n",
      "Solution count 3: 3.35541e+09 3.3544e+09 3.22129e+09 \n",
      "\n",
      "Optimal solution found (tolerance 1.00e-04)\n",
      "Best objective 3.355410444000e+09, best bound 3.355410444000e+09, gap 0.0000%\n"
     ]
    }
   ],
   "source": [
    "def run_model_with_new_constraints(indexes_list):\n",
    "    # objects\n",
    "    n = 24 \n",
    "\n",
    "    # define k\n",
    "    def k(v):\n",
    "        return np.floor(np.log(2*v))\n",
    "\n",
    "    # weight\n",
    "    w = [2**(k(n) + n + 1) + 2**(k(n) + j) + 1 for j in range(1,n+1)]\n",
    "\n",
    "    # value/profit\n",
    "    r = [2**(k(n) + n + 1) + 2**(k(n) + j) + 1 for j in range(1,n+1)]\n",
    "\n",
    "    # kanpsack's capacity\n",
    "    b = sum([np.floor(w[j]/2) for j in range(n)])\n",
    "\n",
    "    # defining the model\n",
    "    m = Model('knapsack')\n",
    "\n",
    "    # Binary variables\n",
    "    x = m.addVars(range(n), name=\"x\", vtype=GRB.BINARY)\n",
    "\n",
    "    # adding new constraints\n",
    "    for index_list in indexes_list:\n",
    "        m.addConstr(quicksum(x[j] for j in index_list) <= len(index_list)-1)\n",
    "\n",
    "    # Capacity constraints\n",
    "    m.addConstr(quicksum(w[j]*x[j] for j in range(n)) <= b)\n",
    "\n",
    "    # Objective\n",
    "    obj = quicksum(r[j]*x[j] for j in range(n))\n",
    "    m.setObjective(obj, GRB.MAXIMIZE)\n",
    "\n",
    "    #optimize\n",
    "    m.optimize()\n",
    "    return m\n",
    "\n",
    "m = run_model_with_new_constraints([sorted(x) for x in new_indexes.values()])"
   ]
  },
  {
   "cell_type": "code",
   "execution_count": 129,
   "metadata": {},
   "outputs": [
    {
     "output_type": "execute_result",
     "data": {
      "text/plain": [
       "0.01208806037902832"
      ]
     },
     "metadata": {},
     "execution_count": 129
    }
   ],
   "source": [
    "original_runtime - m.Runtime"
   ]
  },
  {
   "source": [
    "we can see the runtime has been reduced in 0.01208806037902832 seconds, however, this can be improved, perhaps we should use significantly less constraints, maybe we can choose a few hand picked constraints which should reduce our runtime more than just forcefully adding 41 new constraints to the model, which, sure, improves our runtime but seems to be less than ideal"
   ],
   "cell_type": "markdown",
   "metadata": {}
  },
  {
   "cell_type": "code",
   "execution_count": 146,
   "metadata": {},
   "outputs": [],
   "source": [
    "# keeping ONLY constraints which reduce the runtime significantly\n",
    "kept_indexes = [idx for idx,model in models.items() if model['rt'] < original_runtime/2.5]\n",
    "\n",
    "# filtering indexes\n",
    "new_indexes = {key:val for key,val in indexes.items() if key in kept_indexes}"
   ]
  },
  {
   "cell_type": "code",
   "execution_count": 156,
   "metadata": {},
   "outputs": [
    {
     "output_type": "execute_result",
     "data": {
      "text/plain": [
       "{23: [1, 6, 7, 8, 9, 11, 12, 16, 18, 19, 22, 23],\n",
       " 34: [2, 7, 9, 11, 13, 15, 16, 17, 18, 19, 21, 22, 23],\n",
       " 35: [0, 1, 3, 4, 6, 9, 12, 14, 16, 17, 21, 23],\n",
       " 36: [1, 2, 4, 5, 7, 8, 9, 12, 16, 21, 22, 23],\n",
       " 38: [1, 4, 6, 7, 8, 10, 11, 12, 15, 20, 21, 23],\n",
       " 39: [0, 1, 6, 7, 9, 10, 12, 13, 17, 21, 22, 23],\n",
       " 41: [0, 1, 3, 6, 7, 10, 12, 13, 14, 21, 22, 23]}"
      ]
     },
     "metadata": {},
     "execution_count": 156
    }
   ],
   "source": [
    "new_indexes # we pick the inequality containing the following xjs"
   ]
  },
  {
   "source": [
    "#### which corresponds to the following constraints:\n",
    "\n",
    "$w_{1} + w_{6} + w_{7} + w_{8} + w_{9} + w_{11} + w_{12} + w_{16} + w_{18} + w_{19} + w_{22} + w_{23} \\leq 11$ \n",
    "\n",
    "$w_{2} + w_{7} + w_{9} + w_{11} + w_{13} + w_{15} + w_{16} + w_{17} + w_{18} + w_{19} + w_{21} + w_{22} + w_{23} \\leq 12$ \n",
    "\n",
    "$w_{0} + w_{1} + w_{3} + w_{4} + w_{6} + w_{9} + w_{12} + w_{14} + w_{16} + w_{17} + w_{21} + w_{23} \\leq 11$ \n",
    "\n",
    "$w_{1} + w_{2} + w_{4} + w_{5} + w_{7} + w_{8} + w_{9} + w_{12} + w_{16} + w_{21} + w_{22} + w_{23} \\leq 11$ \n",
    "\n",
    "$w_{1} + w_{4} + w_{6} + w_{7} + w_{8} + w_{10} + w_{11} + w_{12} + w_{15} + w_{20} + w_{21} + w_{23} \\leq 11$ \n",
    "\n",
    "$w_{0} + w_{1} + w_{6} + w_{7} + w_{9} + w_{10} + w_{12} + w_{13} + w_{17} + w_{21} + w_{22} + w_{23} \\leq 11$ \n",
    "\n",
    "$w_{0} + w_{1} + w_{3} + w_{6} + w_{7} + w_{10} + w_{12} + w_{13} + w_{14} + w_{21} + w_{22} + w_{23} \\leq 11$\n",
    "\n"
   ],
   "cell_type": "markdown",
   "metadata": {}
  },
  {
   "cell_type": "code",
   "execution_count": 148,
   "metadata": {},
   "outputs": [
    {
     "output_type": "stream",
     "name": "stdout",
     "text": [
      "Gurobi Optimizer version 9.0.3 build v9.0.3rc0 (linux64)\n",
      "Optimize a model with 8 rows, 24 columns and 109 nonzeros\n",
      "Model fingerprint: 0xd1e53754\n",
      "Variable types: 0 continuous, 24 integer (24 binary)\n",
      "Coefficient statistics:\n",
      "  Matrix range     [1e+00, 4e+08]\n",
      "  Objective range  [3e+08, 4e+08]\n",
      "  Bounds range     [1e+00, 1e+00]\n",
      "  RHS range        [1e+01, 3e+09]\n",
      "Warning: Model contains large matrix coefficients\n",
      "Warning: Model contains large rhs\n",
      "         Consider reformulating model or setting NumericFocus parameter\n",
      "         to avoid numerical issues.\n",
      "Found heuristic solution: objective 3.221291e+09\n",
      "Presolve time: 0.00s\n",
      "Presolved: 8 rows, 24 columns, 109 nonzeros\n",
      "Variable types: 0 continuous, 24 integer (24 binary)\n",
      "\n",
      "Root relaxation: objective 3.355443e+09, 11 iterations, 0.00 seconds\n",
      "\n",
      "    Nodes    |    Current Node    |     Objective Bounds      |     Work\n",
      " Expl Unexpl |  Obj  Depth IntInf | Incumbent    BestBd   Gap | It/Node Time\n",
      "\n",
      "     0     0 3.3554e+09    0    1 3.2213e+09 3.3554e+09  4.16%     -    0s\n",
      "H    0     0                    3.304523e+09 3.3554e+09  1.54%     -    0s\n",
      "H    0     0                    3.354854e+09 3.3554e+09  0.02%     -    0s\n",
      "*    0     0               0    3.355410e+09 3.3554e+09  0.00%     -    0s\n",
      "\n",
      "Cutting planes:\n",
      "  Cover: 1\n",
      "\n",
      "Explored 1 nodes (15 simplex iterations) in 0.01 seconds\n",
      "Thread count was 16 (of 16 available processors)\n",
      "\n",
      "Solution count 4: 3.35541e+09 3.35485e+09 3.30452e+09 3.22129e+09 \n",
      "\n",
      "Optimal solution found (tolerance 1.00e-04)\n",
      "Best objective 3.355410444000e+09, best bound 3.355410444000e+09, gap 0.0000%\n"
     ]
    }
   ],
   "source": [
    "m = run_model_with_new_constraints([sorted(x) for x in new_indexes.values()])"
   ]
  },
  {
   "cell_type": "code",
   "execution_count": 149,
   "metadata": {},
   "outputs": [
    {
     "output_type": "execute_result",
     "data": {
      "text/plain": [
       "0.013563156127929688"
      ]
     },
     "metadata": {},
     "execution_count": 149
    }
   ],
   "source": [
    "original_runtime - m.Runtime"
   ]
  },
  {
   "cell_type": "code",
   "execution_count": 153,
   "metadata": {},
   "outputs": [
    {
     "output_type": "execute_result",
     "data": {
      "text/plain": [
       "1.1019680768634743"
      ]
     },
     "metadata": {},
     "execution_count": 153
    }
   ],
   "source": [
    "(original_runtime - m.Runtime)/(original_runtime-0.01208806037902832)"
   ]
  },
  {
   "source": [
    "We can see an improvement of about 0.013563156127929688 seconds vs the model we first ran. Which compared to using all 47 found constraints that improve our time is about a 10% improvement and vs our original model we see an improvement of about 125.2%, so about twice as fast."
   ],
   "cell_type": "markdown",
   "metadata": {}
  },
  {
   "cell_type": "code",
   "execution_count": 119,
   "metadata": {},
   "outputs": [
    {
     "output_type": "stream",
     "name": "stdout",
     "text": [
      "1.0\n0.00957798957824707\n3355410444.0\n"
     ]
    }
   ],
   "source": [
    "print(m.NodeCount)\n",
    "print(m.Runtime)\n",
    "print(m.ObjVal)"
   ]
  },
  {
   "source": [
    "### - Our optimal solution (using a tolerance of $1\\times 10^{-4}$) is  ~ $3.355410444 \\times 10^{9}$\n",
    "### - The solution time is 0.00957798957824707 seconds\n",
    "### - The number of nodes explored is of 1 node"
   ],
   "cell_type": "markdown",
   "metadata": {}
  },
  {
   "cell_type": "code",
   "execution_count": null,
   "metadata": {},
   "outputs": [],
   "source": []
  }
 ]
}