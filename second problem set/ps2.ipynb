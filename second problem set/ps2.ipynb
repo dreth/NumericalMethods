{
 "metadata": {
  "language_info": {
   "codemirror_mode": {
    "name": "ipython",
    "version": 3
   },
   "file_extension": ".py",
   "mimetype": "text/x-python",
   "name": "python",
   "nbconvert_exporter": "python",
   "pygments_lexer": "ipython3",
   "version": "3.7.8-final"
  },
  "orig_nbformat": 2,
  "kernelspec": {
   "name": "Python 3.7.8 64-bit ('nummethods': conda)",
   "display_name": "Python 3.7.8 64-bit ('nummethods': conda)",
   "metadata": {
    "interpreter": {
     "hash": "44a90b8c0c2b56e1b7c7e9c11eeb3509ad2ed5005236e2a04392aa8b65363be8"
    }
   }
  }
 },
 "nbformat": 4,
 "nbformat_minor": 2,
 "cells": [
  {
   "source": [
    "## Daniel Alonso, UID: 100444499"
   ],
   "cell_type": "markdown",
   "metadata": {}
  },
  {
   "source": [
    "<img src='./images/1.png'>"
   ],
   "cell_type": "markdown",
   "metadata": {}
  },
  {
   "source": [
    "<img src='./images/2.png'>"
   ],
   "cell_type": "markdown",
   "metadata": {}
  },
  {
   "source": [
    "## Problem 1-a"
   ],
   "cell_type": "markdown",
   "metadata": {}
  },
  {
   "source": [
    "Let $i$ be the source of a movement and $j$ be the destination\n",
    "\n",
    "Let $x$ be movements from one node to another, where $x_{i,j}$ represents the movement from node $i$ to node $j$"
   ],
   "cell_type": "markdown",
   "metadata": {}
  },
  {
   "source": [
    "Integer optimization formulation:\n",
    "\n",
    "minimize $44x_{1,2} + 18x_{1,3} + 85x_{1,4} + 17x_{2,5} + 13x_{2,6} + 55x_{3,5} + 53x_{3,6} + 7x_{3,7} + 26x_{4,6} + 66x_{4,7} + 6x_{5,8} + 7x_{5,9} + 26x_{6,8} + 66x_{6,9} + 26x_{6,10} + 6x_{7,9} + 60x_{7,10} + 58x_{8,11} + 70x_{9,11} + 27x_{10,11}$\n",
    "\n",
    "subject to:\n",
    "\n",
    "$x_{1,2} + x_{1,3} + x_{1,4} = 1$\n",
    "\n",
    "$x_{1,2} - x_{2,5} - x_{2,6} = 0 $\n",
    "\n",
    "$x_{1,3} - x_{3,5} - x_{3,6} - x_{3,7} = 0$\n",
    "\n",
    "$x_{1,4} - x_{4,6} - x_{4,7} = 0$\n",
    "\n",
    "$x_{2,5} + x_{3,5} - x_{5,8} - x_{5,9} = 0$\n",
    "\n",
    "$x_{2,6} + x_{3,6} + x_{4,6} - x_{6,8} - x_{6,9} - x_{6,10} = 0$\n",
    "\n",
    "$x_{3,7} + x_{4,7} - x_{7,9} - x_{7,10} = 0$\n",
    "\n",
    "$x_{5,8} + x_{6,8} - x_{8,11} = 0$\n",
    "\n",
    "$x_{5,9} + x_{6,9} + x_{7,9} - x_{9,11} = 0$\n",
    "\n",
    "$x_{6,10} + x_{7,10} - x_{10,11} = 0$\n",
    "\n",
    "$- x_{8,11} - x_{9,11} - x_{10,11} = -1$"
   ],
   "cell_type": "markdown",
   "metadata": {}
  },
  {
   "source": [
    "The integer optimization formulation (in my opinion) is more appropriate. It not only will provide the optimal integer solution but it also describes the problem better and more accurately."
   ],
   "cell_type": "markdown",
   "metadata": {}
  },
  {
   "source": [
    "## Problem 1-b"
   ],
   "cell_type": "markdown",
   "metadata": {}
  },
  {
   "cell_type": "code",
   "execution_count": 18,
   "metadata": {},
   "outputs": [],
   "source": [
    "# Gurobi-python implementation\n",
    "from gurobipy import *"
   ]
  },
  {
   "cell_type": "code",
   "execution_count": 22,
   "metadata": {},
   "outputs": [
    {
     "output_type": "stream",
     "name": "stdout",
     "text": [
      "Gurobi Optimizer version 9.0.3 build v9.0.3rc0 (linux64)\n",
      "Optimize a model with 11 rows, 20 columns and 40 nonzeros\n",
      "Model fingerprint: 0xd11ad6da\n",
      "Coefficient statistics:\n",
      "  Matrix range     [1e+00, 1e+00]\n",
      "  Objective range  [6e+00, 8e+01]\n",
      "  Bounds range     [0e+00, 0e+00]\n",
      "  RHS range        [1e+00, 1e+00]\n",
      "Presolve removed 6 rows and 6 columns\n",
      "Presolve time: 0.02s\n",
      "Presolved: 5 rows, 14 columns, 28 nonzeros\n",
      "\n",
      "Iteration    Objective       Primal Inf.    Dual Inf.      Time\n",
      "       0    2.5000000e+01   2.000000e+00   0.000000e+00      0s\n",
      "       2    1.0100000e+02   0.000000e+00   0.000000e+00      0s\n",
      "\n",
      "Solved in 2 iterations and 0.02 seconds\n",
      "Optimal objective  1.010000000e+02\n"
     ]
    }
   ],
   "source": [
    "nodes, supply = multidict({\n",
    "         1: 1,\n",
    "         2: 0,\n",
    "         3: 0,\n",
    "         4: 0,\n",
    "         5: 0,\n",
    "         6: 0,\n",
    "         7: 0,\n",
    "         8: 0,\n",
    "         9: 0,\n",
    "         10: 0,\n",
    "         11: -1})\n",
    " \n",
    "arcs, distance = multidict({\n",
    "    (1, 2): 44,\n",
    "    (1, 3): 18,\n",
    "    (1, 4): 85,\n",
    "    (2, 5): 17,\n",
    "    (2, 6): 13,\n",
    "    (3, 5): 55,\n",
    "    (3, 6): 53,\n",
    "    (3, 7): 7,\n",
    "    (4, 6): 26,\n",
    "    (4, 7): 66,\n",
    "    (5, 8): 6,\n",
    "    (5, 9): 7,\n",
    "    (6, 8): 26,\n",
    "    (6, 9): 66,\n",
    "    (6, 10): 26,\n",
    "    (7, 9): 6,\n",
    "    (7, 10): 60,\n",
    "    (8, 11): 58,\n",
    "    (9, 11): 70,\n",
    "    (10, 11): 27})\n",
    "\n",
    "num_nodes = 11\n",
    "\n",
    "# Optimization model\n",
    "m = Model('shortest_path')\n",
    "x = m.addVars(arcs, obj=distance, name=\"dist\")\n",
    "m.addConstrs((x.sum(i, '*') - x.sum('*', i) == supply[i] for i in nodes), \"supply\")\n",
    "m.ModelSense = GRB.MINIMIZE\n",
    "m.optimize()\n"
   ]
  },
  {
   "cell_type": "code",
   "execution_count": 29,
   "metadata": {},
   "outputs": [
    {
     "output_type": "stream",
     "name": "stdout",
     "text": [
      "x[(1, 2)] = 0.0\nx[(1, 3)] = 1.0\nx[(1, 4)] = 0.0\nx[(2, 5)] = 0.0\nx[(2, 6)] = 0.0\nx[(3, 5)] = 0.0\nx[(3, 6)] = 0.0\nx[(3, 7)] = 1.0\nx[(4, 6)] = 0.0\nx[(4, 7)] = 0.0\nx[(5, 8)] = 0.0\nx[(5, 9)] = 0.0\nx[(6, 8)] = 0.0\nx[(6, 9)] = 0.0\nx[(6, 10)] = 0.0\nx[(7, 9)] = 1.0\nx[(7, 10)] = 0.0\nx[(8, 11)] = 0.0\nx[(9, 11)] = 1.0\nx[(10, 11)] = 0.0\n"
     ]
    }
   ],
   "source": [
    "# Printing solution\n",
    "# Variable information including sensitivity information\n",
    "varnames = [f\"x[{tuple(x)}]\" for x in tuple(arcs)]\n",
    "for var, v in zip(varnames,m.getVars()):\n",
    "    print(f\"{var} = {v.X}\")"
   ]
  },
  {
   "source": [
    "We can clearly see the shortest route from node 1 to node 11 is the following:\n",
    "\n",
    "$x_{1,3} \\rightarrow x_{3,7} \\rightarrow x_{7,9} \\rightarrow x_{9,11}$"
   ],
   "cell_type": "markdown",
   "metadata": {}
  },
  {
   "source": [
    "<img src='./images/path.png'>"
   ],
   "cell_type": "markdown",
   "metadata": {}
  },
  {
   "source": [
    "## Problem 1-c"
   ],
   "cell_type": "markdown",
   "metadata": {}
  },
  {
   "cell_type": "code",
   "execution_count": 36,
   "metadata": {},
   "outputs": [
    {
     "output_type": "stream",
     "name": "stdout",
     "text": [
      "supply[1] : shadow price = 48\nsupply[2] : shadow price = 4\nsupply[3] : shadow price = 30\nsupply[4] : shadow price = -37\nsupply[5] : shadow price = 0\nsupply[6] : shadow price = 0\nsupply[7] : shadow price = 23\nsupply[8] : shadow price = 5\nsupply[9] : shadow price = 17\nsupply[10] : shadow price = -26\nsupply[11] : shadow price = -53\n"
     ]
    }
   ],
   "source": [
    "# Optimal shadow prices\n",
    "for n,c in enumerate(m.getConstrs()):\n",
    "    print(f\"{c.ConstrName} : shadow price = {int(c.Pi)}\")"
   ]
  },
  {
   "cell_type": "code",
   "execution_count": 37,
   "metadata": {},
   "outputs": [
    {
     "output_type": "stream",
     "name": "stdout",
     "text": [
      "x[(1, 2)] = 0, reduced cost = 0.00,\nx[(1, 3)] = 1, reduced cost = 0.00,\nx[(1, 4)] = 0, reduced cost = 0.00,\nx[(2, 5)] = 0, reduced cost = 13.00,\nx[(2, 6)] = 0, reduced cost = 9.00,\nx[(3, 5)] = 0, reduced cost = 25.00,\nx[(3, 6)] = 0, reduced cost = 23.00,\nx[(3, 7)] = 1, reduced cost = 0.00,\nx[(4, 6)] = 0, reduced cost = 63.00,\nx[(4, 7)] = 0, reduced cost = 126.00,\nx[(5, 8)] = 0, reduced cost = 11.00,\nx[(5, 9)] = 0, reduced cost = 24.00,\nx[(6, 8)] = 0, reduced cost = 31.00,\nx[(6, 9)] = 0, reduced cost = 83.00,\nx[(6, 10)] = 0, reduced cost = 0.00,\nx[(7, 9)] = 1, reduced cost = 0.00,\nx[(7, 10)] = 0, reduced cost = 11.00,\nx[(8, 11)] = 0, reduced cost = 0.00,\nx[(9, 11)] = 1, reduced cost = 0.00,\nx[(10, 11)] = 0, reduced cost = 0.00,\n"
     ]
    }
   ],
   "source": [
    "# Printing solution\n",
    "# Variable information including sensitivity information\n",
    "varnames = [f\"x[{tuple(x)}]\" for x in tuple(arcs)]\n",
    "for var, v in zip(varnames,m.getVars()):\n",
    "    print(f\"{var} = {int(v.X)}, reduced cost = {abs(int(v.RC)):.2f},\")"
   ]
  },
  {
   "source": [
    "<img src='./images/3.png'>"
   ],
   "cell_type": "markdown",
   "metadata": {}
  },
  {
   "source": [
    "## Problem 2-a"
   ],
   "cell_type": "markdown",
   "metadata": {}
  },
  {
   "cell_type": "code",
   "execution_count": null,
   "metadata": {},
   "outputs": [],
   "source": []
  },
  {
   "source": [
    "## Problem 2-b"
   ],
   "cell_type": "markdown",
   "metadata": {}
  },
  {
   "cell_type": "code",
   "execution_count": 16,
   "metadata": {},
   "outputs": [],
   "source": [
    "years = range(0,3)\n",
    "projects = range(0,4)"
   ]
  },
  {
   "cell_type": "code",
   "execution_count": null,
   "metadata": {},
   "outputs": [],
   "source": [
    "# primal objective coefficients\n",
    "r_coeff = [44, 18, 85, 17, 13, 55, 53, 7, 26, 66, 6, 7, 26, 66, 26, 6, 60, 58, 70, 27] \n",
    "\n",
    "# left-hand side (LHS) coefficients (matrix A)\n",
    "A_coeff = [[1, 1, 1],\n",
    "           [1, -1, -1],\n",
    "           [1, -1, -1, -1],\n",
    "           [1, -1, -1],\n",
    "           [1, 1, -1, -1],\n",
    "           [1, 1, 1, -1, -1, -1],\n",
    "           [1, 1, -1, -1],\n",
    "           [1, 1, -1],\n",
    "           [1, 1, 1, -1],\n",
    "           [1, 1, -1],\n",
    "           [1, 1, 1]]\n",
    "\n",
    "# right-hand side (RHS) coefficients\n",
    "b_coeff = [1, 0, 0, 0, 0, 0, 0, 0, 0, 0, 1]\n",
    "\n",
    "r = {j : r_coeff[j] for j in projects}\n",
    "\n",
    "A = {i : {j : A_coeff[i][j] for j in projects} \n",
    "    for i in years}\n",
    "\n",
    "b = {i : b_coeff[i] for i in years}\n",
    "\n",
    "model = Model('projectsip1')\n",
    "\n",
    "x = model.addVars(projects, name=\"x\", vtype=GRB.BINARY)\n",
    "\n",
    "# Capacity constraints\n",
    "model.addConstrs((quicksum(A[i][j] * x[j] for j in projects)\n",
    "                           <= b[i] \n",
    "                            for i in years))\n",
    "\n",
    "# Variable upper bound constraints\n",
    "model.addConstrs((x[j] <= 1 for j in projects))\n",
    "\n",
    "# Objective\n",
    "obj = quicksum(r[j] * x[j] for j in projects)\n",
    "\n",
    "model.setObjective(obj, GRB.MINIMIZE)\n",
    "\n",
    "# disable Presolve\n",
    "model.setParam(GRB.Param.Presolve, 0)\n",
    "# disable Heuristics\n",
    "model.setParam(GRB.Param.Heuristics, 0)\n",
    "# disable Cuts\n",
    "model.setParam(GRB.Param.Cuts, 0)\n",
    "        \n",
    "model.optimize()\n",
    "\n",
    "# Display solution (print the name of each variable and the solution value)\n",
    "print('--------------------------------')\n",
    "print('\\nOptimal solution:\\n')\n",
    "\n",
    "print('Variable Information:')\n",
    "                 \n",
    "for v in model.getVars():\n",
    "    print(\"%s %s %8.2f\" % \n",
    "              (v.Varname, \"=\", v.X))\n",
    "    \n",
    "    print(\" \")\n",
    "        \n",
    "print('\\nOptimal objective value: %g' % model.objVal)\n"
   ]
  },
  {
   "source": [
    "<img src='./images/4.png'>"
   ],
   "cell_type": "markdown",
   "metadata": {}
  },
  {
   "source": [
    "## Problem 3-a"
   ],
   "cell_type": "markdown",
   "metadata": {}
  },
  {
   "cell_type": "code",
   "execution_count": null,
   "metadata": {},
   "outputs": [],
   "source": []
  },
  {
   "source": [
    "## Problem 3-b"
   ],
   "cell_type": "markdown",
   "metadata": {}
  },
  {
   "cell_type": "code",
   "execution_count": null,
   "metadata": {},
   "outputs": [],
   "source": []
  }
 ]
}