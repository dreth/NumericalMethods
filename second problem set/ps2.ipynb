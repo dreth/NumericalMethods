{
 "metadata": {
  "language_info": {
   "codemirror_mode": {
    "name": "ipython",
    "version": 3
   },
   "file_extension": ".py",
   "mimetype": "text/x-python",
   "name": "python",
   "nbconvert_exporter": "python",
   "pygments_lexer": "ipython3",
   "version": "3.7.8-final"
  },
  "orig_nbformat": 2,
  "kernelspec": {
   "name": "Python 3.7.8 64-bit ('nummethods': conda)",
   "display_name": "Python 3.7.8 64-bit ('nummethods': conda)",
   "metadata": {
    "interpreter": {
     "hash": "44a90b8c0c2b56e1b7c7e9c11eeb3509ad2ed5005236e2a04392aa8b65363be8"
    }
   }
  }
 },
 "nbformat": 4,
 "nbformat_minor": 2,
 "cells": [
  {
   "source": [
    "## Daniel Alonso, UID: 100444499"
   ],
   "cell_type": "markdown",
   "metadata": {}
  },
  {
   "source": [
    "<img src='./images/1.png'>"
   ],
   "cell_type": "markdown",
   "metadata": {}
  },
  {
   "source": [
    "<img src='./images/2.png'>"
   ],
   "cell_type": "markdown",
   "metadata": {}
  },
  {
   "source": [
    "## Problem 1-a"
   ],
   "cell_type": "markdown",
   "metadata": {}
  },
  {
   "source": [
    "Let $i$ be the source of a movement and $j$ be the destination\n",
    "\n",
    "Let $x$ be movements from one node to another, where $x_{i,j}$ represents the movement from node $i$ to node $j$"
   ],
   "cell_type": "markdown",
   "metadata": {}
  },
  {
   "source": [
    "Integer optimization formulation:\n",
    "\n",
    "minimize $44x_{1,2} + 18x_{1,3} + 85x_{1,4} + 17x_{2,5} + 13x_{2,6} + 55x_{3,5} + 53x_{3,6} + 7x_{3,7} + 26x_{4,6} + 66x_{4,7} + 6x_{5,8} + 7x_{5,9} + 26x_{6,8} + 66x_{6,9} + 26x_{6,10} + 6x_{7,9} + 60x_{7,10} + 58x_{8,11} + 70x_{9,11} + 27x_{10,11}$\n",
    "\n",
    "subject to:\n",
    "\n",
    "$x_{1,2} + x_{1,3} + x_{1,4} = 1$\n",
    "\n",
    "$x_{1,2} - x_{2,5} - x_{2,6} = 0 $\n",
    "\n",
    "$x_{1,3} - x_{3,5} - x_{3,6} - x_{3,7} = 0$\n",
    "\n",
    "$x_{1,4} - x_{4,6} - x_{4,7} = 0$\n",
    "\n",
    "$x_{2,5} + x_{3,5} - x_{5,8} - x_{5,9} = 0$\n",
    "\n",
    "$x_{2,6} + x_{3,6} + x_{4,6} - x_{6,8} - x_{6,9} - x_{6,10} = 0$\n",
    "\n",
    "$x_{3,7} + x_{4,7} - x_{7,9} - x_{7,10} = 0$\n",
    "\n",
    "$x_{5,8} + x_{6,8} - x_{8,11} = 0$\n",
    "\n",
    "$x_{5,9} + x_{6,9} + x_{7,9} - x_{9,11} = 0$\n",
    "\n",
    "$x_{6,10} + x_{7,10} - x_{10,11} = 0$\n",
    "\n",
    "$- x_{8,11} - x_{9,11} - x_{10,11} = -1$"
   ],
   "cell_type": "markdown",
   "metadata": {}
  },
  {
   "source": [
    "The integer optimization formulation (in my opinion) is more appropriate. It not only will provide the optimal integer solution but it also describes the problem better and more accurately.\n",
    "\n",
    "Using ordinary linear optimization forces us to estimate values and would make the process more convoluted even though the integer optimization problem could, perhaps be more computationally challenging depending on the size of the graph. "
   ],
   "cell_type": "markdown",
   "metadata": {}
  },
  {
   "source": [
    "## Problem 1-b"
   ],
   "cell_type": "markdown",
   "metadata": {}
  },
  {
   "cell_type": "code",
   "execution_count": null,
   "metadata": {},
   "outputs": [],
   "source": [
    "# Gurobi-python implementation\n",
    "from gurobipy import *\n",
    "import pandas as pd\n",
    "import seaborn as sns\n",
    "from collections import defaultdict\n",
    "import numpy as np\n",
    "import matplotlib.pyplot as plt"
   ]
  },
  {
   "cell_type": "code",
   "execution_count": null,
   "metadata": {},
   "outputs": [],
   "source": [
    "nodes, supply = multidict({\n",
    "         1: 1,\n",
    "         2: 0,\n",
    "         3: 0,\n",
    "         4: 0,\n",
    "         5: 0,\n",
    "         6: 0,\n",
    "         7: 0,\n",
    "         8: 0,\n",
    "         9: 0,\n",
    "         10: 0,\n",
    "         11: -1})\n",
    " \n",
    "arcs, distance = multidict({\n",
    "    (1, 2): 44,\n",
    "    (1, 3): 18,\n",
    "    (1, 4): 85,\n",
    "    (2, 5): 17,\n",
    "    (2, 6): 13,\n",
    "    (3, 5): 55,\n",
    "    (3, 6): 53,\n",
    "    (3, 7): 7,\n",
    "    (4, 6): 26,\n",
    "    (4, 7): 66,\n",
    "    (5, 8): 6,\n",
    "    (5, 9): 7,\n",
    "    (6, 8): 26,\n",
    "    (6, 9): 66,\n",
    "    (6, 10): 26,\n",
    "    (7, 9): 6,\n",
    "    (7, 10): 60,\n",
    "    (8, 11): 58,\n",
    "    (9, 11): 70,\n",
    "    (10, 11): 27})\n",
    "\n",
    "num_nodes = 11\n",
    "\n",
    "# Optimization model\n",
    "m = Model('shortest_path')\n",
    "x = m.addVars(arcs, obj=distance, name=\"dist\")\n",
    "m.addConstrs((x.sum(i, '*') - x.sum('*', i) == supply[i] for i in nodes), \"supply\")\n",
    "m.ModelSense = GRB.MINIMIZE\n",
    "m.optimize()\n"
   ]
  },
  {
   "cell_type": "code",
   "execution_count": null,
   "metadata": {},
   "outputs": [],
   "source": [
    "# Printing solution\n",
    "# Variable information including sensitivity information\n",
    "varnames = [f\"x[{tuple(x)}]\" for x in tuple(arcs)]\n",
    "for var, v in zip(varnames,m.getVars()):\n",
    "    print(f\"{var} = {v.X}\")"
   ]
  },
  {
   "source": [
    "We can clearly see the shortest route from node 1 to node 11 is the following:\n",
    "\n",
    "$x_{1,3} \\rightarrow x_{3,7} \\rightarrow x_{7,9} \\rightarrow x_{9,11}$"
   ],
   "cell_type": "markdown",
   "metadata": {}
  },
  {
   "source": [
    "<img src='./images/path.png'>"
   ],
   "cell_type": "markdown",
   "metadata": {}
  },
  {
   "source": [
    "## Problem 1-c"
   ],
   "cell_type": "markdown",
   "metadata": {}
  },
  {
   "cell_type": "code",
   "execution_count": null,
   "metadata": {},
   "outputs": [],
   "source": [
    "# Optimal shadow prices\n",
    "for n,c in enumerate(m.getConstrs()):\n",
    "    print(f\"{c.ConstrName} : shadow price = {int(c.Pi)}\")"
   ]
  },
  {
   "cell_type": "code",
   "execution_count": null,
   "metadata": {},
   "outputs": [],
   "source": [
    "# Printing solution\n",
    "# Variable information including sensitivity information\n",
    "varnames = [f\"x[{tuple(x)}]\" for x in tuple(arcs)]\n",
    "for var, v in zip(varnames,m.getVars()):\n",
    "    print(f\"{var} = {int(v.X)}, reduced cost = {abs(int(v.RC)):.2f}\")"
   ]
  },
  {
   "source": [
    "While very interesting, there might not be a ton to do with the shadow prices or reduced costs as they might impose changes on a seemingly impossible to change graph. Assuming, obviously, that stuff we move always comes from node 1, then in order to effectively use the information we get from the shadow prices or reduced costs we would have to modify the graph to see how the route between node 1 and node 11 changes.\n",
    "\n",
    "Distances between locations rarely ever change, therefore the information isn't particularly practical.\n",
    "\n",
    "We could maybe impose a different scenario where our starting node is different to node 1 and we could, perhaps, obtain a different path."
   ],
   "cell_type": "markdown",
   "metadata": {}
  },
  {
   "source": [
    "Maybe we can experiment a little bit with the reduced costs:"
   ],
   "cell_type": "markdown",
   "metadata": {}
  },
  {
   "cell_type": "code",
   "execution_count": null,
   "metadata": {},
   "outputs": [],
   "source": [
    "# constructing a loop to modify the distances in an unrealistic manner to see how routes would change using our reduced costs\n",
    "sols = {k:{s:0 for s in tuple(arcs)} for k in tuple(arcs)}\n",
    "orig_distance = distance.copy()\n",
    "for d, red_cost in zip(distance,[v.RC for v in m.getVars()]):\n",
    "    distance = orig_distance.copy()\n",
    "    if red_cost < distance[d]:\n",
    "        distance[d] -= red_cost\n",
    "\n",
    "        # Optimization model\n",
    "        m = Model('shortest_path')\n",
    "        x = m.addVars(arcs, obj=distance, name=\"dist\")\n",
    "        m.addConstrs((x.sum(i, '*') - x.sum('*', i) == supply[i] for i in nodes), \"supply\")\n",
    "        m.ModelSense = GRB.MINIMIZE\n",
    "        m.optimize()\n",
    "\n",
    "        varnames = [x for x in tuple(arcs)]\n",
    "        for var, v in zip(varnames,m.getVars()):\n",
    "            sols[d][var] = v.X"
   ]
  },
  {
   "cell_type": "code",
   "execution_count": null,
   "metadata": {},
   "outputs": [],
   "source": [
    "# route changes after applying reduced costs that don't make distances negative (as that's not possible)\n",
    "sols2 = {}\n",
    "remove = []\n",
    "for key in sols.keys():\n",
    "    sols2[f\"{key[0]}>{key[1]}\"] = {}\n",
    "for key in sols.keys():\n",
    "    for key2,val in sols[key].items():\n",
    "        sols2[f\"{key[0]}>{key[1]}\"][f\"{key2[0]}>{key2[1]}\"] = val\n",
    "    if pd.DataFrame(sols2)[f\"{key[0]}>{key[1]}\"].sum() == 0:\n",
    "        remove.append(f\"{key[0]}>{key[1]}\")\n",
    "df = pd.DataFrame(sols2)\n",
    "df = df[[x for x in df.columns if x not in remove]]\n",
    "\n",
    "fig = plt.figure(figsize=(20,20))\n",
    "sns.heatmap(df, cbar=False)"
   ]
  },
  {
   "source": [
    "We clearly see, after applying each reduced cost individually that the reduced costs that seem to affect the route are uniquely the reduced cost applied to $x_{2,6}$ and the reduced cost applied to $x_{3,6}$.\n",
    "\n",
    "Of course, different combinations of reduced costs would change the path in different ways, however, we can see that by themselves, these would be the changes to the paths"
   ],
   "cell_type": "markdown",
   "metadata": {}
  },
  {
   "source": [
    "Our heatmap shows in BLACK the nodes that would NOT be taken. while the nodes in white would be taken."
   ],
   "cell_type": "markdown",
   "metadata": {}
  },
  {
   "source": [
    "our shortest path after applying the reduced cost for $x_{2,6}$ would be (basically reducing the distance between node 2 and node 6):\n",
    "\n",
    "$x_{1,2} \\rightarrow x_{2,6} \\rightarrow x_{6,10} \\rightarrow x_{10,11}$\n",
    "\n",
    "our shortest path after applying the reduced cost for $x_{3,6}$ would be (basically reducing the distance between node 2 and node 6):\n",
    "\n",
    "$x_{1,3} \\rightarrow x_{3,6} \\rightarrow x_{6,10} \\rightarrow x_{10,11}$\n",
    "\n",
    "Which are, admittedly, similar paths.\n"
   ],
   "cell_type": "markdown",
   "metadata": {}
  },
  {
   "source": [
    "<img src='./images/3.png'>"
   ],
   "cell_type": "markdown",
   "metadata": {}
  },
  {
   "source": [
    "## Problem 2-a"
   ],
   "cell_type": "markdown",
   "metadata": {}
  },
  {
   "cell_type": "code",
   "execution_count": null,
   "metadata": {},
   "outputs": [],
   "source": []
  },
  {
   "source": [
    "## Problem 2-b"
   ],
   "cell_type": "markdown",
   "metadata": {}
  },
  {
   "cell_type": "code",
   "execution_count": null,
   "metadata": {},
   "outputs": [],
   "source": []
  },
  {
   "source": [
    "<img src='./images/4.png'>"
   ],
   "cell_type": "markdown",
   "metadata": {}
  },
  {
   "source": [
    "## Problem 3-a"
   ],
   "cell_type": "markdown",
   "metadata": {}
  },
  {
   "cell_type": "code",
   "execution_count": 120,
   "metadata": {},
   "outputs": [
    {
     "output_type": "stream",
     "name": "stdout",
     "text": [
      "Gurobi Optimizer version 9.0.3 build v9.0.3rc0 (linux64)\n",
      "Optimize a model with 1 rows, 24 columns and 24 nonzeros\n",
      "Model fingerprint: 0x16d202d5\n",
      "Variable types: 0 continuous, 24 integer (24 binary)\n",
      "Coefficient statistics:\n",
      "  Matrix range     [3e+08, 4e+08]\n",
      "  Objective range  [3e+08, 4e+08]\n",
      "  Bounds range     [1e+00, 1e+00]\n",
      "  RHS range        [3e+09, 3e+09]\n",
      "Warning: Model contains large matrix coefficients\n",
      "Warning: Model contains large rhs\n",
      "         Consider reformulating model or setting NumericFocus parameter\n",
      "         to avoid numerical issues.\n",
      "Found heuristic solution: objective 3.221291e+09\n",
      "Presolve time: 0.00s\n",
      "Presolved: 1 rows, 24 columns, 24 nonzeros\n",
      "Variable types: 0 continuous, 24 integer (24 binary)\n",
      "\n",
      "Root relaxation: objective 3.355443e+09, 5 iterations, 0.00 seconds\n",
      "\n",
      "    Nodes    |    Current Node    |     Objective Bounds      |     Work\n",
      " Expl Unexpl |  Obj  Depth IntInf | Incumbent    BestBd   Gap | It/Node Time\n",
      "\n",
      "     0     0 3.3554e+09    0    1 3.2213e+09 3.3554e+09  4.16%     -    0s\n",
      "H    0     0                    3.353526e+09 3.3554e+09  0.06%     -    0s\n",
      "     0     0 3.3554e+09    0    1 3.3535e+09 3.3554e+09  0.06%     -    0s\n",
      "H    0     0                    3.354935e+09 3.3554e+09  0.02%     -    0s\n",
      "     0     0 3.3554e+09    0    1 3.3549e+09 3.3554e+09  0.02%     -    0s\n",
      "     0     0 3.3554e+09    0    1 3.3549e+09 3.3554e+09  0.02%     -    0s\n",
      "     0     0 3.3554e+09    0    1 3.3549e+09 3.3554e+09  0.02%     -    0s\n",
      "     0     0 3.3554e+09    0    1 3.3549e+09 3.3554e+09  0.02%     -    0s\n",
      "     0     2 3.3554e+09    0    1 3.3549e+09 3.3554e+09  0.02%     -    0s\n",
      "H  455   155                    3.355288e+09 3.3554e+09  0.00%   1.1    0s\n",
      "\n",
      "Cutting planes:\n",
      "  Cover: 7\n",
      "\n",
      "Explored 511 nodes (546 simplex iterations) in 0.02 seconds\n",
      "Thread count was 16 (of 16 available processors)\n",
      "\n",
      "Solution count 4: 3.35529e+09 3.35494e+09 3.35353e+09 3.22129e+09 \n",
      "\n",
      "Optimal solution found (tolerance 1.00e-04)\n",
      "Best objective 3.355287564000e+09, best bound 3.355443192000e+09, gap 0.0046%\n"
     ]
    }
   ],
   "source": [
    "# objects\n",
    "n = 24 \n",
    "\n",
    "# define k\n",
    "def k(v):\n",
    "    return np.floor(np.log(2*v))\n",
    "\n",
    "# weight\n",
    "w = [2**(k(n) + n + 1) + 2**(k(n) + j) + 1 for j in range(1,n+1)]\n",
    "\n",
    "# value/profit\n",
    "r = [2**(k(n) + n + 1) + 2**(k(n) + j) + 1 for j in range(1,n+1)]\n",
    "\n",
    "# kanpsack's capacity\n",
    "b = sum([np.floor(w[j]/2) for j in range(n)])\n",
    "\n",
    "# defining the model\n",
    "m = Model('knapsack')\n",
    "\n",
    "# Binary variables\n",
    "x = m.addVars(range(n), name=\"x\", vtype=GRB.BINARY)\n",
    "\n",
    "# Capacity constraints\n",
    "m.addConstr(quicksum(w[j]*x[j] for j in range(n)) <= b)\n",
    "\n",
    "# Objective\n",
    "obj = quicksum(r[j]*x[j] for j in range(n))\n",
    "\n",
    "m.setObjective(obj, GRB.MAXIMIZE)\n",
    "\n",
    "m.optimize()"
   ]
  },
  {
   "cell_type": "code",
   "execution_count": 121,
   "metadata": {},
   "outputs": [
    {
     "output_type": "stream",
     "name": "stdout",
     "text": [
      "511.0\n0.024396181106567383\n3355287564.0\n"
     ]
    }
   ],
   "source": [
    "print(m.NodeCount)\n",
    "print(m.Runtime)\n",
    "print(m.ObjVal)"
   ]
  },
  {
   "source": [
    "### - Our optimal solution (using a tolerance of $1\\times 10^{-4}$) is  ~ $3.355287564 \\times 10^{9}$\n",
    "### - The solution time is 0.024396181106567383 seconds\n",
    "### - The number of nodes explored is of 511 nodes"
   ],
   "cell_type": "markdown",
   "metadata": {}
  },
  {
   "cell_type": "code",
   "execution_count": null,
   "metadata": {},
   "outputs": [],
   "source": [
    "# Linear relaxation\n",
    "x = m.addVars(range(n), name=\"x\")\n",
    "\n",
    "# Capacity constraints\n",
    "m.addConstr(quicksum(w[j]*x[j] for j in range(n)) <= b)\n",
    "\n",
    "# Objective\n",
    "obj = quicksum(r[j]*x[j] for j in range(n))\n",
    "\n",
    "m.setObjective(obj, GRB.MAXIMIZE)\n",
    "\n",
    "m.optimize()"
   ]
  },
  {
   "source": [
    "## Problem 3-b"
   ],
   "cell_type": "markdown",
   "metadata": {}
  },
  {
   "cell_type": "code",
   "execution_count": 80,
   "metadata": {
    "tags": []
   },
   "outputs": [],
   "source": [
    "from random import choice\n",
    "\n",
    "weights = [(i,x) for i,x in enumerate(w)]\n",
    "indexes = {i:[] for i in range(100)}\n",
    "\n",
    "for i in range(100):\n",
    "    k = b\n",
    "    weights_set = set(weights)\n",
    "    while k > 0:\n",
    "        chosen_x = choice(list(weights_set))\n",
    "        weights_set -= {chosen_x}\n",
    "        k -= chosen_x[1]\n",
    "        indexes[i].append(chosen_x[0])\n",
    "\n",
    "\n"
   ]
  },
  {
   "cell_type": "code",
   "execution_count": 81,
   "metadata": {
    "tags": [
     "outputPrepend"
    ]
   },
   "outputs": [
    {
     "output_type": "stream",
     "name": "stdout",
     "text": [
      "09 3.3554e+09  0.01%     -    0s\n",
      "     0     0 3.3554e+09    0    1 3.3549e+09 3.3554e+09  0.01%     -    0s\n",
      "     0     2 3.3554e+09    0    1 3.3549e+09 3.3554e+09  0.01%     -    0s\n",
      "H  142    87                    3.355193e+09 3.3554e+09  0.01%   1.1    0s\n",
      "\n",
      "Cutting planes:\n",
      "  Cover: 6\n",
      "\n",
      "Explored 159 nodes (185 simplex iterations) in 0.02 seconds\n",
      "Thread count was 16 (of 16 available processors)\n",
      "\n",
      "Solution count 4: 3.35519e+09 3.35494e+09 3.35345e+09 3.22129e+09 \n",
      "\n",
      "Optimal solution found (tolerance 1.00e-04)\n",
      "Best objective 3.355193388000e+09, best bound 3.355443192000e+09, gap 0.0074%\n",
      "[1, 10, 6, 0, 7, 23, 12, 14, 22, 3, 21, 13]\n",
      "Gurobi Optimizer version 9.0.3 build v9.0.3rc0 (linux64)\n",
      "Optimize a model with 2 rows, 24 columns and 36 nonzeros\n",
      "Model fingerprint: 0x85b5ed38\n",
      "Variable types: 0 continuous, 24 integer (24 binary)\n",
      "Coefficient statistics:\n",
      "  Matrix range     [1e+00, 4e+08]\n",
      "  Objective range  [3e+08, 4e+08]\n",
      "  Bounds range     [1e+00, 1e+00]\n",
      "  RHS range        [1e+01, 3e+09]\n",
      "Warning: Model contains large matrix coefficients\n",
      "Warning: Model contains large rhs\n",
      "         Consider reformulating model or setting NumericFocus parameter\n",
      "         to avoid numerical issues.\n",
      "Found heuristic solution: objective 3.221291e+09\n",
      "Presolve time: 0.00s\n",
      "Presolved: 2 rows, 24 columns, 36 nonzeros\n",
      "Variable types: 0 continuous, 24 integer (24 binary)\n",
      "\n",
      "Root relaxation: objective 3.355443e+09, 5 iterations, 0.00 seconds\n",
      "\n",
      "    Nodes    |    Current Node    |     Objective Bounds      |     Work\n",
      " Expl Unexpl |  Obj  Depth IntInf | Incumbent    BestBd   Gap | It/Node Time\n",
      "\n",
      "     0     0 3.3554e+09    0    1 3.2213e+09 3.3554e+09  4.16%     -    0s\n",
      "H    0     0                    3.354935e+09 3.3554e+09  0.02%     -    0s\n",
      "     0     0 3.3554e+09    0    1 3.3549e+09 3.3554e+09  0.02%     -    0s\n",
      "H    0     0                    3.355198e+09 3.3554e+09  0.01%     -    0s\n",
      "\n",
      "Cutting planes:\n",
      "  Cover: 1\n",
      "\n",
      "Explored 1 nodes (6 simplex iterations) in 0.01 seconds\n",
      "Thread count was 16 (of 16 available processors)\n",
      "\n",
      "Solution count 3: 3.3552e+09 3.35494e+09 3.22129e+09 \n",
      "\n",
      "Optimal solution found (tolerance 1.00e-04)\n",
      "Best objective 3.355197500000e+09, best bound 3.355443192000e+09, gap 0.0073%\n",
      "[20, 8, 6, 12, 7, 10, 23, 19, 14, 17, 16, 4]\n",
      "Gurobi Optimizer version 9.0.3 build v9.0.3rc0 (linux64)\n",
      "Optimize a model with 2 rows, 24 columns and 36 nonzeros\n",
      "Model fingerprint: 0xe1c24edd\n",
      "Variable types: 0 continuous, 24 integer (24 binary)\n",
      "Coefficient statistics:\n",
      "  Matrix range     [1e+00, 4e+08]\n",
      "  Objective range  [3e+08, 4e+08]\n",
      "  Bounds range     [1e+00, 1e+00]\n",
      "  RHS range        [1e+01, 3e+09]\n",
      "Warning: Model contains large matrix coefficients\n",
      "Warning: Model contains large rhs\n",
      "         Consider reformulating model or setting NumericFocus parameter\n",
      "         to avoid numerical issues.\n",
      "Found heuristic solution: objective 3.221291e+09\n",
      "Presolve time: 0.00s\n",
      "Presolved: 2 rows, 24 columns, 36 nonzeros\n",
      "Variable types: 0 continuous, 24 integer (24 binary)\n",
      "\n",
      "Root relaxation: objective 3.355443e+09, 5 iterations, 0.00 seconds\n",
      "\n",
      "    Nodes    |    Current Node    |     Objective Bounds      |     Work\n",
      " Expl Unexpl |  Obj  Depth IntInf | Incumbent    BestBd   Gap | It/Node Time\n",
      "\n",
      "     0     0 3.3554e+09    0    1 3.2213e+09 3.3554e+09  4.16%     -    0s\n",
      "H    0     0                    3.354542e+09 3.3554e+09  0.03%     -    0s\n",
      "     0     0 3.3554e+09    0    1 3.3545e+09 3.3554e+09  0.03%     -    0s\n",
      "     0     0 3.3554e+09    0    1 3.3545e+09 3.3554e+09  0.03%     -    0s\n",
      "     0     0 3.3554e+09    0    1 3.3545e+09 3.3554e+09  0.03%     -    0s\n",
      "     0     0 3.3554e+09    0    5 3.3545e+09 3.3554e+09  0.03%     -    0s\n",
      "     0     0 3.3554e+09    0    5 3.3545e+09 3.3554e+09  0.03%     -    0s\n",
      "H    0     0                    3.355247e+09 3.3554e+09  0.01%     -    0s\n",
      "\n",
      "Cutting planes:\n",
      "  Cover: 4\n",
      "\n",
      "Explored 1 nodes (9 simplex iterations) in 0.01 seconds\n",
      "Thread count was 16 (of 16 available processors)\n",
      "\n",
      "Solution count 3: 3.35525e+09 3.35454e+09 3.22129e+09 \n",
      "\n",
      "Optimal solution found (tolerance 1.00e-04)\n",
      "Best objective 3.355246652000e+09, best bound 3.355443192000e+09, gap 0.0059%\n",
      "[19, 15, 22, 17, 7, 13, 14, 18, 11, 0, 12, 10, 4]\n",
      "Gurobi Optimizer version 9.0.3 build v9.0.3rc0 (linux64)\n",
      "Optimize a model with 2 rows, 24 columns and 37 nonzeros\n",
      "Model fingerprint: 0x2030afb9\n",
      "Variable types: 0 continuous, 24 integer (24 binary)\n",
      "Coefficient statistics:\n",
      "  Matrix range     [1e+00, 4e+08]\n",
      "  Objective range  [3e+08, 4e+08]\n",
      "  Bounds range     [1e+00, 1e+00]\n",
      "  RHS range        [1e+01, 3e+09]\n",
      "Warning: Model contains large matrix coefficients\n",
      "Warning: Model contains large rhs\n",
      "         Consider reformulating model or setting NumericFocus parameter\n",
      "         to avoid numerical issues.\n",
      "Found heuristic solution: objective 3.221291e+09\n",
      "Presolve time: 0.00s\n",
      "Presolved: 2 rows, 24 columns, 37 nonzeros\n",
      "Variable types: 0 continuous, 24 integer (24 binary)\n",
      "\n",
      "Root relaxation: objective 3.355443e+09, 5 iterations, 0.00 seconds\n",
      "\n",
      "    Nodes    |    Current Node    |     Objective Bounds      |     Work\n",
      " Expl Unexpl |  Obj  Depth IntInf | Incumbent    BestBd   Gap | It/Node Time\n",
      "\n",
      "     0     0 3.3554e+09    0    1 3.2213e+09 3.3554e+09  4.16%     -    0s\n",
      "H    0     0                    3.353526e+09 3.3554e+09  0.06%     -    0s\n",
      "H    0     0                    3.354739e+09 3.3554e+09  0.02%     -    0s\n",
      "     0     0 3.3554e+09    0    1 3.3547e+09 3.3554e+09  0.02%     -    0s\n",
      "     0     0 3.3554e+09    0    1 3.3547e+09 3.3554e+09  0.02%     -    0s\n",
      "     0     0 3.3554e+09    0    1 3.3547e+09 3.3554e+09  0.02%     -    0s\n",
      "     0     0 3.3554e+09    0    1 3.3547e+09 3.3554e+09  0.02%     -    0s\n",
      "     0     0 3.3554e+09    0    1 3.3547e+09 3.3554e+09  0.02%     -    0s\n",
      "     0     2 3.3554e+09    0    1 3.3547e+09 3.3554e+09  0.02%     -    0s\n",
      "H  561     0                    3.355410e+09 3.3554e+09  0.00%   1.1    0s\n",
      "\n",
      "Cutting planes:\n",
      "  Cover: 7\n",
      "\n",
      "Explored 698 nodes (1045 simplex iterations) in 0.02 seconds\n",
      "Thread count was 16 (of 16 available processors)\n",
      "\n",
      "Solution count 4: 3.35541e+09 3.35474e+09 3.35353e+09 3.22129e+09 \n",
      "\n",
      "Optimal solution found (tolerance 1.00e-04)\n",
      "Best objective 3.355410444000e+09, best bound 3.355410444000e+09, gap 0.0000%\n",
      "[22, 3, 18, 17, 10, 8, 0, 9, 19, 11, 16, 7, 1]\n",
      "Gurobi Optimizer version 9.0.3 build v9.0.3rc0 (linux64)\n",
      "Optimize a model with 2 rows, 24 columns and 37 nonzeros\n",
      "Model fingerprint: 0xaa10b427\n",
      "Variable types: 0 continuous, 24 integer (24 binary)\n",
      "Coefficient statistics:\n",
      "  Matrix range     [1e+00, 4e+08]\n",
      "  Objective range  [3e+08, 4e+08]\n",
      "  Bounds range     [1e+00, 1e+00]\n",
      "  RHS range        [1e+01, 3e+09]\n",
      "Warning: Model contains large matrix coefficients\n",
      "Warning: Model contains large rhs\n",
      "         Consider reformulating model or setting NumericFocus parameter\n",
      "         to avoid numerical issues.\n",
      "Found heuristic solution: objective 3.221291e+09\n",
      "Presolve time: 0.00s\n",
      "Presolved: 2 rows, 24 columns, 37 nonzeros\n",
      "Variable types: 0 continuous, 24 integer (24 binary)\n",
      "\n",
      "Root relaxation: objective 3.355443e+09, 5 iterations, 0.00 seconds\n",
      "\n",
      "    Nodes    |    Current Node    |     Objective Bounds      |     Work\n",
      " Expl Unexpl |  Obj  Depth IntInf | Incumbent    BestBd   Gap | It/Node Time\n",
      "\n",
      "     0     0 3.3554e+09    0    1 3.2213e+09 3.3554e+09  4.16%     -    0s\n",
      "H    0     0                    3.353526e+09 3.3554e+09  0.06%     -    0s\n",
      "H    0     0                    3.354739e+09 3.3554e+09  0.02%     -    0s\n",
      "     0     0 3.3554e+09    0    1 3.3547e+09 3.3554e+09  0.02%     -    0s\n",
      "     0     0 3.3554e+09    0    1 3.3547e+09 3.3554e+09  0.02%     -    0s\n",
      "     0     0 3.3554e+09    0    1 3.3547e+09 3.3554e+09  0.02%     -    0s\n",
      "     0     0 3.3554e+09    0    1 3.3547e+09 3.3554e+09  0.02%     -    0s\n",
      "     0     0 3.3554e+09    0    1 3.3547e+09 3.3554e+09  0.02%     -    0s\n",
      "     0     2 3.3554e+09    0    1 3.3547e+09 3.3554e+09  0.02%     -    0s\n",
      "*  529     0               4    3.355410e+09 3.3554e+09  0.00%   1.1    0s\n",
      "\n",
      "Cutting planes:\n",
      "  Cover: 7\n",
      "\n",
      "Explored 661 nodes (1016 simplex iterations) in 0.02 seconds\n",
      "Thread count was 16 (of 16 available processors)\n",
      "\n",
      "Solution count 4: 3.35541e+09 3.35474e+09 3.35353e+09 3.22129e+09 \n",
      "\n",
      "Optimal solution found (tolerance 1.00e-04)\n",
      "Best objective 3.355410444000e+09, best bound 3.355410444000e+09, gap 0.0000%\n",
      "[12, 0, 15, 8, 22, 21, 5, 9, 14, 2, 23, 16]\n",
      "Gurobi Optimizer version 9.0.3 build v9.0.3rc0 (linux64)\n",
      "Optimize a model with 2 rows, 24 columns and 36 nonzeros\n",
      "Model fingerprint: 0x37010f4b\n",
      "Variable types: 0 continuous, 24 integer (24 binary)\n",
      "Coefficient statistics:\n",
      "  Matrix range     [1e+00, 4e+08]\n",
      "  Objective range  [3e+08, 4e+08]\n",
      "  Bounds range     [1e+00, 1e+00]\n",
      "  RHS range        [1e+01, 3e+09]\n",
      "Warning: Model contains large matrix coefficients\n",
      "Warning: Model contains large rhs\n",
      "         Consider reformulating model or setting NumericFocus parameter\n",
      "         to avoid numerical issues.\n",
      "Found heuristic solution: objective 3.221291e+09\n",
      "Presolve time: 0.00s\n",
      "Presolved: 2 rows, 24 columns, 36 nonzeros\n",
      "Variable types: 0 continuous, 24 integer (24 binary)\n",
      "\n",
      "Root relaxation: objective 3.355443e+09, 5 iterations, 0.00 seconds\n",
      "\n",
      "    Nodes    |    Current Node    |     Objective Bounds      |     Work\n",
      " Expl Unexpl |  Obj  Depth IntInf | Incumbent    BestBd   Gap | It/Node Time\n",
      "\n",
      "     0     0 3.3554e+09    0    1 3.2213e+09 3.3554e+09  4.16%     -    0s\n",
      "H    0     0                    3.354935e+09 3.3554e+09  0.02%     -    0s\n",
      "     0     0 3.3554e+09    0    1 3.3549e+09 3.3554e+09  0.02%     -    0s\n",
      "     0     0 3.3554e+09    0    1 3.3549e+09 3.3554e+09  0.02%     -    0s\n",
      "     0     0 3.3554e+09    0    1 3.3549e+09 3.3554e+09  0.02%     -    0s\n",
      "     0     0 3.3554e+09    0    1 3.3549e+09 3.3554e+09  0.02%     -    0s\n",
      "     0     0 3.3554e+09    0    1 3.3549e+09 3.3554e+09  0.02%     -    0s\n",
      "     0     2 3.3554e+09    0    1 3.3549e+09 3.3554e+09  0.02%     -    0s\n",
      "H   19    24                    3.355198e+09 3.3554e+09  0.01%   1.9    0s\n",
      "\n",
      "Cutting planes:\n",
      "  Cover: 6\n",
      "\n",
      "Explored 23 nodes (52 simplex iterations) in 0.01 seconds\n",
      "Thread count was 16 (of 16 available processors)\n",
      "\n",
      "Solution count 3: 3.3552e+09 3.35494e+09 3.22129e+09 \n",
      "\n",
      "Optimal solution found (tolerance 1.00e-04)\n",
      "Best objective 3.355197500000e+09, best bound 3.355443192000e+09, gap 0.0073%\n",
      "[16, 11, 2, 17, 18, 4, 15, 10, 14, 9, 22, 12, 23]\n",
      "Gurobi Optimizer version 9.0.3 build v9.0.3rc0 (linux64)\n",
      "Optimize a model with 2 rows, 24 columns and 37 nonzeros\n",
      "Model fingerprint: 0xd45e7559\n",
      "Variable types: 0 continuous, 24 integer (24 binary)\n",
      "Coefficient statistics:\n",
      "  Matrix range     [1e+00, 4e+08]\n",
      "  Objective range  [3e+08, 4e+08]\n",
      "  Bounds range     [1e+00, 1e+00]\n",
      "  RHS range        [1e+01, 3e+09]\n",
      "Warning: Model contains large matrix coefficients\n",
      "Warning: Model contains large rhs\n",
      "         Consider reformulating model or setting NumericFocus parameter\n",
      "         to avoid numerical issues.\n",
      "Found heuristic solution: objective 3.221291e+09\n",
      "Presolve time: 0.00s\n",
      "Presolved: 2 rows, 24 columns, 37 nonzeros\n",
      "Variable types: 0 continuous, 24 integer (24 binary)\n",
      "\n",
      "Root relaxation: objective 3.355443e+09, 5 iterations, 0.00 seconds\n",
      "\n",
      "    Nodes    |    Current Node    |     Objective Bounds      |     Work\n",
      " Expl Unexpl |  Obj  Depth IntInf | Incumbent    BestBd   Gap | It/Node Time\n",
      "\n",
      "     0     0 3.3554e+09    0    1 3.2213e+09 3.3554e+09  4.16%     -    0s\n",
      "H    0     0                    3.353690e+09 3.3554e+09  0.05%     -    0s\n",
      "H    0     0                    3.354596e+09 3.3554e+09  0.03%     -    0s\n",
      "     0     0 3.3554e+09    0    1 3.3546e+09 3.3554e+09  0.03%     -    0s\n",
      "     0     0 3.3554e+09    0    1 3.3546e+09 3.3554e+09  0.03%     -    0s\n",
      "     0     0 3.3554e+09    0    1 3.3546e+09 3.3554e+09  0.03%     -    0s\n",
      "     0     0 3.3554e+09    0    1 3.3546e+09 3.3554e+09  0.03%     -    0s\n",
      "     0     0 3.3554e+09    0    1 3.3546e+09 3.3554e+09  0.03%     -    0s\n",
      "     0     2 3.3554e+09    0    1 3.3546e+09 3.3554e+09  0.03%     -    0s\n",
      "H  142    93                    3.355036e+09 3.3554e+09  0.01%   1.1    0s\n",
      "H  243   147                    3.355247e+09 3.3554e+09  0.01%   1.1    0s\n",
      "\n",
      "Cutting planes:\n",
      "  Cover: 7\n",
      "\n",
      "Explored 551 nodes (580 simplex iterations) in 0.02 seconds\n",
      "Thread count was 16 (of 16 available processors)\n",
      "\n",
      "Solution count 5: 3.35525e+09 3.35504e+09 3.3546e+09 ... 3.22129e+09\n",
      "\n",
      "Optimal solution found (tolerance 1.00e-04)\n",
      "Best objective 3.355247148000e+09, best bound 3.355443192000e+09, gap 0.0058%\n",
      "[18, 6, 22, 9, 2, 1, 14, 15, 7, 21, 13, 17, 11]\n",
      "Gurobi Optimizer version 9.0.3 build v9.0.3rc0 (linux64)\n",
      "Optimize a model with 2 rows, 24 columns and 37 nonzeros\n",
      "Model fingerprint: 0x1c52b681\n",
      "Variable types: 0 continuous, 24 integer (24 binary)\n",
      "Coefficient statistics:\n",
      "  Matrix range     [1e+00, 4e+08]\n",
      "  Objective range  [3e+08, 4e+08]\n",
      "  Bounds range     [1e+00, 1e+00]\n",
      "  RHS range        [1e+01, 3e+09]\n",
      "Warning: Model contains large matrix coefficients\n",
      "Warning: Model contains large rhs\n",
      "         Consider reformulating model or setting NumericFocus parameter\n",
      "         to avoid numerical issues.\n",
      "Found heuristic solution: objective 3.221291e+09\n",
      "Presolve time: 0.00s\n",
      "Presolved: 2 rows, 24 columns, 37 nonzeros\n",
      "Variable types: 0 continuous, 24 integer (24 binary)\n",
      "\n",
      "Root relaxation: objective 3.355443e+09, 5 iterations, 0.00 seconds\n",
      "\n",
      "    Nodes    |    Current Node    |     Objective Bounds      |     Work\n",
      " Expl Unexpl |  Obj  Depth IntInf | Incumbent    BestBd   Gap | It/Node Time\n",
      "\n",
      "     0     0 3.3554e+09    0    1 3.2213e+09 3.3554e+09  4.16%     -    0s\n",
      "H    0     0                    3.354542e+09 3.3554e+09  0.03%     -    0s\n",
      "     0     0 3.3554e+09    0    1 3.3545e+09 3.3554e+09  0.03%     -    0s\n",
      "     0     0 3.3554e+09    0    1 3.3545e+09 3.3554e+09  0.03%     -    0s\n",
      "H    0     0                    3.355184e+09 3.3554e+09  0.01%     -    0s\n",
      "\n",
      "Cutting planes:\n",
      "  Cover: 3\n",
      "\n",
      "Explored 1 nodes (7 simplex iterations) in 0.01 seconds\n",
      "Thread count was 16 (of 16 available processors)\n",
      "\n",
      "Solution count 3: 3.35518e+09 3.35454e+09 3.22129e+09 \n",
      "\n",
      "Optimal solution found (tolerance 1.00e-04)\n",
      "Best objective 3.355183756000e+09, best bound 3.355443192000e+09, gap 0.0077%\n",
      "[1, 5, 3, 4, 6, 14, 9, 7, 21, 19, 13, 22, 12]\n",
      "Gurobi Optimizer version 9.0.3 build v9.0.3rc0 (linux64)\n",
      "Optimize a model with 2 rows, 24 columns and 37 nonzeros\n",
      "Model fingerprint: 0x75f02910\n",
      "Variable types: 0 continuous, 24 integer (24 binary)\n",
      "Coefficient statistics:\n",
      "  Matrix range     [1e+00, 4e+08]\n",
      "  Objective range  [3e+08, 4e+08]\n",
      "  Bounds range     [1e+00, 1e+00]\n",
      "  RHS range        [1e+01, 3e+09]\n",
      "Warning: Model contains large matrix coefficients\n",
      "Warning: Model contains large rhs\n",
      "         Consider reformulating model or setting NumericFocus parameter\n",
      "         to avoid numerical issues.\n",
      "Found heuristic solution: objective 3.221291e+09\n",
      "Presolve time: 0.00s\n",
      "Presolved: 2 rows, 24 columns, 37 nonzeros\n",
      "Variable types: 0 continuous, 24 integer (24 binary)\n",
      "\n",
      "Root relaxation: objective 3.355443e+09, 5 iterations, 0.00 seconds\n",
      "\n",
      "    Nodes    |    Current Node    |     Objective Bounds      |     Work\n",
      " Expl Unexpl |  Obj  Depth IntInf | Incumbent    BestBd   Gap | It/Node Time\n",
      "\n",
      "     0     0 3.3554e+09    0    1 3.2213e+09 3.3554e+09  4.16%     -    0s\n",
      "H    0     0                    3.354542e+09 3.3554e+09  0.03%     -    0s\n",
      "     0     0 3.3554e+09    0    1 3.3545e+09 3.3554e+09  0.03%     -    0s\n",
      "     0     0 3.3554e+09    0    1 3.3545e+09 3.3554e+09  0.03%     -    0s\n",
      "     0     0 3.3554e+09    0    1 3.3545e+09 3.3554e+09  0.03%     -    0s\n",
      "     0     0 3.3554e+09    0    1 3.3545e+09 3.3554e+09  0.03%     -    0s\n",
      "     0     0 3.3554e+09    0    1 3.3545e+09 3.3554e+09  0.03%     -    0s\n",
      "     0     2 3.3554e+09    0    1 3.3545e+09 3.3554e+09  0.03%     -    0s\n",
      "H   52    64                    3.355198e+09 3.3554e+09  0.01%   1.3    0s\n",
      "\n",
      "Cutting planes:\n",
      "  Cover: 6\n",
      "\n",
      "Explored 63 nodes (86 simplex iterations) in 0.01 seconds\n",
      "Thread count was 16 (of 16 available processors)\n",
      "\n",
      "Solution count 3: 3.3552e+09 3.35454e+09 3.22129e+09 \n",
      "\n",
      "Optimal solution found (tolerance 1.00e-04)\n",
      "Best objective 3.355197548000e+09, best bound 3.355443192000e+09, gap 0.0073%\n",
      "[1, 16, 7, 15, 22, 5, 0, 18, 10, 19, 2, 12, 23]\n",
      "Gurobi Optimizer version 9.0.3 build v9.0.3rc0 (linux64)\n",
      "Optimize a model with 2 rows, 24 columns and 37 nonzeros\n",
      "Model fingerprint: 0xccb84856\n",
      "Variable types: 0 continuous, 24 integer (24 binary)\n",
      "Coefficient statistics:\n",
      "  Matrix range     [1e+00, 4e+08]\n",
      "  Objective range  [3e+08, 4e+08]\n",
      "  Bounds range     [1e+00, 1e+00]\n",
      "  RHS range        [1e+01, 3e+09]\n",
      "Warning: Model contains large matrix coefficients\n",
      "Warning: Model contains large rhs\n",
      "         Consider reformulating model or setting NumericFocus parameter\n",
      "         to avoid numerical issues.\n",
      "Found heuristic solution: objective 3.221291e+09\n",
      "Presolve time: 0.00s\n",
      "Presolved: 2 rows, 24 columns, 37 nonzeros\n",
      "Variable types: 0 continuous, 24 integer (24 binary)\n",
      "\n",
      "Root relaxation: objective 3.355443e+09, 5 iterations, 0.00 seconds\n",
      "\n",
      "    Nodes    |    Current Node    |     Objective Bounds      |     Work\n",
      " Expl Unexpl |  Obj  Depth IntInf | Incumbent    BestBd   Gap | It/Node Time\n",
      "\n",
      "     0     0 3.3554e+09    0    1 3.2213e+09 3.3554e+09  4.16%     -    0s\n",
      "H    0     0                    3.353526e+09 3.3554e+09  0.06%     -    0s\n",
      "H    0     0                    3.354739e+09 3.3554e+09  0.02%     -    0s\n",
      "     0     0 3.3554e+09    0    1 3.3547e+09 3.3554e+09  0.02%     -    0s\n",
      "     0     0 3.3554e+09    0    1 3.3547e+09 3.3554e+09  0.02%     -    0s\n",
      "     0     0 3.3554e+09    0    1 3.3547e+09 3.3554e+09  0.02%     -    0s\n",
      "     0     0 3.3554e+09    0    1 3.3547e+09 3.3554e+09  0.02%     -    0s\n",
      "     0     0 3.3554e+09    0    1 3.3547e+09 3.3554e+09  0.02%     -    0s\n",
      "     0     2 3.3554e+09    0    1 3.3547e+09 3.3554e+09  0.02%     -    0s\n",
      "H   60    64                    3.355181e+09 3.3554e+09  0.01%   1.4    0s\n",
      "\n",
      "Cutting planes:\n",
      "  Cover: 6\n",
      "\n",
      "Explored 63 nodes (93 simplex iterations) in 0.01 seconds\n",
      "Thread count was 16 (of 16 available processors)\n",
      "\n",
      "Solution count 4: 3.35518e+09 3.35474e+09 3.35353e+09 3.22129e+09 \n",
      "\n",
      "Optimal solution found (tolerance 1.00e-04)\n",
      "Best objective 3.355181244000e+09, best bound 3.355443192000e+09, gap 0.0078%\n",
      "[11, 10, 0, 9, 6, 2, 12, 14, 7, 18, 4, 19, 15]\n",
      "Gurobi Optimizer version 9.0.3 build v9.0.3rc0 (linux64)\n",
      "Optimize a model with 2 rows, 24 columns and 37 nonzeros\n",
      "Model fingerprint: 0xbd62c3f4\n",
      "Variable types: 0 continuous, 24 integer (24 binary)\n",
      "Coefficient statistics:\n",
      "  Matrix range     [1e+00, 4e+08]\n",
      "  Objective range  [3e+08, 4e+08]\n",
      "  Bounds range     [1e+00, 1e+00]\n",
      "  RHS range        [1e+01, 3e+09]\n",
      "Warning: Model contains large matrix coefficients\n",
      "Warning: Model contains large rhs\n",
      "         Consider reformulating model or setting NumericFocus parameter\n",
      "         to avoid numerical issues.\n",
      "Found heuristic solution: objective 3.221291e+09\n",
      "Presolve time: 0.00s\n",
      "Presolved: 2 rows, 24 columns, 37 nonzeros\n",
      "Variable types: 0 continuous, 24 integer (24 binary)\n",
      "\n",
      "Root relaxation: objective 3.355443e+09, 5 iterations, 0.00 seconds\n",
      "\n",
      "    Nodes    |    Current Node    |     Objective Bounds      |     Work\n",
      " Expl Unexpl |  Obj  Depth IntInf | Incumbent    BestBd   Gap | It/Node Time\n",
      "\n",
      "     0     0 3.3554e+09    0    1 3.2213e+09 3.3554e+09  4.16%     -    0s\n",
      "H    0     0                    3.353526e+09 3.3554e+09  0.06%     -    0s\n",
      "     0     0 3.3554e+09    0    1 3.3535e+09 3.3554e+09  0.06%     -    0s\n",
      "H    0     0                    3.354935e+09 3.3554e+09  0.02%     -    0s\n",
      "     0     0 3.3554e+09    0    1 3.3549e+09 3.3554e+09  0.02%     -    0s\n",
      "     0     0 3.3554e+09    0    1 3.3549e+09 3.3554e+09  0.02%     -    0s\n",
      "     0     0 3.3554e+09    0    1 3.3549e+09 3.3554e+09  0.02%     -    0s\n",
      "     0     0 3.3554e+09    0    1 3.3549e+09 3.3554e+09  0.02%     -    0s\n",
      "H    0     0                    3.355312e+09 3.3554e+09  0.00%     -    0s\n",
      "\n",
      "Cutting planes:\n",
      "  Cover: 4\n",
      "\n",
      "Explored 1 nodes (9 simplex iterations) in 0.01 seconds\n",
      "Thread count was 16 (of 16 available processors)\n",
      "\n",
      "Solution count 4: 3.35531e+09 3.35494e+09 3.35353e+09 3.22129e+09 \n",
      "\n",
      "Optimal solution found (tolerance 1.00e-04)\n",
      "Best objective 3.355312188000e+09, best bound 3.355443192000e+09, gap 0.0039%\n"
     ]
    },
    {
     "output_type": "error",
     "ename": "KeyError",
     "evalue": "50",
     "traceback": [
      "\u001b[0;31m---------------------------------------------------------------------------\u001b[0m",
      "\u001b[0;31mKeyError\u001b[0m                                  Traceback (most recent call last)",
      "\u001b[0;32m<ipython-input-81-1cfa5b15daac>\u001b[0m in \u001b[0;36m<module>\u001b[0;34m()\u001b[0m\n\u001b[1;32m     26\u001b[0m     \u001b[0mm\u001b[0m\u001b[0;34m.\u001b[0m\u001b[0moptimize\u001b[0m\u001b[0;34m(\u001b[0m\u001b[0;34m)\u001b[0m\u001b[0;34m\u001b[0m\u001b[0;34m\u001b[0m\u001b[0m\n\u001b[1;32m     27\u001b[0m     \u001b[0;31m# appending to models\u001b[0m\u001b[0;34m\u001b[0m\u001b[0;34m\u001b[0m\u001b[0;34m\u001b[0m\u001b[0m\n\u001b[0;32m---> 28\u001b[0;31m     \u001b[0mmodels\u001b[0m\u001b[0;34m[\u001b[0m\u001b[0midx\u001b[0m\u001b[0;34m]\u001b[0m\u001b[0;34m[\u001b[0m\u001b[0;34m'model'\u001b[0m\u001b[0;34m]\u001b[0m \u001b[0;34m=\u001b[0m \u001b[0mm\u001b[0m\u001b[0;34m\u001b[0m\u001b[0;34m\u001b[0m\u001b[0m\n\u001b[0m\u001b[1;32m     29\u001b[0m     \u001b[0mmodels\u001b[0m\u001b[0;34m[\u001b[0m\u001b[0midx\u001b[0m\u001b[0;34m]\u001b[0m\u001b[0;34m[\u001b[0m\u001b[0;34m'rt'\u001b[0m\u001b[0;34m]\u001b[0m \u001b[0;34m=\u001b[0m \u001b[0mm\u001b[0m\u001b[0;34m.\u001b[0m\u001b[0mRuntime\u001b[0m\u001b[0;34m\u001b[0m\u001b[0;34m\u001b[0m\u001b[0m\n\u001b[1;32m     30\u001b[0m     \u001b[0mmodels\u001b[0m\u001b[0;34m[\u001b[0m\u001b[0midx\u001b[0m\u001b[0;34m]\u001b[0m\u001b[0;34m[\u001b[0m\u001b[0;34m'nd'\u001b[0m\u001b[0;34m]\u001b[0m \u001b[0;34m=\u001b[0m \u001b[0mm\u001b[0m\u001b[0;34m.\u001b[0m\u001b[0mNodeCount\u001b[0m\u001b[0;34m\u001b[0m\u001b[0;34m\u001b[0m\u001b[0m\n",
      "\u001b[0;31mKeyError\u001b[0m: 50"
     ]
    }
   ],
   "source": [
    "models = {i:{'model':0, 'rt':0, 'nd':0} for i in range(50)}\n",
    "\n",
    "# k\n",
    "def k(n): return np.floor(np.log(2*n))\n",
    "\n",
    "for idx, index in indexes.items():\n",
    "    # objects\n",
    "    n = 24 \n",
    "    # weight\n",
    "    w = [2**(k(n) + n + 1) + 2**(k(n) + j) + 1 for j in range(1,n+1)]\n",
    "    # value/profit\n",
    "    r = [2**(k(n) + n + 1) + 2**(k(n) + j) + 1 for j in range(1,n+1)]\n",
    "    # kanpsack's capacity\n",
    "    b = sum([np.floor(w[j]/2) for j in range(n)])\n",
    "    # defining the model\n",
    "    m = Model(f'knapsack_{idx}')\n",
    "    # Binary variables\n",
    "    x = m.addVars(range(n), name=\"x\", vtype=GRB.BINARY)\n",
    "    # Capacity constraints\n",
    "    m.addConstr(quicksum(w[j]*x[j] for j in range(n)) <= b)\n",
    "    m.addConstr(quicksum(x[j] for j in index) <= len(index)-1)\n",
    "    # Objective\n",
    "    obj = quicksum(r[j]*x[j] for j in range(n))\n",
    "    m.setObjective(obj, GRB.MAXIMIZE)\n",
    "    print(index)\n",
    "    m.optimize()\n",
    "    # appending to models\n",
    "    models[idx]['model'] = m\n",
    "    models[idx]['rt'] = m.Runtime\n",
    "    models[idx]['nd'] = m.NodeCount\n"
   ]
  },
  {
   "cell_type": "code",
   "execution_count": 126,
   "metadata": {},
   "outputs": [],
   "source": [
    "# original model runtime\n",
    "original_runtime = 0.024396181106567383\n",
    "\n",
    "# keeping ONLY constraints which reduce the runtime\n",
    "kept_indexes = []\n",
    "for idx, model in models.items():\n",
    "    if model['rt'] < original_runtime:\n",
    "        kept_indexes.append(idx)\n",
    "\n",
    "# filtering indexes\n",
    "new_indexes = {key:val for key,val in indexes.items() if key in kept_indexes}"
   ]
  },
  {
   "cell_type": "code",
   "execution_count": 127,
   "metadata": {},
   "outputs": [
    {
     "output_type": "execute_result",
     "data": {
      "text/plain": [
       "47"
      ]
     },
     "metadata": {},
     "execution_count": 127
    }
   ],
   "source": [
    "len(new_indexes)"
   ]
  },
  {
   "source": [
    "We have correctly identified about 100 constraints out of which 47 should theoretically reduce our general runtime"
   ],
   "cell_type": "markdown",
   "metadata": {}
  },
  {
   "source": [
    "We repeat the model adding such constraints:"
   ],
   "cell_type": "markdown",
   "metadata": {}
  },
  {
   "cell_type": "code",
   "execution_count": 128,
   "metadata": {},
   "outputs": [
    {
     "output_type": "stream",
     "name": "stdout",
     "text": [
      "Gurobi Optimizer version 9.0.3 build v9.0.3rc0 (linux64)\n",
      "Optimize a model with 48 rows, 24 columns and 612 nonzeros\n",
      "Model fingerprint: 0xa22b8a47\n",
      "Variable types: 0 continuous, 24 integer (24 binary)\n",
      "Coefficient statistics:\n",
      "  Matrix range     [1e+00, 4e+08]\n",
      "  Objective range  [3e+08, 4e+08]\n",
      "  Bounds range     [1e+00, 1e+00]\n",
      "  RHS range        [1e+01, 3e+09]\n",
      "Warning: Model contains large matrix coefficients\n",
      "Warning: Model contains large rhs\n",
      "         Consider reformulating model or setting NumericFocus parameter\n",
      "         to avoid numerical issues.\n",
      "Found heuristic solution: objective 3.221291e+09\n",
      "Presolve time: 0.00s\n",
      "Presolved: 48 rows, 24 columns, 612 nonzeros\n",
      "Variable types: 0 continuous, 24 integer (24 binary)\n",
      "\n",
      "Root relaxation: objective 3.355443e+09, 10 iterations, 0.00 seconds\n",
      "\n",
      "    Nodes    |    Current Node    |     Objective Bounds      |     Work\n",
      " Expl Unexpl |  Obj  Depth IntInf | Incumbent    BestBd   Gap | It/Node Time\n",
      "\n",
      "     0     0 3.3554e+09    0    1 3.2213e+09 3.3554e+09  4.16%     -    0s\n",
      "H    0     0                    3.354398e+09 3.3554e+09  0.03%     -    0s\n",
      "     0     0 3.3554e+09    0    1 3.3544e+09 3.3554e+09  0.03%     -    0s\n",
      "     0     0 3.3554e+09    0    3 3.3544e+09 3.3554e+09  0.03%     -    0s\n",
      "*    0     0               0    3.355410e+09 3.3554e+09  0.00%     -    0s\n",
      "\n",
      "Cutting planes:\n",
      "  Cover: 3\n",
      "\n",
      "Explored 1 nodes (21 simplex iterations) in 0.01 seconds\n",
      "Thread count was 16 (of 16 available processors)\n",
      "\n",
      "Solution count 3: 3.35541e+09 3.3544e+09 3.22129e+09 \n",
      "\n",
      "Optimal solution found (tolerance 1.00e-04)\n",
      "Best objective 3.355410444000e+09, best bound 3.355410444000e+09, gap 0.0000%\n"
     ]
    }
   ],
   "source": [
    "def run_model_with_new_constraints(indexes_list):\n",
    "    # objects\n",
    "    n = 24 \n",
    "\n",
    "    # define k\n",
    "    def k(v):\n",
    "        return np.floor(np.log(2*v))\n",
    "\n",
    "    # weight\n",
    "    w = [2**(k(n) + n + 1) + 2**(k(n) + j) + 1 for j in range(1,n+1)]\n",
    "\n",
    "    # value/profit\n",
    "    r = [2**(k(n) + n + 1) + 2**(k(n) + j) + 1 for j in range(1,n+1)]\n",
    "\n",
    "    # kanpsack's capacity\n",
    "    b = sum([np.floor(w[j]/2) for j in range(n)])\n",
    "\n",
    "    # defining the model\n",
    "    m = Model('knapsack')\n",
    "\n",
    "    # Binary variables\n",
    "    x = m.addVars(range(n), name=\"x\", vtype=GRB.BINARY)\n",
    "\n",
    "    # adding new constraints\n",
    "    for index_list in indexes_list:\n",
    "        m.addConstr(quicksum(x[j] for j in index_list) <= len(index_list)-1)\n",
    "\n",
    "    # Capacity constraints\n",
    "    m.addConstr(quicksum(w[j]*x[j] for j in range(n)) <= b)\n",
    "\n",
    "    # Objective\n",
    "    obj = quicksum(r[j]*x[j] for j in range(n))\n",
    "    m.setObjective(obj, GRB.MAXIMIZE)\n",
    "\n",
    "    #optimize\n",
    "    m.optimize()\n",
    "    return m\n",
    "\n",
    "m = run_model_with_new_constraints([sorted(x) for x in new_indexes.values()])"
   ]
  },
  {
   "cell_type": "code",
   "execution_count": 129,
   "metadata": {},
   "outputs": [
    {
     "output_type": "execute_result",
     "data": {
      "text/plain": [
       "0.01208806037902832"
      ]
     },
     "metadata": {},
     "execution_count": 129
    }
   ],
   "source": [
    "original_runtime - m.Runtime"
   ]
  },
  {
   "source": [
    "we can see the runtime has been reduced in 0.01208806037902832 seconds, however, this can be improved, perhaps we should use significantly less constraints, maybe we can choose a few hand picked constraints which should reduce our runtime more than just forcefully adding 41 new constraints to the model, which, sure, improves our runtime but seems to be less than ideal"
   ],
   "cell_type": "markdown",
   "metadata": {}
  },
  {
   "cell_type": "code",
   "execution_count": 146,
   "metadata": {},
   "outputs": [],
   "source": [
    "# keeping ONLY constraints which reduce the runtime significantly\n",
    "kept_indexes = [idx for idx,model in models.items() if model['rt'] < original_runtime/2.5]\n",
    "\n",
    "# filtering indexes\n",
    "new_indexes = {key:val for key,val in indexes.items() if key in kept_indexes}"
   ]
  },
  {
   "cell_type": "code",
   "execution_count": 156,
   "metadata": {},
   "outputs": [
    {
     "output_type": "execute_result",
     "data": {
      "text/plain": [
       "{23: [1, 6, 7, 8, 9, 11, 12, 16, 18, 19, 22, 23],\n",
       " 34: [2, 7, 9, 11, 13, 15, 16, 17, 18, 19, 21, 22, 23],\n",
       " 35: [0, 1, 3, 4, 6, 9, 12, 14, 16, 17, 21, 23],\n",
       " 36: [1, 2, 4, 5, 7, 8, 9, 12, 16, 21, 22, 23],\n",
       " 38: [1, 4, 6, 7, 8, 10, 11, 12, 15, 20, 21, 23],\n",
       " 39: [0, 1, 6, 7, 9, 10, 12, 13, 17, 21, 22, 23],\n",
       " 41: [0, 1, 3, 6, 7, 10, 12, 13, 14, 21, 22, 23]}"
      ]
     },
     "metadata": {},
     "execution_count": 156
    }
   ],
   "source": [
    "new_indexes # we pick the inequality containing the following xjs"
   ]
  },
  {
   "source": [
    "#### which correspond to the following constraints:\n",
    "\n",
    "$w_{1} + w_{6} + w_{7} + w_{8} + w_{9} + w_{11} + w_{12} + w_{16} + w_{18} + w_{19} + w_{22} + w_{23} \\leq 11$ \n",
    "\n",
    "$w_{2} + w_{7} + w_{9} + w_{11} + w_{13} + w_{15} + w_{16} + w_{17} + w_{18} + w_{19} + w_{21} + w_{22} + w_{23} \\leq 12$ \n",
    "\n",
    "$w_{0} + w_{1} + w_{3} + w_{4} + w_{6} + w_{9} + w_{12} + w_{14} + w_{16} + w_{17} + w_{21} + w_{23} \\leq 11$ \n",
    "\n",
    "$w_{1} + w_{2} + w_{4} + w_{5} + w_{7} + w_{8} + w_{9} + w_{12} + w_{16} + w_{21} + w_{22} + w_{23} \\leq 11$ \n",
    "\n",
    "$w_{1} + w_{4} + w_{6} + w_{7} + w_{8} + w_{10} + w_{11} + w_{12} + w_{15} + w_{20} + w_{21} + w_{23} \\leq 11$ \n",
    "\n",
    "$w_{0} + w_{1} + w_{6} + w_{7} + w_{9} + w_{10} + w_{12} + w_{13} + w_{17} + w_{21} + w_{22} + w_{23} \\leq 11$ \n",
    "\n",
    "$w_{0} + w_{1} + w_{3} + w_{6} + w_{7} + w_{10} + w_{12} + w_{13} + w_{14} + w_{21} + w_{22} + w_{23} \\leq 11$\n",
    "\n"
   ],
   "cell_type": "markdown",
   "metadata": {}
  },
  {
   "cell_type": "code",
   "execution_count": 148,
   "metadata": {},
   "outputs": [
    {
     "output_type": "stream",
     "name": "stdout",
     "text": [
      "Gurobi Optimizer version 9.0.3 build v9.0.3rc0 (linux64)\n",
      "Optimize a model with 8 rows, 24 columns and 109 nonzeros\n",
      "Model fingerprint: 0xd1e53754\n",
      "Variable types: 0 continuous, 24 integer (24 binary)\n",
      "Coefficient statistics:\n",
      "  Matrix range     [1e+00, 4e+08]\n",
      "  Objective range  [3e+08, 4e+08]\n",
      "  Bounds range     [1e+00, 1e+00]\n",
      "  RHS range        [1e+01, 3e+09]\n",
      "Warning: Model contains large matrix coefficients\n",
      "Warning: Model contains large rhs\n",
      "         Consider reformulating model or setting NumericFocus parameter\n",
      "         to avoid numerical issues.\n",
      "Found heuristic solution: objective 3.221291e+09\n",
      "Presolve time: 0.00s\n",
      "Presolved: 8 rows, 24 columns, 109 nonzeros\n",
      "Variable types: 0 continuous, 24 integer (24 binary)\n",
      "\n",
      "Root relaxation: objective 3.355443e+09, 11 iterations, 0.00 seconds\n",
      "\n",
      "    Nodes    |    Current Node    |     Objective Bounds      |     Work\n",
      " Expl Unexpl |  Obj  Depth IntInf | Incumbent    BestBd   Gap | It/Node Time\n",
      "\n",
      "     0     0 3.3554e+09    0    1 3.2213e+09 3.3554e+09  4.16%     -    0s\n",
      "H    0     0                    3.304523e+09 3.3554e+09  1.54%     -    0s\n",
      "H    0     0                    3.354854e+09 3.3554e+09  0.02%     -    0s\n",
      "*    0     0               0    3.355410e+09 3.3554e+09  0.00%     -    0s\n",
      "\n",
      "Cutting planes:\n",
      "  Cover: 1\n",
      "\n",
      "Explored 1 nodes (15 simplex iterations) in 0.01 seconds\n",
      "Thread count was 16 (of 16 available processors)\n",
      "\n",
      "Solution count 4: 3.35541e+09 3.35485e+09 3.30452e+09 3.22129e+09 \n",
      "\n",
      "Optimal solution found (tolerance 1.00e-04)\n",
      "Best objective 3.355410444000e+09, best bound 3.355410444000e+09, gap 0.0000%\n"
     ]
    }
   ],
   "source": [
    "m = run_model_with_new_constraints([sorted(x) for x in new_indexes.values()])"
   ]
  },
  {
   "cell_type": "code",
   "execution_count": 149,
   "metadata": {},
   "outputs": [
    {
     "output_type": "execute_result",
     "data": {
      "text/plain": [
       "0.013563156127929688"
      ]
     },
     "metadata": {},
     "execution_count": 149
    }
   ],
   "source": [
    "original_runtime - m.Runtime"
   ]
  },
  {
   "cell_type": "code",
   "execution_count": 153,
   "metadata": {},
   "outputs": [
    {
     "output_type": "execute_result",
     "data": {
      "text/plain": [
       "1.1019680768634743"
      ]
     },
     "metadata": {},
     "execution_count": 153
    }
   ],
   "source": [
    "(original_runtime - m.Runtime)/(original_runtime-0.01208806037902832)"
   ]
  },
  {
   "source": [
    "We can see an improvement of about 0.013563156127929688 seconds vs the model we first ran. Which compared to using all 47 found constraints that improve our time is about a 10% improvement and vs our original model we see an improvement of about 125.2%, so about twice as fast."
   ],
   "cell_type": "markdown",
   "metadata": {}
  },
  {
   "cell_type": "code",
   "execution_count": 119,
   "metadata": {},
   "outputs": [
    {
     "output_type": "stream",
     "name": "stdout",
     "text": [
      "1.0\n0.00957798957824707\n3355410444.0\n"
     ]
    }
   ],
   "source": [
    "print(m.NodeCount)\n",
    "print(m.Runtime)\n",
    "print(m.ObjVal)"
   ]
  },
  {
   "source": [
    "### - Our optimal solution (using a tolerance of $1\\times 10^{-4}$) is  ~ $3.355410444 \\times 10^{9}$\n",
    "### - The solution time is 0.00957798957824707 seconds\n",
    "### - The number of nodes explored is of 1 node"
   ],
   "cell_type": "markdown",
   "metadata": {}
  },
  {
   "cell_type": "code",
   "execution_count": null,
   "metadata": {},
   "outputs": [],
   "source": []
  }
 ]
}