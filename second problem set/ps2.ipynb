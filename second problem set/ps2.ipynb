{
 "metadata": {
  "language_info": {
   "codemirror_mode": {
    "name": "ipython",
    "version": 3
   },
   "file_extension": ".py",
   "mimetype": "text/x-python",
   "name": "python",
   "nbconvert_exporter": "python",
   "pygments_lexer": "ipython3",
   "version": 3
  },
  "orig_nbformat": 2
 },
 "nbformat": 4,
 "nbformat_minor": 2,
 "cells": [
  {
   "source": [
    "## Daniel Alonso, UID: 100444499"
   ],
   "cell_type": "markdown",
   "metadata": {}
  },
  {
   "source": [
    "<img src='./images/1.png'>"
   ],
   "cell_type": "markdown",
   "metadata": {}
  },
  {
   "source": [
    "<img src='./images/2.png'>"
   ],
   "cell_type": "markdown",
   "metadata": {}
  },
  {
   "source": [
    "## Problem 1-a"
   ],
   "cell_type": "markdown",
   "metadata": {}
  },
  {
   "source": [
    "Let $i$ be the source of a movement and $j$ be the destination\n",
    "\n",
    "Let $x$ be movements from one node to another, where $x_{i,j}$ represents the movement from node $i$ to node $j$"
   ],
   "cell_type": "markdown",
   "metadata": {}
  },
  {
   "source": [
    "Integer Optimization Formulation:\n",
    "\n",
    "minimize $44x_{1,2} + 18x_{1,3} + 85x_{1,4} + 17x_{2,5} + 13x_{2,6} + 55x_{3,5} + 53x_{3,6} + 7x_{3,7} + 26x_{4,6} + 66x_{4,7} + 6x_{5,8} + 7x_{5,9} + 26x_{6,8} + 66x_{6,9} + 26x_{6,10} + 6x_{7,9} + 60x_{7,10} + 58x_{8,11} + 70x_{9,11} + 27x_{10,11}$\n",
    "\n",
    "subject to:\n",
    "\n",
    "$x_{1,2} + x_{1,3} + x_{1,4} = 1$\n",
    "\n",
    "$x_{1,2} - x_{1,5} - x_{1,6} = 0 $\n",
    "\n",
    "$x_{1,3} - x_{3,5} - x_{3,6} - x_{3,7} = 0$\n",
    "\n",
    "$x_{1,4} - x_{4,6} - x_{4,7} = 0$\n",
    "\n",
    "$x_{2,5} + x_{3,5} - x_{5,8} - x_{5,9} = 0$\n",
    "\n",
    "$x_{2,6} + x_{3,6} + x_{4,6} - x_{6,8} - x_{6,9} - x_{6,10} = 0$\n",
    "\n",
    "$x_{3,7} + x_{4,7} - x_{7,9} - x_{7,10} = 0$\n",
    "\n",
    "$x_{5,8} + x_{6,8} - x_{8,11} = 0$\n",
    "\n",
    "$x_{5,9} + x_{6,9} + x_{7,9} - x_{9,11} = 0$\n",
    "\n",
    "$x_{6,10} + x_{7,10} - x_{10,11} = 0$\n",
    "\n",
    "$x_{8,11} + x_{9,11} + x_{10,11} = 1$"
   ],
   "cell_type": "markdown",
   "metadata": {}
  },
  {
   "source": [
    "## Problem 1-b"
   ],
   "cell_type": "markdown",
   "metadata": {}
  },
  {
   "cell_type": "code",
   "execution_count": null,
   "metadata": {},
   "outputs": [],
   "source": []
  }
 ]
}