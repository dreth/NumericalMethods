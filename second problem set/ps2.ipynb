{
 "metadata": {
  "language_info": {
   "codemirror_mode": {
    "name": "ipython",
    "version": 3
   },
   "file_extension": ".py",
   "mimetype": "text/x-python",
   "name": "python",
   "nbconvert_exporter": "python",
   "pygments_lexer": "ipython3",
   "version": "3.7.8-final"
  },
  "orig_nbformat": 2,
  "kernelspec": {
   "name": "Python 3.7.8 64-bit ('nummethods': conda)",
   "display_name": "Python 3.7.8 64-bit ('nummethods': conda)",
   "metadata": {
    "interpreter": {
     "hash": "44a90b8c0c2b56e1b7c7e9c11eeb3509ad2ed5005236e2a04392aa8b65363be8"
    }
   }
  }
 },
 "nbformat": 4,
 "nbformat_minor": 2,
 "cells": [
  {
   "source": [
    "## Daniel Alonso, UID: 100444499"
   ],
   "cell_type": "markdown",
   "metadata": {}
  },
  {
   "source": [
    "<img src='./images/1.png'>"
   ],
   "cell_type": "markdown",
   "metadata": {}
  },
  {
   "source": [
    "<img src='./images/2.png'>"
   ],
   "cell_type": "markdown",
   "metadata": {}
  },
  {
   "source": [
    "## Problem 1-a"
   ],
   "cell_type": "markdown",
   "metadata": {}
  },
  {
   "source": [
    "Let $i$ be the source of a movement and $j$ be the destination\n",
    "\n",
    "Let $x$ be movements from one node to another, where $x_{i,j}$ represents the movement from node $i$ to node $j$"
   ],
   "cell_type": "markdown",
   "metadata": {}
  },
  {
   "source": [
    "Integer optimization formulation:\n",
    "\n",
    "minimize $44x_{1,2} + 18x_{1,3} + 85x_{1,4} + 17x_{2,5} + 13x_{2,6} + 55x_{3,5} + 53x_{3,6} + 7x_{3,7} + 26x_{4,6} + 66x_{4,7} + 6x_{5,8} + 7x_{5,9} + 26x_{6,8} + 66x_{6,9} + 26x_{6,10} + 6x_{7,9} + 60x_{7,10} + 58x_{8,11} + 70x_{9,11} + 27x_{10,11}$\n",
    "\n",
    "subject to:\n",
    "\n",
    "$x_{1,2} + x_{1,3} + x_{1,4} = 1$\n",
    "\n",
    "$x_{1,2} - x_{1,5} - x_{1,6} = 0 $\n",
    "\n",
    "$x_{1,3} - x_{3,5} - x_{3,6} - x_{3,7} = 0$\n",
    "\n",
    "$x_{1,4} - x_{4,6} - x_{4,7} = 0$\n",
    "\n",
    "$x_{2,5} + x_{3,5} - x_{5,8} - x_{5,9} = 0$\n",
    "\n",
    "$x_{2,6} + x_{3,6} + x_{4,6} - x_{6,8} - x_{6,9} - x_{6,10} = 0$\n",
    "\n",
    "$x_{3,7} + x_{4,7} - x_{7,9} - x_{7,10} = 0$\n",
    "\n",
    "$x_{5,8} + x_{6,8} - x_{8,11} = 0$\n",
    "\n",
    "$x_{5,9} + x_{6,9} + x_{7,9} - x_{9,11} = 0$\n",
    "\n",
    "$x_{6,10} + x_{7,10} - x_{10,11} = 0$\n",
    "\n",
    "$x_{8,11} + x_{9,11} + x_{10,11} = 1$"
   ],
   "cell_type": "markdown",
   "metadata": {}
  },
  {
   "source": [
    "The integer optimization formulation (in my opinion) is more appropriate. It not only will provide the optimal integer solution but it also describes the problem better and more accurately."
   ],
   "cell_type": "markdown",
   "metadata": {}
  },
  {
   "source": [
    "## Problem 1-b"
   ],
   "cell_type": "markdown",
   "metadata": {}
  },
  {
   "cell_type": "code",
   "execution_count": 11,
   "metadata": {},
   "outputs": [],
   "source": [
    "# Gurobi-python implementation\n",
    "from gurobipy import *"
   ]
  },
  {
   "cell_type": "code",
   "execution_count": 14,
   "metadata": {},
   "outputs": [],
   "source": [
    "years = range(0,20)\n",
    "projects = range(0,11)"
   ]
  },
  {
   "cell_type": "code",
   "execution_count": 15,
   "metadata": {},
   "outputs": [
    {
     "output_type": "error",
     "ename": "IndexError",
     "evalue": "list index out of range",
     "traceback": [
      "\u001b[0;31m---------------------------------------------------------------------------\u001b[0m",
      "\u001b[0;31mIndexError\u001b[0m                                Traceback (most recent call last)",
      "\u001b[0;32m<ipython-input-15-a49cad54007e>\u001b[0m in \u001b[0;36m<module>\u001b[0;34m()\u001b[0m\n\u001b[1;32m     21\u001b[0m \u001b[0;34m\u001b[0m\u001b[0m\n\u001b[1;32m     22\u001b[0m A = {i : {j : A_coeff[i][j] for j in projects} \n\u001b[0;32m---> 23\u001b[0;31m     for i in years}\n\u001b[0m\u001b[1;32m     24\u001b[0m \u001b[0;34m\u001b[0m\u001b[0m\n\u001b[1;32m     25\u001b[0m \u001b[0mb\u001b[0m \u001b[0;34m=\u001b[0m \u001b[0;34m{\u001b[0m\u001b[0mi\u001b[0m \u001b[0;34m:\u001b[0m \u001b[0mb_coeff\u001b[0m\u001b[0;34m[\u001b[0m\u001b[0mi\u001b[0m\u001b[0;34m]\u001b[0m \u001b[0;32mfor\u001b[0m \u001b[0mi\u001b[0m \u001b[0;32min\u001b[0m \u001b[0myears\u001b[0m\u001b[0;34m}\u001b[0m\u001b[0;34m\u001b[0m\u001b[0;34m\u001b[0m\u001b[0m\n",
      "\u001b[0;32m<ipython-input-15-a49cad54007e>\u001b[0m in \u001b[0;36m<dictcomp>\u001b[0;34m(.0)\u001b[0m\n\u001b[1;32m     21\u001b[0m \u001b[0;34m\u001b[0m\u001b[0m\n\u001b[1;32m     22\u001b[0m A = {i : {j : A_coeff[i][j] for j in projects} \n\u001b[0;32m---> 23\u001b[0;31m     for i in years}\n\u001b[0m\u001b[1;32m     24\u001b[0m \u001b[0;34m\u001b[0m\u001b[0m\n\u001b[1;32m     25\u001b[0m \u001b[0mb\u001b[0m \u001b[0;34m=\u001b[0m \u001b[0;34m{\u001b[0m\u001b[0mi\u001b[0m \u001b[0;34m:\u001b[0m \u001b[0mb_coeff\u001b[0m\u001b[0;34m[\u001b[0m\u001b[0mi\u001b[0m\u001b[0;34m]\u001b[0m \u001b[0;32mfor\u001b[0m \u001b[0mi\u001b[0m \u001b[0;32min\u001b[0m \u001b[0myears\u001b[0m\u001b[0;34m}\u001b[0m\u001b[0;34m\u001b[0m\u001b[0;34m\u001b[0m\u001b[0m\n",
      "\u001b[0;32m<ipython-input-15-a49cad54007e>\u001b[0m in \u001b[0;36m<dictcomp>\u001b[0;34m(.0)\u001b[0m\n\u001b[1;32m     20\u001b[0m \u001b[0mr\u001b[0m \u001b[0;34m=\u001b[0m \u001b[0;34m{\u001b[0m\u001b[0mj\u001b[0m \u001b[0;34m:\u001b[0m \u001b[0mr_coeff\u001b[0m\u001b[0;34m[\u001b[0m\u001b[0mj\u001b[0m\u001b[0;34m]\u001b[0m \u001b[0;32mfor\u001b[0m \u001b[0mj\u001b[0m \u001b[0;32min\u001b[0m \u001b[0mprojects\u001b[0m\u001b[0;34m}\u001b[0m\u001b[0;34m\u001b[0m\u001b[0;34m\u001b[0m\u001b[0m\n\u001b[1;32m     21\u001b[0m \u001b[0;34m\u001b[0m\u001b[0m\n\u001b[0;32m---> 22\u001b[0;31m A = {i : {j : A_coeff[i][j] for j in projects} \n\u001b[0m\u001b[1;32m     23\u001b[0m     for i in years}\n\u001b[1;32m     24\u001b[0m \u001b[0;34m\u001b[0m\u001b[0m\n",
      "\u001b[0;31mIndexError\u001b[0m: list index out of range"
     ]
    }
   ],
   "source": [
    "# primal objective coefficients\n",
    "r_coeff = [44, 18, 85, 17, 13, 55, 53, 7, 26, 66, 6, 7, 26, 66, 26, 6, 60, 58, 70, 27] \n",
    "\n",
    "# left-hand side (LHS) coefficients (matrix A)\n",
    "A_coeff = [[1, 1, 1],\n",
    "           [1, -1, -1],\n",
    "           [1, -1, -1, -1],\n",
    "           [1, -1, -1],\n",
    "           [1, 1, -1, -1],\n",
    "           [1, 1, 1, -1, -1, -1],\n",
    "           [1, 1, -1, -1],\n",
    "           [1, 1, -1],\n",
    "           [1, 1, 1, -1],\n",
    "           [1, 1, -1],\n",
    "           [1, 1, 1]]\n",
    "\n",
    "# right-hand side (RHS) coefficients\n",
    "b_coeff = [1, 0, 0, 0, 0, 0, 0, 0, 0, 0, 1]\n",
    "\n",
    "r = {j : r_coeff[j] for j in projects}\n",
    "\n",
    "A = {i : {j : A_coeff[i][j] for j in projects} \n",
    "    for i in years}\n",
    "\n",
    "b = {i : b_coeff[i] for i in years}\n",
    "\n",
    "model = Model('projectsip1')\n",
    "\n",
    "x = model.addVars(projects, name=\"x\", vtype=GRB.BINARY)\n",
    "\n",
    "# Capacity constraints\n",
    "model.addConstrs((quicksum(A[i][j] * x[j] for j in projects)\n",
    "                           <= b[i] \n",
    "                            for i in years))\n",
    "\n",
    "# Variable upper bound constraints\n",
    "model.addConstrs((x[j] <= 1 for j in projects))\n",
    "\n",
    "# Objective\n",
    "obj = quicksum(r[j] * x[j] for j in projects)\n",
    "\n",
    "model.setObjective(obj, GRB.MINIMIZE)\n",
    "\n",
    "# disable Presolve\n",
    "model.setParam(GRB.Param.Presolve, 0)\n",
    "# disable Heuristics\n",
    "model.setParam(GRB.Param.Heuristics, 0)\n",
    "# disable Cuts\n",
    "model.setParam(GRB.Param.Cuts, 0)\n",
    "        \n",
    "model.optimize()\n",
    "\n",
    "# Display solution (print the name of each variable and the solution value)\n",
    "print('--------------------------------')\n",
    "print('\\nOptimal solution:\\n')\n",
    "\n",
    "print('Variable Information:')\n",
    "                 \n",
    "for v in model.getVars():\n",
    "    print(\"%s %s %8.2f\" % \n",
    "              (v.Varname, \"=\", v.X))\n",
    "    \n",
    "    print(\" \")\n",
    "        \n",
    "print('\\nOptimal objective value: %g' % model.objVal)\n"
   ]
  },
  {
   "source": [
    "## Problem 1-c"
   ],
   "cell_type": "markdown",
   "metadata": {}
  },
  {
   "source": [
    "<img src='./images/3.png'>"
   ],
   "cell_type": "markdown",
   "metadata": {}
  },
  {
   "source": [
    "## Problem 2-a"
   ],
   "cell_type": "markdown",
   "metadata": {}
  },
  {
   "cell_type": "code",
   "execution_count": null,
   "metadata": {},
   "outputs": [],
   "source": []
  },
  {
   "source": [
    "## Problem 2-b"
   ],
   "cell_type": "markdown",
   "metadata": {}
  },
  {
   "cell_type": "code",
   "execution_count": 16,
   "metadata": {},
   "outputs": [],
   "source": [
    "years = range(0,3)\n",
    "projects = range(0,4)"
   ]
  },
  {
   "cell_type": "code",
   "execution_count": null,
   "metadata": {},
   "outputs": [],
   "source": [
    "# primal objective coefficients\n",
    "r_coeff = [44, 18, 85, 17, 13, 55, 53, 7, 26, 66, 6, 7, 26, 66, 26, 6, 60, 58, 70, 27] \n",
    "\n",
    "# left-hand side (LHS) coefficients (matrix A)\n",
    "A_coeff = [[1, 1, 1],\n",
    "           [1, -1, -1],\n",
    "           [1, -1, -1, -1],\n",
    "           [1, -1, -1],\n",
    "           [1, 1, -1, -1],\n",
    "           [1, 1, 1, -1, -1, -1],\n",
    "           [1, 1, -1, -1],\n",
    "           [1, 1, -1],\n",
    "           [1, 1, 1, -1],\n",
    "           [1, 1, -1],\n",
    "           [1, 1, 1]]\n",
    "\n",
    "# right-hand side (RHS) coefficients\n",
    "b_coeff = [1, 0, 0, 0, 0, 0, 0, 0, 0, 0, 1]\n",
    "\n",
    "r = {j : r_coeff[j] for j in projects}\n",
    "\n",
    "A = {i : {j : A_coeff[i][j] for j in projects} \n",
    "    for i in years}\n",
    "\n",
    "b = {i : b_coeff[i] for i in years}\n",
    "\n",
    "model = Model('projectsip1')\n",
    "\n",
    "x = model.addVars(projects, name=\"x\", vtype=GRB.BINARY)\n",
    "\n",
    "# Capacity constraints\n",
    "model.addConstrs((quicksum(A[i][j] * x[j] for j in projects)\n",
    "                           <= b[i] \n",
    "                            for i in years))\n",
    "\n",
    "# Variable upper bound constraints\n",
    "model.addConstrs((x[j] <= 1 for j in projects))\n",
    "\n",
    "# Objective\n",
    "obj = quicksum(r[j] * x[j] for j in projects)\n",
    "\n",
    "model.setObjective(obj, GRB.MINIMIZE)\n",
    "\n",
    "# disable Presolve\n",
    "model.setParam(GRB.Param.Presolve, 0)\n",
    "# disable Heuristics\n",
    "model.setParam(GRB.Param.Heuristics, 0)\n",
    "# disable Cuts\n",
    "model.setParam(GRB.Param.Cuts, 0)\n",
    "        \n",
    "model.optimize()\n",
    "\n",
    "# Display solution (print the name of each variable and the solution value)\n",
    "print('--------------------------------')\n",
    "print('\\nOptimal solution:\\n')\n",
    "\n",
    "print('Variable Information:')\n",
    "                 \n",
    "for v in model.getVars():\n",
    "    print(\"%s %s %8.2f\" % \n",
    "              (v.Varname, \"=\", v.X))\n",
    "    \n",
    "    print(\" \")\n",
    "        \n",
    "print('\\nOptimal objective value: %g' % model.objVal)\n"
   ]
  }
 ]
}